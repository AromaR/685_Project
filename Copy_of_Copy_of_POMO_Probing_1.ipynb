{
  "nbformat": 4,
  "nbformat_minor": 0,
  "metadata": {
    "accelerator": "GPU",
    "colab": {
      "name": "Copy of Copy of POMO_Probing_1.ipynb",
      "provenance": [],
      "collapsed_sections": [],
      "include_colab_link": true
    },
    "kernelspec": {
      "display_name": "Python 3",
      "name": "python3"
    },
    "widgets": {
      "application/vnd.jupyter.widget-state+json": {
        "4da8cb376730420a8bd3c230edac38ad": {
          "model_module": "@jupyter-widgets/controls",
          "model_name": "HBoxModel",
          "state": {
            "_view_name": "HBoxView",
            "_dom_classes": [],
            "_model_name": "HBoxModel",
            "_view_module": "@jupyter-widgets/controls",
            "_model_module_version": "1.5.0",
            "_view_count": null,
            "_view_module_version": "1.5.0",
            "box_style": "",
            "layout": "IPY_MODEL_e4bdb5ec6f994666b489458a0361a7d8",
            "_model_module": "@jupyter-widgets/controls",
            "children": [
              "IPY_MODEL_f7fee67efd674332b5ea5464152e7e3a",
              "IPY_MODEL_a49053b35fd64d868efa2a3b45e86121"
            ]
          }
        },
        "e4bdb5ec6f994666b489458a0361a7d8": {
          "model_module": "@jupyter-widgets/base",
          "model_name": "LayoutModel",
          "state": {
            "_view_name": "LayoutView",
            "grid_template_rows": null,
            "right": null,
            "justify_content": null,
            "_view_module": "@jupyter-widgets/base",
            "overflow": null,
            "_model_module_version": "1.2.0",
            "_view_count": null,
            "flex_flow": null,
            "width": null,
            "min_width": null,
            "border": null,
            "align_items": null,
            "bottom": null,
            "_model_module": "@jupyter-widgets/base",
            "top": null,
            "grid_column": null,
            "overflow_y": null,
            "overflow_x": null,
            "grid_auto_flow": null,
            "grid_area": null,
            "grid_template_columns": null,
            "flex": null,
            "_model_name": "LayoutModel",
            "justify_items": null,
            "grid_row": null,
            "max_height": null,
            "align_content": null,
            "visibility": null,
            "align_self": null,
            "height": null,
            "min_height": null,
            "padding": null,
            "grid_auto_rows": null,
            "grid_gap": null,
            "max_width": null,
            "order": null,
            "_view_module_version": "1.2.0",
            "grid_template_areas": null,
            "object_position": null,
            "object_fit": null,
            "grid_auto_columns": null,
            "margin": null,
            "display": null,
            "left": null
          }
        },
        "f7fee67efd674332b5ea5464152e7e3a": {
          "model_module": "@jupyter-widgets/controls",
          "model_name": "FloatProgressModel",
          "state": {
            "_view_name": "ProgressView",
            "style": "IPY_MODEL_10512393dde74c62b9af6b04d8ba0a0e",
            "_dom_classes": [],
            "description": "Downloading: 100%",
            "_model_name": "FloatProgressModel",
            "bar_style": "success",
            "max": 231508,
            "_view_module": "@jupyter-widgets/controls",
            "_model_module_version": "1.5.0",
            "value": 231508,
            "_view_count": null,
            "_view_module_version": "1.5.0",
            "orientation": "horizontal",
            "min": 0,
            "description_tooltip": null,
            "_model_module": "@jupyter-widgets/controls",
            "layout": "IPY_MODEL_2163514a38e84b1183615b823366a5de"
          }
        },
        "a49053b35fd64d868efa2a3b45e86121": {
          "model_module": "@jupyter-widgets/controls",
          "model_name": "HTMLModel",
          "state": {
            "_view_name": "HTMLView",
            "style": "IPY_MODEL_493328359d0a42908f7d8fb85b1fcaa7",
            "_dom_classes": [],
            "description": "",
            "_model_name": "HTMLModel",
            "placeholder": "​",
            "_view_module": "@jupyter-widgets/controls",
            "_model_module_version": "1.5.0",
            "value": " 232k/232k [00:00&lt;00:00, 774kB/s]",
            "_view_count": null,
            "_view_module_version": "1.5.0",
            "description_tooltip": null,
            "_model_module": "@jupyter-widgets/controls",
            "layout": "IPY_MODEL_0b80fae464884e4d8a649a6881a3ff22"
          }
        },
        "10512393dde74c62b9af6b04d8ba0a0e": {
          "model_module": "@jupyter-widgets/controls",
          "model_name": "ProgressStyleModel",
          "state": {
            "_view_name": "StyleView",
            "_model_name": "ProgressStyleModel",
            "description_width": "initial",
            "_view_module": "@jupyter-widgets/base",
            "_model_module_version": "1.5.0",
            "_view_count": null,
            "_view_module_version": "1.2.0",
            "bar_color": null,
            "_model_module": "@jupyter-widgets/controls"
          }
        },
        "2163514a38e84b1183615b823366a5de": {
          "model_module": "@jupyter-widgets/base",
          "model_name": "LayoutModel",
          "state": {
            "_view_name": "LayoutView",
            "grid_template_rows": null,
            "right": null,
            "justify_content": null,
            "_view_module": "@jupyter-widgets/base",
            "overflow": null,
            "_model_module_version": "1.2.0",
            "_view_count": null,
            "flex_flow": null,
            "width": null,
            "min_width": null,
            "border": null,
            "align_items": null,
            "bottom": null,
            "_model_module": "@jupyter-widgets/base",
            "top": null,
            "grid_column": null,
            "overflow_y": null,
            "overflow_x": null,
            "grid_auto_flow": null,
            "grid_area": null,
            "grid_template_columns": null,
            "flex": null,
            "_model_name": "LayoutModel",
            "justify_items": null,
            "grid_row": null,
            "max_height": null,
            "align_content": null,
            "visibility": null,
            "align_self": null,
            "height": null,
            "min_height": null,
            "padding": null,
            "grid_auto_rows": null,
            "grid_gap": null,
            "max_width": null,
            "order": null,
            "_view_module_version": "1.2.0",
            "grid_template_areas": null,
            "object_position": null,
            "object_fit": null,
            "grid_auto_columns": null,
            "margin": null,
            "display": null,
            "left": null
          }
        },
        "493328359d0a42908f7d8fb85b1fcaa7": {
          "model_module": "@jupyter-widgets/controls",
          "model_name": "DescriptionStyleModel",
          "state": {
            "_view_name": "StyleView",
            "_model_name": "DescriptionStyleModel",
            "description_width": "",
            "_view_module": "@jupyter-widgets/base",
            "_model_module_version": "1.5.0",
            "_view_count": null,
            "_view_module_version": "1.2.0",
            "_model_module": "@jupyter-widgets/controls"
          }
        },
        "0b80fae464884e4d8a649a6881a3ff22": {
          "model_module": "@jupyter-widgets/base",
          "model_name": "LayoutModel",
          "state": {
            "_view_name": "LayoutView",
            "grid_template_rows": null,
            "right": null,
            "justify_content": null,
            "_view_module": "@jupyter-widgets/base",
            "overflow": null,
            "_model_module_version": "1.2.0",
            "_view_count": null,
            "flex_flow": null,
            "width": null,
            "min_width": null,
            "border": null,
            "align_items": null,
            "bottom": null,
            "_model_module": "@jupyter-widgets/base",
            "top": null,
            "grid_column": null,
            "overflow_y": null,
            "overflow_x": null,
            "grid_auto_flow": null,
            "grid_area": null,
            "grid_template_columns": null,
            "flex": null,
            "_model_name": "LayoutModel",
            "justify_items": null,
            "grid_row": null,
            "max_height": null,
            "align_content": null,
            "visibility": null,
            "align_self": null,
            "height": null,
            "min_height": null,
            "padding": null,
            "grid_auto_rows": null,
            "grid_gap": null,
            "max_width": null,
            "order": null,
            "_view_module_version": "1.2.0",
            "grid_template_areas": null,
            "object_position": null,
            "object_fit": null,
            "grid_auto_columns": null,
            "margin": null,
            "display": null,
            "left": null
          }
        },
        "5da51133cdbc44b889a974825ea98742": {
          "model_module": "@jupyter-widgets/controls",
          "model_name": "HBoxModel",
          "state": {
            "_view_name": "HBoxView",
            "_dom_classes": [],
            "_model_name": "HBoxModel",
            "_view_module": "@jupyter-widgets/controls",
            "_model_module_version": "1.5.0",
            "_view_count": null,
            "_view_module_version": "1.5.0",
            "box_style": "",
            "layout": "IPY_MODEL_632acfc5434b4c4e8b04a1ce6e981499",
            "_model_module": "@jupyter-widgets/controls",
            "children": [
              "IPY_MODEL_5c22f447542c4085a7a7c2ccc4381b92",
              "IPY_MODEL_d14d99e0c07f44d8bc2621364ddbbb21"
            ]
          }
        },
        "632acfc5434b4c4e8b04a1ce6e981499": {
          "model_module": "@jupyter-widgets/base",
          "model_name": "LayoutModel",
          "state": {
            "_view_name": "LayoutView",
            "grid_template_rows": null,
            "right": null,
            "justify_content": null,
            "_view_module": "@jupyter-widgets/base",
            "overflow": null,
            "_model_module_version": "1.2.0",
            "_view_count": null,
            "flex_flow": null,
            "width": null,
            "min_width": null,
            "border": null,
            "align_items": null,
            "bottom": null,
            "_model_module": "@jupyter-widgets/base",
            "top": null,
            "grid_column": null,
            "overflow_y": null,
            "overflow_x": null,
            "grid_auto_flow": null,
            "grid_area": null,
            "grid_template_columns": null,
            "flex": null,
            "_model_name": "LayoutModel",
            "justify_items": null,
            "grid_row": null,
            "max_height": null,
            "align_content": null,
            "visibility": null,
            "align_self": null,
            "height": null,
            "min_height": null,
            "padding": null,
            "grid_auto_rows": null,
            "grid_gap": null,
            "max_width": null,
            "order": null,
            "_view_module_version": "1.2.0",
            "grid_template_areas": null,
            "object_position": null,
            "object_fit": null,
            "grid_auto_columns": null,
            "margin": null,
            "display": null,
            "left": null
          }
        },
        "5c22f447542c4085a7a7c2ccc4381b92": {
          "model_module": "@jupyter-widgets/controls",
          "model_name": "FloatProgressModel",
          "state": {
            "_view_name": "ProgressView",
            "style": "IPY_MODEL_608207a9815b41698652c3f52f73996e",
            "_dom_classes": [],
            "description": "Downloading: 100%",
            "_model_name": "FloatProgressModel",
            "bar_style": "success",
            "max": 433,
            "_view_module": "@jupyter-widgets/controls",
            "_model_module_version": "1.5.0",
            "value": 433,
            "_view_count": null,
            "_view_module_version": "1.5.0",
            "orientation": "horizontal",
            "min": 0,
            "description_tooltip": null,
            "_model_module": "@jupyter-widgets/controls",
            "layout": "IPY_MODEL_463f9e3c58574e3b9bf608239219cf1f"
          }
        },
        "d14d99e0c07f44d8bc2621364ddbbb21": {
          "model_module": "@jupyter-widgets/controls",
          "model_name": "HTMLModel",
          "state": {
            "_view_name": "HTMLView",
            "style": "IPY_MODEL_932cdf42730a4058a90664233fd23d5b",
            "_dom_classes": [],
            "description": "",
            "_model_name": "HTMLModel",
            "placeholder": "​",
            "_view_module": "@jupyter-widgets/controls",
            "_model_module_version": "1.5.0",
            "value": " 433/433 [00:00&lt;00:00, 502B/s]",
            "_view_count": null,
            "_view_module_version": "1.5.0",
            "description_tooltip": null,
            "_model_module": "@jupyter-widgets/controls",
            "layout": "IPY_MODEL_76078509787d450aa580a5457e8c898d"
          }
        },
        "608207a9815b41698652c3f52f73996e": {
          "model_module": "@jupyter-widgets/controls",
          "model_name": "ProgressStyleModel",
          "state": {
            "_view_name": "StyleView",
            "_model_name": "ProgressStyleModel",
            "description_width": "initial",
            "_view_module": "@jupyter-widgets/base",
            "_model_module_version": "1.5.0",
            "_view_count": null,
            "_view_module_version": "1.2.0",
            "bar_color": null,
            "_model_module": "@jupyter-widgets/controls"
          }
        },
        "463f9e3c58574e3b9bf608239219cf1f": {
          "model_module": "@jupyter-widgets/base",
          "model_name": "LayoutModel",
          "state": {
            "_view_name": "LayoutView",
            "grid_template_rows": null,
            "right": null,
            "justify_content": null,
            "_view_module": "@jupyter-widgets/base",
            "overflow": null,
            "_model_module_version": "1.2.0",
            "_view_count": null,
            "flex_flow": null,
            "width": null,
            "min_width": null,
            "border": null,
            "align_items": null,
            "bottom": null,
            "_model_module": "@jupyter-widgets/base",
            "top": null,
            "grid_column": null,
            "overflow_y": null,
            "overflow_x": null,
            "grid_auto_flow": null,
            "grid_area": null,
            "grid_template_columns": null,
            "flex": null,
            "_model_name": "LayoutModel",
            "justify_items": null,
            "grid_row": null,
            "max_height": null,
            "align_content": null,
            "visibility": null,
            "align_self": null,
            "height": null,
            "min_height": null,
            "padding": null,
            "grid_auto_rows": null,
            "grid_gap": null,
            "max_width": null,
            "order": null,
            "_view_module_version": "1.2.0",
            "grid_template_areas": null,
            "object_position": null,
            "object_fit": null,
            "grid_auto_columns": null,
            "margin": null,
            "display": null,
            "left": null
          }
        },
        "932cdf42730a4058a90664233fd23d5b": {
          "model_module": "@jupyter-widgets/controls",
          "model_name": "DescriptionStyleModel",
          "state": {
            "_view_name": "StyleView",
            "_model_name": "DescriptionStyleModel",
            "description_width": "",
            "_view_module": "@jupyter-widgets/base",
            "_model_module_version": "1.5.0",
            "_view_count": null,
            "_view_module_version": "1.2.0",
            "_model_module": "@jupyter-widgets/controls"
          }
        },
        "76078509787d450aa580a5457e8c898d": {
          "model_module": "@jupyter-widgets/base",
          "model_name": "LayoutModel",
          "state": {
            "_view_name": "LayoutView",
            "grid_template_rows": null,
            "right": null,
            "justify_content": null,
            "_view_module": "@jupyter-widgets/base",
            "overflow": null,
            "_model_module_version": "1.2.0",
            "_view_count": null,
            "flex_flow": null,
            "width": null,
            "min_width": null,
            "border": null,
            "align_items": null,
            "bottom": null,
            "_model_module": "@jupyter-widgets/base",
            "top": null,
            "grid_column": null,
            "overflow_y": null,
            "overflow_x": null,
            "grid_auto_flow": null,
            "grid_area": null,
            "grid_template_columns": null,
            "flex": null,
            "_model_name": "LayoutModel",
            "justify_items": null,
            "grid_row": null,
            "max_height": null,
            "align_content": null,
            "visibility": null,
            "align_self": null,
            "height": null,
            "min_height": null,
            "padding": null,
            "grid_auto_rows": null,
            "grid_gap": null,
            "max_width": null,
            "order": null,
            "_view_module_version": "1.2.0",
            "grid_template_areas": null,
            "object_position": null,
            "object_fit": null,
            "grid_auto_columns": null,
            "margin": null,
            "display": null,
            "left": null
          }
        },
        "27f9e949e3874d09845a3ff1c55c7c61": {
          "model_module": "@jupyter-widgets/controls",
          "model_name": "HBoxModel",
          "state": {
            "_view_name": "HBoxView",
            "_dom_classes": [],
            "_model_name": "HBoxModel",
            "_view_module": "@jupyter-widgets/controls",
            "_model_module_version": "1.5.0",
            "_view_count": null,
            "_view_module_version": "1.5.0",
            "box_style": "",
            "layout": "IPY_MODEL_0ec5e103ed1e4fcabacc2f1cef088b7b",
            "_model_module": "@jupyter-widgets/controls",
            "children": [
              "IPY_MODEL_340ea03384f1464093e4c3a6a8017b0a",
              "IPY_MODEL_1aeafd2e6d9140e9b744951925ca22ae"
            ]
          }
        },
        "0ec5e103ed1e4fcabacc2f1cef088b7b": {
          "model_module": "@jupyter-widgets/base",
          "model_name": "LayoutModel",
          "state": {
            "_view_name": "LayoutView",
            "grid_template_rows": null,
            "right": null,
            "justify_content": null,
            "_view_module": "@jupyter-widgets/base",
            "overflow": null,
            "_model_module_version": "1.2.0",
            "_view_count": null,
            "flex_flow": null,
            "width": null,
            "min_width": null,
            "border": null,
            "align_items": null,
            "bottom": null,
            "_model_module": "@jupyter-widgets/base",
            "top": null,
            "grid_column": null,
            "overflow_y": null,
            "overflow_x": null,
            "grid_auto_flow": null,
            "grid_area": null,
            "grid_template_columns": null,
            "flex": null,
            "_model_name": "LayoutModel",
            "justify_items": null,
            "grid_row": null,
            "max_height": null,
            "align_content": null,
            "visibility": null,
            "align_self": null,
            "height": null,
            "min_height": null,
            "padding": null,
            "grid_auto_rows": null,
            "grid_gap": null,
            "max_width": null,
            "order": null,
            "_view_module_version": "1.2.0",
            "grid_template_areas": null,
            "object_position": null,
            "object_fit": null,
            "grid_auto_columns": null,
            "margin": null,
            "display": null,
            "left": null
          }
        },
        "340ea03384f1464093e4c3a6a8017b0a": {
          "model_module": "@jupyter-widgets/controls",
          "model_name": "FloatProgressModel",
          "state": {
            "_view_name": "ProgressView",
            "style": "IPY_MODEL_d297958314b140ad9bf914daeca4ca39",
            "_dom_classes": [],
            "description": "Downloading: 100%",
            "_model_name": "FloatProgressModel",
            "bar_style": "success",
            "max": 440473133,
            "_view_module": "@jupyter-widgets/controls",
            "_model_module_version": "1.5.0",
            "value": 440473133,
            "_view_count": null,
            "_view_module_version": "1.5.0",
            "orientation": "horizontal",
            "min": 0,
            "description_tooltip": null,
            "_model_module": "@jupyter-widgets/controls",
            "layout": "IPY_MODEL_3c957063f2084405a4745f58e807a499"
          }
        },
        "1aeafd2e6d9140e9b744951925ca22ae": {
          "model_module": "@jupyter-widgets/controls",
          "model_name": "HTMLModel",
          "state": {
            "_view_name": "HTMLView",
            "style": "IPY_MODEL_42e4b15f984942beaa4383357aa639d8",
            "_dom_classes": [],
            "description": "",
            "_model_name": "HTMLModel",
            "placeholder": "​",
            "_view_module": "@jupyter-widgets/controls",
            "_model_module_version": "1.5.0",
            "value": " 440M/440M [00:09&lt;00:00, 44.2MB/s]",
            "_view_count": null,
            "_view_module_version": "1.5.0",
            "description_tooltip": null,
            "_model_module": "@jupyter-widgets/controls",
            "layout": "IPY_MODEL_ba6ee69cadfa4c40ab3e98923b9c2cd4"
          }
        },
        "d297958314b140ad9bf914daeca4ca39": {
          "model_module": "@jupyter-widgets/controls",
          "model_name": "ProgressStyleModel",
          "state": {
            "_view_name": "StyleView",
            "_model_name": "ProgressStyleModel",
            "description_width": "initial",
            "_view_module": "@jupyter-widgets/base",
            "_model_module_version": "1.5.0",
            "_view_count": null,
            "_view_module_version": "1.2.0",
            "bar_color": null,
            "_model_module": "@jupyter-widgets/controls"
          }
        },
        "3c957063f2084405a4745f58e807a499": {
          "model_module": "@jupyter-widgets/base",
          "model_name": "LayoutModel",
          "state": {
            "_view_name": "LayoutView",
            "grid_template_rows": null,
            "right": null,
            "justify_content": null,
            "_view_module": "@jupyter-widgets/base",
            "overflow": null,
            "_model_module_version": "1.2.0",
            "_view_count": null,
            "flex_flow": null,
            "width": null,
            "min_width": null,
            "border": null,
            "align_items": null,
            "bottom": null,
            "_model_module": "@jupyter-widgets/base",
            "top": null,
            "grid_column": null,
            "overflow_y": null,
            "overflow_x": null,
            "grid_auto_flow": null,
            "grid_area": null,
            "grid_template_columns": null,
            "flex": null,
            "_model_name": "LayoutModel",
            "justify_items": null,
            "grid_row": null,
            "max_height": null,
            "align_content": null,
            "visibility": null,
            "align_self": null,
            "height": null,
            "min_height": null,
            "padding": null,
            "grid_auto_rows": null,
            "grid_gap": null,
            "max_width": null,
            "order": null,
            "_view_module_version": "1.2.0",
            "grid_template_areas": null,
            "object_position": null,
            "object_fit": null,
            "grid_auto_columns": null,
            "margin": null,
            "display": null,
            "left": null
          }
        },
        "42e4b15f984942beaa4383357aa639d8": {
          "model_module": "@jupyter-widgets/controls",
          "model_name": "DescriptionStyleModel",
          "state": {
            "_view_name": "StyleView",
            "_model_name": "DescriptionStyleModel",
            "description_width": "",
            "_view_module": "@jupyter-widgets/base",
            "_model_module_version": "1.5.0",
            "_view_count": null,
            "_view_module_version": "1.2.0",
            "_model_module": "@jupyter-widgets/controls"
          }
        },
        "ba6ee69cadfa4c40ab3e98923b9c2cd4": {
          "model_module": "@jupyter-widgets/base",
          "model_name": "LayoutModel",
          "state": {
            "_view_name": "LayoutView",
            "grid_template_rows": null,
            "right": null,
            "justify_content": null,
            "_view_module": "@jupyter-widgets/base",
            "overflow": null,
            "_model_module_version": "1.2.0",
            "_view_count": null,
            "flex_flow": null,
            "width": null,
            "min_width": null,
            "border": null,
            "align_items": null,
            "bottom": null,
            "_model_module": "@jupyter-widgets/base",
            "top": null,
            "grid_column": null,
            "overflow_y": null,
            "overflow_x": null,
            "grid_auto_flow": null,
            "grid_area": null,
            "grid_template_columns": null,
            "flex": null,
            "_model_name": "LayoutModel",
            "justify_items": null,
            "grid_row": null,
            "max_height": null,
            "align_content": null,
            "visibility": null,
            "align_self": null,
            "height": null,
            "min_height": null,
            "padding": null,
            "grid_auto_rows": null,
            "grid_gap": null,
            "max_width": null,
            "order": null,
            "_view_module_version": "1.2.0",
            "grid_template_areas": null,
            "object_position": null,
            "object_fit": null,
            "grid_auto_columns": null,
            "margin": null,
            "display": null,
            "left": null
          }
        }
      }
    }
  },
  "cells": [
    {
      "cell_type": "markdown",
      "metadata": {
        "id": "view-in-github",
        "colab_type": "text"
      },
      "source": [
        "<a href=\"https://colab.research.google.com/github/AromaR/685_Project/blob/main/Copy_of_Copy_of_POMO_Probing_1.ipynb\" target=\"_parent\"><img src=\"https://colab.research.google.com/assets/colab-badge.svg\" alt=\"Open In Colab\"/></a>"
      ]
    },
    {
      "cell_type": "markdown",
      "metadata": {
        "id": "K_YUtsc861uh"
      },
      "source": [
        "Setup"
      ]
    },
    {
      "cell_type": "code",
      "metadata": {
        "colab": {
          "base_uri": "https://localhost:8080/"
        },
        "id": "X_EqQmcQ65EC",
        "outputId": "8359f7cc-a4e7-4a1d-db4d-ed2a909a5c7f"
      },
      "source": [
        "from google.colab import drive\n",
        "drive.mount('/content/drive/')\n"
      ],
      "execution_count": 1,
      "outputs": [
        {
          "output_type": "stream",
          "text": [
            "Mounted at /content/drive/\n"
          ],
          "name": "stdout"
        }
      ]
    },
    {
      "cell_type": "code",
      "metadata": {
        "colab": {
          "base_uri": "https://localhost:8080/"
        },
        "id": "Dv0b-pJhqOlk",
        "outputId": "432fbfe0-0c9d-4c0d-e352-47e578d3ec35"
      },
      "source": [
        "import torch\n",
        "assert torch.cuda.is_available()\n",
        "device = torch.device(\"cuda\" if torch.cuda.is_available() else \"cpu\")\n",
        "# Get the GPU device name.\n",
        "device_name = torch.cuda.get_device_name()\n",
        "n_gpu = torch.cuda.device_count()\n",
        "print(f\"Found device: {device_name}, n_gpu: {n_gpu}\")"
      ],
      "execution_count": 2,
      "outputs": [
        {
          "output_type": "stream",
          "text": [
            "Found device: Tesla P100-PCIE-16GB, n_gpu: 1\n"
          ],
          "name": "stdout"
        }
      ]
    },
    {
      "cell_type": "code",
      "metadata": {
        "colab": {
          "base_uri": "https://localhost:8080/"
        },
        "id": "NoSz7CYvA9OS",
        "outputId": "c8374a7c-7ce5-4930-df88-cda942842bbd"
      },
      "source": [
        "import pandas as pd\n",
        "import numpy as np\n",
        "!pip install transformers\n",
        "!pip install tqdm\n",
        "from tqdm import tqdm"
      ],
      "execution_count": 3,
      "outputs": [
        {
          "output_type": "stream",
          "text": [
            "Collecting transformers\n",
            "\u001b[?25l  Downloading https://files.pythonhosted.org/packages/99/84/7bc03215279f603125d844bf81c3fb3f2d50fe8e511546eb4897e4be2067/transformers-4.0.0-py3-none-any.whl (1.4MB)\n",
            "\r\u001b[K     |▎                               | 10kB 21.2MB/s eta 0:00:01\r\u001b[K     |▌                               | 20kB 25.5MB/s eta 0:00:01\r\u001b[K     |▊                               | 30kB 14.7MB/s eta 0:00:01\r\u001b[K     |█                               | 40kB 10.6MB/s eta 0:00:01\r\u001b[K     |█▏                              | 51kB 7.8MB/s eta 0:00:01\r\u001b[K     |█▌                              | 61kB 8.2MB/s eta 0:00:01\r\u001b[K     |█▊                              | 71kB 8.5MB/s eta 0:00:01\r\u001b[K     |██                              | 81kB 8.8MB/s eta 0:00:01\r\u001b[K     |██▏                             | 92kB 8.5MB/s eta 0:00:01\r\u001b[K     |██▍                             | 102kB 9.2MB/s eta 0:00:01\r\u001b[K     |██▋                             | 112kB 9.2MB/s eta 0:00:01\r\u001b[K     |███                             | 122kB 9.2MB/s eta 0:00:01\r\u001b[K     |███▏                            | 133kB 9.2MB/s eta 0:00:01\r\u001b[K     |███▍                            | 143kB 9.2MB/s eta 0:00:01\r\u001b[K     |███▋                            | 153kB 9.2MB/s eta 0:00:01\r\u001b[K     |███▉                            | 163kB 9.2MB/s eta 0:00:01\r\u001b[K     |████▏                           | 174kB 9.2MB/s eta 0:00:01\r\u001b[K     |████▍                           | 184kB 9.2MB/s eta 0:00:01\r\u001b[K     |████▋                           | 194kB 9.2MB/s eta 0:00:01\r\u001b[K     |████▉                           | 204kB 9.2MB/s eta 0:00:01\r\u001b[K     |█████                           | 215kB 9.2MB/s eta 0:00:01\r\u001b[K     |█████▎                          | 225kB 9.2MB/s eta 0:00:01\r\u001b[K     |█████▋                          | 235kB 9.2MB/s eta 0:00:01\r\u001b[K     |█████▉                          | 245kB 9.2MB/s eta 0:00:01\r\u001b[K     |██████                          | 256kB 9.2MB/s eta 0:00:01\r\u001b[K     |██████▎                         | 266kB 9.2MB/s eta 0:00:01\r\u001b[K     |██████▌                         | 276kB 9.2MB/s eta 0:00:01\r\u001b[K     |██████▉                         | 286kB 9.2MB/s eta 0:00:01\r\u001b[K     |███████                         | 296kB 9.2MB/s eta 0:00:01\r\u001b[K     |███████▎                        | 307kB 9.2MB/s eta 0:00:01\r\u001b[K     |███████▌                        | 317kB 9.2MB/s eta 0:00:01\r\u001b[K     |███████▊                        | 327kB 9.2MB/s eta 0:00:01\r\u001b[K     |████████                        | 337kB 9.2MB/s eta 0:00:01\r\u001b[K     |████████▎                       | 348kB 9.2MB/s eta 0:00:01\r\u001b[K     |████████▌                       | 358kB 9.2MB/s eta 0:00:01\r\u001b[K     |████████▊                       | 368kB 9.2MB/s eta 0:00:01\r\u001b[K     |█████████                       | 378kB 9.2MB/s eta 0:00:01\r\u001b[K     |█████████▏                      | 389kB 9.2MB/s eta 0:00:01\r\u001b[K     |█████████▌                      | 399kB 9.2MB/s eta 0:00:01\r\u001b[K     |█████████▊                      | 409kB 9.2MB/s eta 0:00:01\r\u001b[K     |██████████                      | 419kB 9.2MB/s eta 0:00:01\r\u001b[K     |██████████▏                     | 430kB 9.2MB/s eta 0:00:01\r\u001b[K     |██████████▍                     | 440kB 9.2MB/s eta 0:00:01\r\u001b[K     |██████████▋                     | 450kB 9.2MB/s eta 0:00:01\r\u001b[K     |███████████                     | 460kB 9.2MB/s eta 0:00:01\r\u001b[K     |███████████▏                    | 471kB 9.2MB/s eta 0:00:01\r\u001b[K     |███████████▍                    | 481kB 9.2MB/s eta 0:00:01\r\u001b[K     |███████████▋                    | 491kB 9.2MB/s eta 0:00:01\r\u001b[K     |███████████▉                    | 501kB 9.2MB/s eta 0:00:01\r\u001b[K     |████████████▏                   | 512kB 9.2MB/s eta 0:00:01\r\u001b[K     |████████████▍                   | 522kB 9.2MB/s eta 0:00:01\r\u001b[K     |████████████▋                   | 532kB 9.2MB/s eta 0:00:01\r\u001b[K     |████████████▉                   | 542kB 9.2MB/s eta 0:00:01\r\u001b[K     |█████████████                   | 552kB 9.2MB/s eta 0:00:01\r\u001b[K     |█████████████▎                  | 563kB 9.2MB/s eta 0:00:01\r\u001b[K     |█████████████▋                  | 573kB 9.2MB/s eta 0:00:01\r\u001b[K     |█████████████▉                  | 583kB 9.2MB/s eta 0:00:01\r\u001b[K     |██████████████                  | 593kB 9.2MB/s eta 0:00:01\r\u001b[K     |██████████████▎                 | 604kB 9.2MB/s eta 0:00:01\r\u001b[K     |██████████████▌                 | 614kB 9.2MB/s eta 0:00:01\r\u001b[K     |██████████████▉                 | 624kB 9.2MB/s eta 0:00:01\r\u001b[K     |███████████████                 | 634kB 9.2MB/s eta 0:00:01\r\u001b[K     |███████████████▎                | 645kB 9.2MB/s eta 0:00:01\r\u001b[K     |███████████████▌                | 655kB 9.2MB/s eta 0:00:01\r\u001b[K     |███████████████▊                | 665kB 9.2MB/s eta 0:00:01\r\u001b[K     |████████████████                | 675kB 9.2MB/s eta 0:00:01\r\u001b[K     |████████████████▎               | 686kB 9.2MB/s eta 0:00:01\r\u001b[K     |████████████████▌               | 696kB 9.2MB/s eta 0:00:01\r\u001b[K     |████████████████▊               | 706kB 9.2MB/s eta 0:00:01\r\u001b[K     |█████████████████               | 716kB 9.2MB/s eta 0:00:01\r\u001b[K     |█████████████████▏              | 727kB 9.2MB/s eta 0:00:01\r\u001b[K     |█████████████████▌              | 737kB 9.2MB/s eta 0:00:01\r\u001b[K     |█████████████████▊              | 747kB 9.2MB/s eta 0:00:01\r\u001b[K     |██████████████████              | 757kB 9.2MB/s eta 0:00:01\r\u001b[K     |██████████████████▏             | 768kB 9.2MB/s eta 0:00:01\r\u001b[K     |██████████████████▍             | 778kB 9.2MB/s eta 0:00:01\r\u001b[K     |██████████████████▋             | 788kB 9.2MB/s eta 0:00:01\r\u001b[K     |███████████████████             | 798kB 9.2MB/s eta 0:00:01\r\u001b[K     |███████████████████▏            | 808kB 9.2MB/s eta 0:00:01\r\u001b[K     |███████████████████▍            | 819kB 9.2MB/s eta 0:00:01\r\u001b[K     |███████████████████▋            | 829kB 9.2MB/s eta 0:00:01\r\u001b[K     |███████████████████▉            | 839kB 9.2MB/s eta 0:00:01\r\u001b[K     |████████████████████▏           | 849kB 9.2MB/s eta 0:00:01\r\u001b[K     |████████████████████▍           | 860kB 9.2MB/s eta 0:00:01\r\u001b[K     |████████████████████▋           | 870kB 9.2MB/s eta 0:00:01\r\u001b[K     |████████████████████▉           | 880kB 9.2MB/s eta 0:00:01\r\u001b[K     |█████████████████████           | 890kB 9.2MB/s eta 0:00:01\r\u001b[K     |█████████████████████▎          | 901kB 9.2MB/s eta 0:00:01\r\u001b[K     |█████████████████████▋          | 911kB 9.2MB/s eta 0:00:01\r\u001b[K     |█████████████████████▉          | 921kB 9.2MB/s eta 0:00:01\r\u001b[K     |██████████████████████          | 931kB 9.2MB/s eta 0:00:01\r\u001b[K     |██████████████████████▎         | 942kB 9.2MB/s eta 0:00:01\r\u001b[K     |██████████████████████▌         | 952kB 9.2MB/s eta 0:00:01\r\u001b[K     |██████████████████████▉         | 962kB 9.2MB/s eta 0:00:01\r\u001b[K     |███████████████████████         | 972kB 9.2MB/s eta 0:00:01\r\u001b[K     |███████████████████████▎        | 983kB 9.2MB/s eta 0:00:01\r\u001b[K     |███████████████████████▌        | 993kB 9.2MB/s eta 0:00:01\r\u001b[K     |███████████████████████▊        | 1.0MB 9.2MB/s eta 0:00:01\r\u001b[K     |████████████████████████        | 1.0MB 9.2MB/s eta 0:00:01\r\u001b[K     |████████████████████████▎       | 1.0MB 9.2MB/s eta 0:00:01\r\u001b[K     |████████████████████████▌       | 1.0MB 9.2MB/s eta 0:00:01\r\u001b[K     |████████████████████████▊       | 1.0MB 9.2MB/s eta 0:00:01\r\u001b[K     |█████████████████████████       | 1.1MB 9.2MB/s eta 0:00:01\r\u001b[K     |█████████████████████████▏      | 1.1MB 9.2MB/s eta 0:00:01\r\u001b[K     |█████████████████████████▌      | 1.1MB 9.2MB/s eta 0:00:01\r\u001b[K     |█████████████████████████▊      | 1.1MB 9.2MB/s eta 0:00:01\r\u001b[K     |██████████████████████████      | 1.1MB 9.2MB/s eta 0:00:01\r\u001b[K     |██████████████████████████▏     | 1.1MB 9.2MB/s eta 0:00:01\r\u001b[K     |██████████████████████████▍     | 1.1MB 9.2MB/s eta 0:00:01\r\u001b[K     |██████████████████████████▋     | 1.1MB 9.2MB/s eta 0:00:01\r\u001b[K     |███████████████████████████     | 1.1MB 9.2MB/s eta 0:00:01\r\u001b[K     |███████████████████████████▏    | 1.1MB 9.2MB/s eta 0:00:01\r\u001b[K     |███████████████████████████▍    | 1.2MB 9.2MB/s eta 0:00:01\r\u001b[K     |███████████████████████████▋    | 1.2MB 9.2MB/s eta 0:00:01\r\u001b[K     |███████████████████████████▉    | 1.2MB 9.2MB/s eta 0:00:01\r\u001b[K     |████████████████████████████▏   | 1.2MB 9.2MB/s eta 0:00:01\r\u001b[K     |████████████████████████████▍   | 1.2MB 9.2MB/s eta 0:00:01\r\u001b[K     |████████████████████████████▋   | 1.2MB 9.2MB/s eta 0:00:01\r\u001b[K     |████████████████████████████▉   | 1.2MB 9.2MB/s eta 0:00:01\r\u001b[K     |█████████████████████████████   | 1.2MB 9.2MB/s eta 0:00:01\r\u001b[K     |█████████████████████████████▎  | 1.2MB 9.2MB/s eta 0:00:01\r\u001b[K     |█████████████████████████████▋  | 1.2MB 9.2MB/s eta 0:00:01\r\u001b[K     |█████████████████████████████▉  | 1.3MB 9.2MB/s eta 0:00:01\r\u001b[K     |██████████████████████████████  | 1.3MB 9.2MB/s eta 0:00:01\r\u001b[K     |██████████████████████████████▎ | 1.3MB 9.2MB/s eta 0:00:01\r\u001b[K     |██████████████████████████████▌ | 1.3MB 9.2MB/s eta 0:00:01\r\u001b[K     |██████████████████████████████▉ | 1.3MB 9.2MB/s eta 0:00:01\r\u001b[K     |███████████████████████████████ | 1.3MB 9.2MB/s eta 0:00:01\r\u001b[K     |███████████████████████████████▎| 1.3MB 9.2MB/s eta 0:00:01\r\u001b[K     |███████████████████████████████▌| 1.3MB 9.2MB/s eta 0:00:01\r\u001b[K     |███████████████████████████████▊| 1.3MB 9.2MB/s eta 0:00:01\r\u001b[K     |████████████████████████████████| 1.4MB 9.2MB/s eta 0:00:01\r\u001b[K     |████████████████████████████████| 1.4MB 9.2MB/s \n",
            "\u001b[?25hRequirement already satisfied: filelock in /usr/local/lib/python3.6/dist-packages (from transformers) (3.0.12)\n",
            "Requirement already satisfied: tqdm>=4.27 in /usr/local/lib/python3.6/dist-packages (from transformers) (4.41.1)\n",
            "Requirement already satisfied: requests in /usr/local/lib/python3.6/dist-packages (from transformers) (2.23.0)\n",
            "Collecting tokenizers==0.9.4\n",
            "\u001b[?25l  Downloading https://files.pythonhosted.org/packages/0f/1c/e789a8b12e28be5bc1ce2156cf87cb522b379be9cadc7ad8091a4cc107c4/tokenizers-0.9.4-cp36-cp36m-manylinux2010_x86_64.whl (2.9MB)\n",
            "\u001b[K     |████████████████████████████████| 2.9MB 31.6MB/s \n",
            "\u001b[?25hRequirement already satisfied: numpy in /usr/local/lib/python3.6/dist-packages (from transformers) (1.18.5)\n",
            "Requirement already satisfied: regex!=2019.12.17 in /usr/local/lib/python3.6/dist-packages (from transformers) (2019.12.20)\n",
            "Requirement already satisfied: packaging in /usr/local/lib/python3.6/dist-packages (from transformers) (20.4)\n",
            "Collecting sacremoses\n",
            "\u001b[?25l  Downloading https://files.pythonhosted.org/packages/7d/34/09d19aff26edcc8eb2a01bed8e98f13a1537005d31e95233fd48216eed10/sacremoses-0.0.43.tar.gz (883kB)\n",
            "\u001b[K     |████████████████████████████████| 890kB 44.7MB/s \n",
            "\u001b[?25hRequirement already satisfied: dataclasses; python_version < \"3.7\" in /usr/local/lib/python3.6/dist-packages (from transformers) (0.8)\n",
            "Requirement already satisfied: urllib3!=1.25.0,!=1.25.1,<1.26,>=1.21.1 in /usr/local/lib/python3.6/dist-packages (from requests->transformers) (1.24.3)\n",
            "Requirement already satisfied: chardet<4,>=3.0.2 in /usr/local/lib/python3.6/dist-packages (from requests->transformers) (3.0.4)\n",
            "Requirement already satisfied: certifi>=2017.4.17 in /usr/local/lib/python3.6/dist-packages (from requests->transformers) (2020.11.8)\n",
            "Requirement already satisfied: idna<3,>=2.5 in /usr/local/lib/python3.6/dist-packages (from requests->transformers) (2.10)\n",
            "Requirement already satisfied: six in /usr/local/lib/python3.6/dist-packages (from packaging->transformers) (1.15.0)\n",
            "Requirement already satisfied: pyparsing>=2.0.2 in /usr/local/lib/python3.6/dist-packages (from packaging->transformers) (2.4.7)\n",
            "Requirement already satisfied: click in /usr/local/lib/python3.6/dist-packages (from sacremoses->transformers) (7.1.2)\n",
            "Requirement already satisfied: joblib in /usr/local/lib/python3.6/dist-packages (from sacremoses->transformers) (0.17.0)\n",
            "Building wheels for collected packages: sacremoses\n",
            "  Building wheel for sacremoses (setup.py) ... \u001b[?25l\u001b[?25hdone\n",
            "  Created wheel for sacremoses: filename=sacremoses-0.0.43-cp36-none-any.whl size=893257 sha256=6d110508d84f5f1d09157c855f734a8fce9f8f9d41c220ee8b1c6e32eedc5693\n",
            "  Stored in directory: /root/.cache/pip/wheels/29/3c/fd/7ce5c3f0666dab31a50123635e6fb5e19ceb42ce38d4e58f45\n",
            "Successfully built sacremoses\n",
            "Installing collected packages: tokenizers, sacremoses, transformers\n",
            "Successfully installed sacremoses-0.0.43 tokenizers-0.9.4 transformers-4.0.0\n",
            "Requirement already satisfied: tqdm in /usr/local/lib/python3.6/dist-packages (4.41.1)\n"
          ],
          "name": "stdout"
        }
      ]
    },
    {
      "cell_type": "code",
      "metadata": {
        "id": "gGJX0GWD7Ha8",
        "colab": {
          "base_uri": "https://localhost:8080/",
          "height": 166,
          "referenced_widgets": [
            "4da8cb376730420a8bd3c230edac38ad",
            "e4bdb5ec6f994666b489458a0361a7d8",
            "f7fee67efd674332b5ea5464152e7e3a",
            "a49053b35fd64d868efa2a3b45e86121",
            "10512393dde74c62b9af6b04d8ba0a0e",
            "2163514a38e84b1183615b823366a5de",
            "493328359d0a42908f7d8fb85b1fcaa7",
            "0b80fae464884e4d8a649a6881a3ff22",
            "5da51133cdbc44b889a974825ea98742",
            "632acfc5434b4c4e8b04a1ce6e981499",
            "5c22f447542c4085a7a7c2ccc4381b92",
            "d14d99e0c07f44d8bc2621364ddbbb21",
            "608207a9815b41698652c3f52f73996e",
            "463f9e3c58574e3b9bf608239219cf1f",
            "932cdf42730a4058a90664233fd23d5b",
            "76078509787d450aa580a5457e8c898d",
            "27f9e949e3874d09845a3ff1c55c7c61",
            "0ec5e103ed1e4fcabacc2f1cef088b7b",
            "340ea03384f1464093e4c3a6a8017b0a",
            "1aeafd2e6d9140e9b744951925ca22ae",
            "d297958314b140ad9bf914daeca4ca39",
            "3c957063f2084405a4745f58e807a499",
            "42e4b15f984942beaa4383357aa639d8",
            "ba6ee69cadfa4c40ab3e98923b9c2cd4"
          ]
        },
        "outputId": "e1b61522-ed5b-4c2a-b513-d5673c55c943"
      },
      "source": [
        "from transformers import BertTokenizer, BertModel\n",
        "\n",
        "tokenizer = BertTokenizer.from_pretrained(\"bert-base-uncased\")\n",
        "\n",
        "model = BertModel.from_pretrained(\"bert-base-uncased\")\n"
      ],
      "execution_count": 4,
      "outputs": [
        {
          "output_type": "display_data",
          "data": {
            "application/vnd.jupyter.widget-view+json": {
              "model_id": "4da8cb376730420a8bd3c230edac38ad",
              "version_minor": 0,
              "version_major": 2
            },
            "text/plain": [
              "HBox(children=(FloatProgress(value=0.0, description='Downloading', max=231508.0, style=ProgressStyle(descripti…"
            ]
          },
          "metadata": {
            "tags": []
          }
        },
        {
          "output_type": "stream",
          "text": [
            "\n"
          ],
          "name": "stdout"
        },
        {
          "output_type": "display_data",
          "data": {
            "application/vnd.jupyter.widget-view+json": {
              "model_id": "5da51133cdbc44b889a974825ea98742",
              "version_minor": 0,
              "version_major": 2
            },
            "text/plain": [
              "HBox(children=(FloatProgress(value=0.0, description='Downloading', max=433.0, style=ProgressStyle(description_…"
            ]
          },
          "metadata": {
            "tags": []
          }
        },
        {
          "output_type": "stream",
          "text": [
            "\n"
          ],
          "name": "stdout"
        },
        {
          "output_type": "display_data",
          "data": {
            "application/vnd.jupyter.widget-view+json": {
              "model_id": "27f9e949e3874d09845a3ff1c55c7c61",
              "version_minor": 0,
              "version_major": 2
            },
            "text/plain": [
              "HBox(children=(FloatProgress(value=0.0, description='Downloading', max=440473133.0, style=ProgressStyle(descri…"
            ]
          },
          "metadata": {
            "tags": []
          }
        },
        {
          "output_type": "stream",
          "text": [
            "\n"
          ],
          "name": "stdout"
        }
      ]
    },
    {
      "cell_type": "code",
      "metadata": {
        "colab": {
          "base_uri": "https://localhost:8080/"
        },
        "id": "y0luR9oF6pRt",
        "outputId": "d11ff9dd-5533-4226-f006-a1cfa14ddf86"
      },
      "source": [
        "dataset = pd.read_csv(\"/content/drive/My Drive/POMO/train.pm\",sep='\\\\t')\n",
        "dataarr = []\n",
        "ansarr = []\n",
        "for i in range(5000,10000):\n",
        "  dataarr.append(dataset.iloc[i,0])\n",
        "  ansarr.append(0)\n",
        "  dataarr.append(dataset.iloc[i,3])\n",
        "  ansarr.append(1)\n",
        "torch.set_printoptions(profile=\"full\")\n"
      ],
      "execution_count": 5,
      "outputs": [
        {
          "output_type": "stream",
          "text": [
            "/usr/local/lib/python3.6/dist-packages/ipykernel_launcher.py:1: ParserWarning: Falling back to the 'python' engine because the 'c' engine does not support regex separators (separators > 1 char and different from '\\s+' are interpreted as regex); you can avoid this warning by specifying engine='python'.\n",
            "  \"\"\"Entry point for launching an IPython kernel.\n"
          ],
          "name": "stderr"
        }
      ]
    },
    {
      "cell_type": "code",
      "metadata": {
        "colab": {
          "base_uri": "https://localhost:8080/"
        },
        "id": "_jpeqJwGVlHt",
        "outputId": "eb0509a7-56eb-4502-8201-bbdfb34a7035"
      },
      "source": [
        "with open(\"/content/drive/My Drive/POMO/emb_05_train_base\", \"w\") as writer:\n",
        "  for i in tqdm(range(0, len(dataarr), 128)):\n",
        "    batch = dataarr[i:i+128]\n",
        "    ans = ansarr[i:i+128]\n",
        "    inputs = tokenizer.batch_encode_plus(batch,\n",
        "                add_special_tokens=True,\n",
        "                truncation=True,\n",
        "                padding=True,\n",
        "                return_tensors=\"pt\",\n",
        "            )\n",
        "    for j in range(0,128):\n",
        "      try:\n",
        "        writer.write(\"|\")\n",
        "        writer.write(str(model(torch.tensor(inputs['input_ids'][j]).unsqueeze(0))[0][0][0]))\n",
        "        writer.write(\"$\")\n",
        "        writer.write(str(ans[j]))\n",
        "      except:\n",
        "        continue\n",
        "torch.set_printoptions(profile=\"default\")\n",
        "    \n"
      ],
      "execution_count": null,
      "outputs": [
        {
          "output_type": "stream",
          "text": [
            "\r  0%|          | 0/79 [00:00<?, ?it/s]/usr/local/lib/python3.6/dist-packages/ipykernel_launcher.py:14: UserWarning: To copy construct from a tensor, it is recommended to use sourceTensor.clone().detach() or sourceTensor.clone().detach().requires_grad_(True), rather than torch.tensor(sourceTensor).\n",
            "  \n",
            " 44%|████▍     | 35/79 [34:03<40:24, 55.10s/it]"
          ],
          "name": "stderr"
        }
      ]
    },
    {
      "cell_type": "code",
      "metadata": {
        "id": "rEx-1vOUVfVS"
      },
      "source": [
        "emb_data = tokenizer.batch_encode_plus(dataarr[0:10])"
      ],
      "execution_count": null,
      "outputs": []
    },
    {
      "cell_type": "code",
      "metadata": {
        "id": "tgDoRIUi9_4w"
      },
      "source": [
        "print(len(emb_data['input_ids']))"
      ],
      "execution_count": null,
      "outputs": []
    },
    {
      "cell_type": "code",
      "metadata": {
        "id": "-_i7kGy07POH"
      },
      "source": [
        "h = torch.tensor(tokenizer.encode(dataset.iloc[i,0])).unsqueeze(0)\n",
        "print(h)"
      ],
      "execution_count": null,
      "outputs": []
    },
    {
      "cell_type": "code",
      "metadata": {
        "id": "TzSfoJNKAIyc"
      },
      "source": [
        "print(len(emb_data['input_ids'][0]))"
      ],
      "execution_count": null,
      "outputs": []
    },
    {
      "cell_type": "code",
      "metadata": {
        "id": "HC8MgMuD8AsK"
      },
      "source": [
        "mods = []\n",
        "for i in range(0,10):\n",
        "  mods.append(model(torch.tensor(emb_data['input_ids'][i]).unsqueeze(0))[0][0][0])\n",
        "  torch.cuda.empty_cache()"
      ],
      "execution_count": null,
      "outputs": []
    },
    {
      "cell_type": "code",
      "metadata": {
        "id": "1FCGBsh0L0Zm"
      },
      "source": [
        "torch.cuda.empty_cache()"
      ],
      "execution_count": null,
      "outputs": []
    },
    {
      "cell_type": "code",
      "metadata": {
        "id": "Z-JdclET9AKx"
      },
      "source": [
        "mods = torch.stack((mods))\n",
        "torch.cuda.empty_cache()"
      ],
      "execution_count": null,
      "outputs": []
    },
    {
      "cell_type": "code",
      "metadata": {
        "id": "cmV_l7pW93Z0"
      },
      "source": [
        "print(len(mods[1]))"
      ],
      "execution_count": null,
      "outputs": []
    },
    {
      "cell_type": "code",
      "metadata": {
        "id": "qmstHfxz_nIr"
      },
      "source": [
        "#with open('/content/drive/My Drive/POMO/train.pm',\"r\") as f:\n",
        "#   print(f.read())\n"
      ],
      "execution_count": null,
      "outputs": []
    },
    {
      "cell_type": "code",
      "metadata": {
        "id": "lrGFstbx6qv7"
      },
      "source": [
        ""
      ],
      "execution_count": null,
      "outputs": []
    },
    {
      "cell_type": "code",
      "metadata": {
        "id": "XT9rsChkEaQD"
      },
      "source": [
        "dataset = pd.read_csv(\"/content/drive/My Drive/POMO/test.pm\",sep='\\\\t')\n",
        "dataarr_test = []\n",
        "ansarr_test = []\n",
        "print(\"here we add to a 2d array, a sentence and a number 1/0 according to whether it contains appositions. The first sentence at pos 0 is not appositional, the one at position 3 is\")\n",
        "for i in range(0,len(dataset)):\n",
        "  dataarr_test.append(dataset.iloc[i,0])\n",
        "  ansarr_test.append(0)\n",
        "  dataarr_test.append(dataset.iloc[i,3])\n",
        "  ansarr_test.append(1)"
      ],
      "execution_count": null,
      "outputs": []
    },
    {
      "cell_type": "code",
      "metadata": {
        "id": "euSw5wa2Em_u"
      },
      "source": [
        "dataset = pd.read_csv(\"/content/drive/My Drive/POMO/valid.pm\",sep='\\\\t')\n",
        "dataarr_valid = []\n",
        "ansarr_valid = []\n",
        "print(\"here we add to a 2d array, a sentence and a number 1/0 according to whether it contains appositions. The first sentence at pos 0 is not appositional, the one at position 3 is\")\n",
        "for i in range(0,len(dataset)):\n",
        "  dataarr_valid.append(dataset.iloc[i,0])\n",
        "  ansarr_valid.append(0)\n",
        "  dataarr_valid.append(dataset.iloc[i,3])\n",
        "  ansarr_valid.append(1)"
      ],
      "execution_count": null,
      "outputs": []
    },
    {
      "cell_type": "code",
      "metadata": {
        "id": "WxPzMpeoeyT7"
      },
      "source": [
        "print(len(dataarr))\n",
        "print(dataarr[0])\n",
        "print(ansarr[0])\n",
        "print(dataarr[1])\n",
        "print(ansarr[1])\n",
        "h = []\n",
        "for j in ansarr:\n",
        "  h.append(torch.LongTensor([j]).unsqueeze(0))\n",
        "ansarr1 = torch.stack((h))\n",
        "print(ansarr1.shape)"
      ],
      "execution_count": null,
      "outputs": []
    },
    {
      "cell_type": "code",
      "metadata": {
        "id": "7pvqeOlVE0T9"
      },
      "source": [
        "print(len(dataarr_test))\n",
        "print(dataarr_test[0])\n",
        "print(ansarr_test[0])\n",
        "print(dataarr_test[1])\n",
        "print(ansarr_test[1])\n",
        "ansarr1_test = torch.from_numpy(np.array(ansarr_test))"
      ],
      "execution_count": null,
      "outputs": []
    },
    {
      "cell_type": "code",
      "metadata": {
        "id": "DzDaXXrbE_kR"
      },
      "source": [
        "print(len(dataarr_valid))\n",
        "print(dataarr_valid[0])\n",
        "print(ansarr_valid[0])\n",
        "print(dataarr_valid[1])\n",
        "print(ansarr_valid[1])\n",
        "ansarr1_valid = torch.from_numpy(np.array(ansarr_valid))"
      ],
      "execution_count": null,
      "outputs": []
    },
    {
      "cell_type": "markdown",
      "metadata": {
        "id": "uvsP0z4s65WQ"
      },
      "source": [
        "Creation of data"
      ]
    },
    {
      "cell_type": "markdown",
      "metadata": {
        "id": "l4XeF0yc7HGx"
      },
      "source": [
        "Conversion to hugging faces BERT-Tacred fine-tuned representation"
      ]
    },
    {
      "cell_type": "code",
      "metadata": {
        "id": "aGA-kztmBb4I"
      },
      "source": [
        "class POMO_Dataset(torch.utils.data.dataset.Dataset):\n",
        "    def __init__(self, _dataset):\n",
        "        self.dataset = _dataset\n",
        "\n",
        "    def __getitem__(self, index):\n",
        "        example= self.dataset[0][index]\n",
        "        target = self.dataset[1][index]\n",
        "        target.squeeze(0)\n",
        "        return np.array(example), target\n",
        "\n",
        "    def __len__(self):\n",
        "        return len(self.dataset)"
      ],
      "execution_count": null,
      "outputs": []
    },
    {
      "cell_type": "code",
      "metadata": {
        "id": "F53VszcHyKBC"
      },
      "source": [
        "max_len = 1024"
      ],
      "execution_count": null,
      "outputs": []
    },
    {
      "cell_type": "code",
      "metadata": {
        "id": "SQZ3ER1c0b23"
      },
      "source": [
        "dataarr_test[2]"
      ],
      "execution_count": null,
      "outputs": []
    },
    {
      "cell_type": "code",
      "metadata": {
        "id": "5SDE2eY_Fj9h"
      },
      "source": [
        "test = []\n",
        "data_test = []\n",
        "for i in dataarr_test:\n",
        "  try:\n",
        "    input_ids = torch.tensor(tokenizer.encode(i)).unsqueeze(0)  # Batch size 1\n",
        "    outputs = model(input_ids)\n",
        "    data_test.append(outputs[0][0])\n",
        "  except:\n",
        "    print(i)\n",
        "    break\n",
        "test.extend([torch.tensor(data_test).unsqueeze(0).unsqueeze(0),ansarr1_test])\n"
      ],
      "execution_count": null,
      "outputs": []
    },
    {
      "cell_type": "code",
      "metadata": {
        "id": "LXFtnGCrFoae"
      },
      "source": [
        "emb_data = tokenizer.batch_encode_plus(dataarr_valid)\n",
        "k = [torch.LongTensor(x) for x in emb_data['input_ids']]\n",
        "max_len = max([len(x) for x in emb_data['input_ids']])\n",
        "data = [torch.nn.functional.pad(x, pad=(0, max_len - x.numel()), mode='constant', value=0) for x in k]\n",
        "data = torch.stack(data)\n",
        "valid = []\n",
        "for i in range(0,len(data)):\n",
        "  valid.append([data[i],ansarr1_valid[i]])\n"
      ],
      "execution_count": null,
      "outputs": []
    },
    {
      "cell_type": "code",
      "metadata": {
        "id": "4GIurOTTpGe4"
      },
      "source": [
        "emb_data = tokenizer.batch_encode_plus(dataarr)\n",
        "k = [torch.LongTensor(x) for x in emb_data['input_ids']]\n",
        "max_len = max([len(x) for x in emb_data['input_ids']])\n",
        "data = [torch.nn.functional.pad(x, pad=(0, max_len - x.numel()), mode='constant', value=0) for x in k]\n",
        "data = torch.stack(data)\n",
        "train = []\n",
        "\n"
      ],
      "execution_count": null,
      "outputs": []
    },
    {
      "cell_type": "markdown",
      "metadata": {
        "id": "tq-HJ4eyuP9W"
      },
      "source": [
        "Get Bert embeddings"
      ]
    },
    {
      "cell_type": "code",
      "metadata": {
        "id": "6pMQoKcmuR-P"
      },
      "source": [
        "input_ids = torch.tensor(tokenizer.encode(\"Hello, my name is Aroma\")).unsqueeze(0)  # Batch size 1\n",
        "outputs = model(input_ids)\n",
        "last_hidden_states = outputs[0]"
      ],
      "execution_count": null,
      "outputs": []
    },
    {
      "cell_type": "code",
      "metadata": {
        "id": "2hrIF0KXwY88"
      },
      "source": [
        "print(len(last_hidden_states[0][0])) #CLS baby!"
      ],
      "execution_count": null,
      "outputs": []
    },
    {
      "cell_type": "code",
      "metadata": {
        "id": "VvEvbvF1vArA"
      },
      "source": [
        "ansarr.unsqueeze(0).unsqueeze(0)"
      ],
      "execution_count": null,
      "outputs": []
    },
    {
      "cell_type": "code",
      "metadata": {
        "id": "eG3gvw5YcnyR"
      },
      "source": [
        "a = []\n",
        "for i in data:\n",
        "  a.append(i.unsqueeze(0).unsqueeze(0))"
      ],
      "execution_count": null,
      "outputs": []
    },
    {
      "cell_type": "code",
      "metadata": {
        "id": "2B4lg456ue0Y"
      },
      "source": [
        "a = torch.stack(a)"
      ],
      "execution_count": null,
      "outputs": []
    },
    {
      "cell_type": "code",
      "metadata": {
        "id": "Y1AvE6uHsNJ5"
      },
      "source": [
        "print(a.shape)"
      ],
      "execution_count": null,
      "outputs": []
    },
    {
      "cell_type": "code",
      "metadata": {
        "id": "Z43Pd0S5Z8Yj"
      },
      "source": [
        "train = []\n",
        "train = [a,ansarr1]"
      ],
      "execution_count": null,
      "outputs": []
    },
    {
      "cell_type": "code",
      "metadata": {
        "id": "l_bJilzNbzv4"
      },
      "source": [
        "print(data)"
      ],
      "execution_count": null,
      "outputs": []
    },
    {
      "cell_type": "code",
      "metadata": {
        "id": "Rp15CDMqbNh5"
      },
      "source": [
        "print((train[0][1]))"
      ],
      "execution_count": null,
      "outputs": []
    },
    {
      "cell_type": "code",
      "metadata": {
        "id": "gPNDmsXeoMXC"
      },
      "source": [
        "\n",
        "test_loader = torch.utils.data.DataLoader(dataset=POMO_Dataset(test),\n",
        "                                           batch_size=4,\n",
        "                                           shuffle=True)\n",
        "valid_loader = torch.utils.data.DataLoader(dataset=POMO_Dataset(valid),\n",
        "                                           batch_size=4,\n",
        "                                           shuffle=True)\n",
        "train_loader = torch.utils.data.DataLoader(dataset=POMO_Dataset(train),\n",
        "                                           batch_size=4,\n",
        "                                           shuffle=True)\n",
        "\n",
        "\n",
        "  \n",
        "  \n"
      ],
      "execution_count": null,
      "outputs": []
    },
    {
      "cell_type": "code",
      "metadata": {
        "id": "thh1ZvJpcQGD"
      },
      "source": [
        "for batch_images, targets in train_loader:\n",
        "    print(batch_images.shape)\n",
        "    print(targets)\n",
        "    break"
      ],
      "execution_count": null,
      "outputs": []
    },
    {
      "cell_type": "code",
      "metadata": {
        "id": "O7j5yy4VHAJW"
      },
      "source": [
        "\n",
        "\n"
      ],
      "execution_count": null,
      "outputs": []
    },
    {
      "cell_type": "markdown",
      "metadata": {
        "id": "TYIYLFgR6_D1"
      },
      "source": [
        "Probing task level 1 : Classifier - binary, Aroma's CNN"
      ]
    },
    {
      "cell_type": "code",
      "metadata": {
        "id": "uwjxeL-fv1Qg"
      },
      "source": [
        "import torch.nn as nn\n",
        "import torch.nn.functional as F\n",
        "\n",
        "\n",
        "class Net(nn.Module):\n",
        "    def __init__(self):\n",
        "        super(Net, self).__init__()\n",
        "        self.conv1 = nn.Conv2d(1, 2, 1,)\n",
        "        self.fc1 = nn.Linear(801, 120)\n",
        "        self.fc2 = nn.Linear(120, 1)\n",
        "\n",
        "    def forward(self, x):\n",
        "        x = (F.relu(self.conv1(x.long()))).long()\n",
        "        x = F.relu(self.fc1(x)).long()\n",
        "        x = (self.fc2(x)).long()\n",
        "        return x\n",
        "\n",
        "\n",
        "net = Net()\n",
        "    \n",
        "   "
      ],
      "execution_count": null,
      "outputs": []
    },
    {
      "cell_type": "code",
      "metadata": {
        "id": "5KtTpdHz_KKk"
      },
      "source": [
        "import torch.optim as optim\n",
        "\n",
        "criterion = nn.CrossEntropyLoss()\n",
        "optimizer = optim.SGD(net.parameters(), lr=0.001, momentum=0.9)\n"
      ],
      "execution_count": null,
      "outputs": []
    },
    {
      "cell_type": "code",
      "metadata": {
        "id": "D-0IkvdoSWmW"
      },
      "source": [
        "for epoch in range(2):  # loop over the dataset multiple times\n",
        "\n",
        "    running_loss = 0.0\n",
        "    for i, data in enumerate(train_loader, 0):\n",
        "        # get the inputs; data is a list of [inputs, labels]\n",
        "        inputs, labels = data\n",
        "\n",
        "        # zero the parameter gradients\n",
        "        optimizer.zero_grad()\n",
        "\n",
        "        # forward + backward + optimize\n",
        "        outputs = net(inputs.long())\n",
        "        print(labels)\n",
        "        loss = criterion(outputs, labels)\n",
        "        loss.backward()\n",
        "        optimizer.step()\n",
        "\n",
        "        # print statistics\n",
        "        running_loss += loss.item()\n",
        "        if i % 2000 == 1999:    # print every 2000 mini-batches\n",
        "            print('[%d, %5d] loss: %.3f' %\n",
        "                  (epoch + 1, i + 1, running_loss / 2000))\n",
        "            running_loss = 0.0\n",
        "\n",
        "print('Finished Training')"
      ],
      "execution_count": null,
      "outputs": []
    },
    {
      "cell_type": "code",
      "metadata": {
        "id": "54dgOPSC_PNY"
      },
      "source": [
        "!pip install keras"
      ],
      "execution_count": null,
      "outputs": []
    },
    {
      "cell_type": "code",
      "metadata": {
        "id": "2uj2oGnhfJze"
      },
      "source": [
        "from keras.models import Sequential\n",
        "\n",
        "from keras.layers import Dense, Conv2D, Flatten\n",
        "\n",
        "model = Sequential()\n",
        "\n",
        "model.add(Conv2D(64, kernel_size=1, activation='relu', input_shape=(1,1,801)))\n",
        "\n",
        "model.add(Conv2D(32, kernel_size=1, activation='relu'))\n",
        "\n",
        "model.add(Flatten())\n",
        "\n",
        "model.add(Dense(2, activation='softmax'))"
      ],
      "execution_count": null,
      "outputs": []
    },
    {
      "cell_type": "code",
      "metadata": {
        "id": "s6k6X48EfsdX"
      },
      "source": [
        "model.compile(optimizer='adam', loss='categorical_crossentropy', metrics=['accuracy'])"
      ],
      "execution_count": null,
      "outputs": []
    },
    {
      "cell_type": "code",
      "metadata": {
        "id": "hFmIXwVTf-L5"
      },
      "source": [
        "model.fit(train, ansarr, validation_data=(valid, ansarr_valid), epochs=3)"
      ],
      "execution_count": null,
      "outputs": []
    },
    {
      "cell_type": "code",
      "metadata": {
        "id": "R3Vn_0O3AW0M"
      },
      "source": [
        "print(data[0])"
      ],
      "execution_count": null,
      "outputs": []
    },
    {
      "cell_type": "code",
      "metadata": {
        "id": "m4vMEODT-Ioh"
      },
      "source": [
        "print(data[0].numel())"
      ],
      "execution_count": null,
      "outputs": []
    },
    {
      "cell_type": "code",
      "metadata": {
        "id": "naDotDSLBkfi"
      },
      "source": [
        ""
      ],
      "execution_count": null,
      "outputs": []
    }
  ]
}