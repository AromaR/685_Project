{
  "nbformat": 4,
  "nbformat_minor": 0,
  "metadata": {
    "accelerator": "GPU",
    "colab": {
      "name": "POMO_Probing_refactored_bert_tacred.ipynb",
      "provenance": [],
      "collapsed_sections": [],
      "include_colab_link": true
    },
    "kernelspec": {
      "display_name": "Python 3",
      "name": "python3"
    }
  },
  "cells": [
    {
      "cell_type": "markdown",
      "metadata": {
        "id": "view-in-github",
        "colab_type": "text"
      },
      "source": [
        "<a href=\"https://colab.research.google.com/github/AromaR/685_Project/blob/main/POMO_Probing_refactored_bert_tacred.ipynb\" target=\"_parent\"><img src=\"https://colab.research.google.com/assets/colab-badge.svg\" alt=\"Open In Colab\"/></a>"
      ]
    },
    {
      "cell_type": "markdown",
      "metadata": {
        "id": "K_YUtsc861uh"
      },
      "source": [
        "Setup"
      ]
    },
    {
      "cell_type": "code",
      "metadata": {
        "colab": {
          "base_uri": "https://localhost:8080/"
        },
        "id": "X_EqQmcQ65EC",
        "outputId": "979f308e-5eae-487a-fb5c-59340a08d76c"
      },
      "source": [
        "from google.colab import drive\n",
        "drive.mount('/content/drive/')\n"
      ],
      "execution_count": 1,
      "outputs": [
        {
          "output_type": "stream",
          "text": [
            "Mounted at /content/drive/\n"
          ],
          "name": "stdout"
        }
      ]
    },
    {
      "cell_type": "code",
      "metadata": {
        "colab": {
          "base_uri": "https://localhost:8080/"
        },
        "id": "Dv0b-pJhqOlk",
        "outputId": "7d2054c5-2083-4207-b089-499fb3454293"
      },
      "source": [
        "import torch\n",
        "assert torch.cuda.is_available()\n",
        "device = torch.device(\"cuda\" if torch.cuda.is_available() else \"cpu\")\n",
        "# Get the GPU device name.\n",
        "device_name = torch.cuda.get_device_name()\n",
        "n_gpu = torch.cuda.device_count()\n",
        "print(f\"Found device: {device_name}, n_gpu: {n_gpu}\")"
      ],
      "execution_count": 2,
      "outputs": [
        {
          "output_type": "stream",
          "text": [
            "Found device: Tesla P4, n_gpu: 1\n"
          ],
          "name": "stdout"
        }
      ]
    },
    {
      "cell_type": "code",
      "metadata": {
        "colab": {
          "base_uri": "https://localhost:8080/"
        },
        "id": "NoSz7CYvA9OS",
        "outputId": "e611b8df-2eea-4fc3-e3bd-94d461cfd061"
      },
      "source": [
        "import pandas as pd\n",
        "import numpy as np\n",
        "!pip install transformers\n",
        "!pip install tqdm\n",
        "from tqdm import tqdm"
      ],
      "execution_count": 3,
      "outputs": [
        {
          "output_type": "stream",
          "text": [
            "Collecting transformers\n",
            "\u001b[?25l  Downloading https://files.pythonhosted.org/packages/99/84/7bc03215279f603125d844bf81c3fb3f2d50fe8e511546eb4897e4be2067/transformers-4.0.0-py3-none-any.whl (1.4MB)\n",
            "\u001b[K     |████████████████████████████████| 1.4MB 6.7MB/s \n",
            "\u001b[?25hRequirement already satisfied: dataclasses; python_version < \"3.7\" in /usr/local/lib/python3.6/dist-packages (from transformers) (0.8)\n",
            "Requirement already satisfied: tqdm>=4.27 in /usr/local/lib/python3.6/dist-packages (from transformers) (4.41.1)\n",
            "Collecting sacremoses\n",
            "\u001b[?25l  Downloading https://files.pythonhosted.org/packages/7d/34/09d19aff26edcc8eb2a01bed8e98f13a1537005d31e95233fd48216eed10/sacremoses-0.0.43.tar.gz (883kB)\n",
            "\u001b[K     |████████████████████████████████| 890kB 54.0MB/s \n",
            "\u001b[?25hCollecting tokenizers==0.9.4\n",
            "\u001b[?25l  Downloading https://files.pythonhosted.org/packages/0f/1c/e789a8b12e28be5bc1ce2156cf87cb522b379be9cadc7ad8091a4cc107c4/tokenizers-0.9.4-cp36-cp36m-manylinux2010_x86_64.whl (2.9MB)\n",
            "\u001b[K     |████████████████████████████████| 2.9MB 31.6MB/s \n",
            "\u001b[?25hRequirement already satisfied: filelock in /usr/local/lib/python3.6/dist-packages (from transformers) (3.0.12)\n",
            "Requirement already satisfied: numpy in /usr/local/lib/python3.6/dist-packages (from transformers) (1.18.5)\n",
            "Requirement already satisfied: packaging in /usr/local/lib/python3.6/dist-packages (from transformers) (20.4)\n",
            "Requirement already satisfied: regex!=2019.12.17 in /usr/local/lib/python3.6/dist-packages (from transformers) (2019.12.20)\n",
            "Requirement already satisfied: requests in /usr/local/lib/python3.6/dist-packages (from transformers) (2.23.0)\n",
            "Requirement already satisfied: six in /usr/local/lib/python3.6/dist-packages (from sacremoses->transformers) (1.15.0)\n",
            "Requirement already satisfied: click in /usr/local/lib/python3.6/dist-packages (from sacremoses->transformers) (7.1.2)\n",
            "Requirement already satisfied: joblib in /usr/local/lib/python3.6/dist-packages (from sacremoses->transformers) (0.17.0)\n",
            "Requirement already satisfied: pyparsing>=2.0.2 in /usr/local/lib/python3.6/dist-packages (from packaging->transformers) (2.4.7)\n",
            "Requirement already satisfied: urllib3!=1.25.0,!=1.25.1,<1.26,>=1.21.1 in /usr/local/lib/python3.6/dist-packages (from requests->transformers) (1.24.3)\n",
            "Requirement already satisfied: idna<3,>=2.5 in /usr/local/lib/python3.6/dist-packages (from requests->transformers) (2.10)\n",
            "Requirement already satisfied: chardet<4,>=3.0.2 in /usr/local/lib/python3.6/dist-packages (from requests->transformers) (3.0.4)\n",
            "Requirement already satisfied: certifi>=2017.4.17 in /usr/local/lib/python3.6/dist-packages (from requests->transformers) (2020.11.8)\n",
            "Building wheels for collected packages: sacremoses\n",
            "  Building wheel for sacremoses (setup.py) ... \u001b[?25l\u001b[?25hdone\n",
            "  Created wheel for sacremoses: filename=sacremoses-0.0.43-cp36-none-any.whl size=893257 sha256=4d1af6525c21ed6952bfed846ced12c279b8926029e09208af6f73d9e3378186\n",
            "  Stored in directory: /root/.cache/pip/wheels/29/3c/fd/7ce5c3f0666dab31a50123635e6fb5e19ceb42ce38d4e58f45\n",
            "Successfully built sacremoses\n",
            "Installing collected packages: sacremoses, tokenizers, transformers\n",
            "Successfully installed sacremoses-0.0.43 tokenizers-0.9.4 transformers-4.0.0\n",
            "Requirement already satisfied: tqdm in /usr/local/lib/python3.6/dist-packages (4.41.1)\n"
          ],
          "name": "stdout"
        }
      ]
    },
    {
      "cell_type": "code",
      "metadata": {
        "id": "gGJX0GWD7Ha8"
      },
      "source": [
        "# from transformers import AutoTokenizer, AutoModel\n",
        "\n",
        "# tokenizer = AutoTokenizer.from_pretrained(\"mrm8488/spanbert-large-finetuned-tacred\")\n",
        "\n",
        "# model = AutoModel.from_pretrained(\"mrm8488/spanbert-large-finetuned-tacred\")"
      ],
      "execution_count": 4,
      "outputs": []
    },
    {
      "cell_type": "code",
      "metadata": {
        "id": "0AK4EsKwYJIT"
      },
      "source": [
        "train_data = []\n",
        "with open(\"/content/drive/My Drive/POMO/emb_04_train\", \"r\") as f:\n",
        "  s = f.read()\n",
        "  s = s.replace(\"grad_fn=<SelectBackward>\",\"\")\n",
        "  s = s.replace(\" \",\"\")\n",
        "  s = s.replace(\"(\",\"\")\n",
        "  s = s.replace(\")\",\"\")\n",
        "  s = s.replace(\"[\",\"\")\n",
        "  s = s.replace(\"]\",\"\")\n",
        "  s = s.replace(\"tensor\",\"\")\n",
        "  s = s.replace(\"\\n\",\"\")\n",
        "  s = s.replace(\"'\",\"\")\n",
        "  h = s.split(\"|\")\n",
        "  for i in h:\n",
        "    if i:\n",
        "      y = i.split(\"$\")#y[1] is 0/1\n",
        "      x = y[0].split(\",\")\n",
        "      temp = []\n",
        "      for a in x:\n",
        "        if a:\n",
        "          c = a.split(\"e\")\n",
        "          if len(c)>1:\n",
        "            c[1] = c[1].replace(\"0\",\"\",1)\n",
        "            c[0] = c[0]+\"e\"+c[1]\n",
        "          temp.append(float(c[0]))\n",
        "      if len(y)>1:\n",
        "        train_data.append([[[temp]],int(y[1])])\n",
        "\n"
      ],
      "execution_count": 5,
      "outputs": []
    },
    {
      "cell_type": "code",
      "metadata": {
        "id": "hVBE7flSbY3s"
      },
      "source": [
        "with open(\"/content/drive/My Drive/POMO/emb_05_train\", \"r\") as f:\n",
        "  s = f.read()\n",
        "  s = s.replace(\"grad_fn=<SelectBackward>\",\"\")\n",
        "  s = s.replace(\" \",\"\")\n",
        "  s = s.replace(\"(\",\"\")\n",
        "  s = s.replace(\")\",\"\")\n",
        "  s = s.replace(\"[\",\"\")\n",
        "  s = s.replace(\"]\",\"\")\n",
        "  s = s.replace(\"tensor\",\"\")\n",
        "  s = s.replace(\"\\n\",\"\")\n",
        "  s = s.replace(\"'\",\"\")\n",
        "  h = s.split(\"|\")\n",
        "  for i in h:\n",
        "    if i:\n",
        "      y = i.split(\"$\")#y[1] is 0/1\n",
        "      x = y[0].split(\",\")\n",
        "      temp = []\n",
        "      for a in x:\n",
        "        if a:\n",
        "          c = a.split(\"e\")\n",
        "          if len(c)>1:\n",
        "            c[1] = c[1].replace(\"0\",\"\",1)\n",
        "            c[0] = c[0]+\"e\"+c[1]\n",
        "          temp.append(float(c[0]))\n",
        "      if len(y)>1:\n",
        "        train_data.append([[[temp]],int(y[1])])\n"
      ],
      "execution_count": 6,
      "outputs": []
    },
    {
      "cell_type": "code",
      "metadata": {
        "colab": {
          "base_uri": "https://localhost:8080/"
        },
        "id": "F7VUlT3jg9LV",
        "outputId": "98c416d7-b069-4b0e-fdac-4dd70d91d10e"
      },
      "source": [
        "print(len(train_data))"
      ],
      "execution_count": 7,
      "outputs": [
        {
          "output_type": "stream",
          "text": [
            "19872\n"
          ],
          "name": "stdout"
        }
      ]
    },
    {
      "cell_type": "code",
      "metadata": {
        "id": "fx_ibcpAhK9_"
      },
      "source": [
        "test_data = []\n",
        "with open(\"/content/drive/My Drive/POMO/emb_04_test\", \"r\") as f:\n",
        "  s = f.read()\n",
        "  s = s.replace(\"grad_fn=<SelectBackward>\",\"\")\n",
        "  s = s.replace(\" \",\"\")\n",
        "  s = s.replace(\"(\",\"\")\n",
        "  s = s.replace(\")\",\"\")\n",
        "  s = s.replace(\"[\",\"\")\n",
        "  s = s.replace(\"]\",\"\")\n",
        "  s = s.replace(\"tensor\",\"\")\n",
        "  s = s.replace(\"\\n\",\"\")\n",
        "  s = s.replace(\"'\",\"\")\n",
        "  h = s.split(\"|\")\n",
        "  for i in h:\n",
        "    if i:\n",
        "      y = i.split(\"$\")#y[1] is 0/1\n",
        "      x = y[0].split(\",\")\n",
        "      temp = []\n",
        "      for a in x:\n",
        "        if a:\n",
        "          c = a.split(\"e\")\n",
        "          if len(c)>1:\n",
        "            c[1] = c[1].replace(\"0\",\"\",1)\n",
        "            c[0] = c[0]+\"e\"+c[1]\n",
        "          temp.append(float(c[0]))\n",
        "      if len(y)>1:\n",
        "        test_data.append([[[temp]],int(y[1])])\n"
      ],
      "execution_count": 8,
      "outputs": []
    },
    {
      "cell_type": "code",
      "metadata": {
        "colab": {
          "base_uri": "https://localhost:8080/"
        },
        "id": "bcIqg9-ShU3M",
        "outputId": "8bc73e07-cd26-4cb5-d292-a92cfd886f9d"
      },
      "source": [
        "print(len(test_data))"
      ],
      "execution_count": 9,
      "outputs": [
        {
          "output_type": "stream",
          "text": [
            "10226\n"
          ],
          "name": "stdout"
        }
      ]
    },
    {
      "cell_type": "code",
      "metadata": {
        "id": "g6H3Yu5vhy8B"
      },
      "source": [
        "train = []\n",
        "test = []\n",
        "valid = []\n",
        "trainans = []\n",
        "testans = []\n",
        "validans = []\n",
        "for i in train_data:\n",
        "  train.append(i[0])\n",
        "  trainans.append(i[1])\n",
        "for i in test_data:\n",
        "  test.append(i[0])\n",
        "  testans.append(i[1])\n",
        "valid = train[15000:]\n",
        "validans = trainans[15000:]\n",
        "train = train[0:15000]\n",
        "trainans = trainans[0:15000]\n"
      ],
      "execution_count": 10,
      "outputs": []
    },
    {
      "cell_type": "code",
      "metadata": {
        "id": "y0luR9oF6pRt"
      },
      "source": [
        "# dataset = pd.read_csv(\"/content/drive/My Drive/POMO/train.pm\",sep='\\\\t')\n",
        "# dataarr = []\n",
        "# ansarr = []\n",
        "# for i in range(15000,20000):\n",
        "#   dataarr.append(dataset.iloc[i,0])\n",
        "#   ansarr.append(0)\n",
        "#   dataarr.append(dataset.iloc[i,3])\n",
        "#   ansarr.append(1)\n",
        "# torch.set_printoptions(profile=\"full\")\n"
      ],
      "execution_count": 11,
      "outputs": []
    },
    {
      "cell_type": "code",
      "metadata": {
        "id": "_jpeqJwGVlHt"
      },
      "source": [
        "# with open(\"/content/drive/My Drive/POMO/emb_04_train\", \"w\") as writer:\n",
        "#   for i in tqdm(range(0, len(dataarr), 128)):\n",
        "#     batch = dataarr[i:i+128]\n",
        "#     ans = ansarr[i:i+128]\n",
        "#     inputs = tokenizer.batch_encode_plus(batch,\n",
        "#                 add_special_tokens=True,\n",
        "#                 truncation=True,\n",
        "#                 padding=True,\n",
        "#                 return_tensors=\"pt\",\n",
        "#             )\n",
        "#     for j in range(0,128):\n",
        "#       try:\n",
        "#         writer.write(\"|\")\n",
        "#         writer.write(str(model(torch.tensor(inputs['input_ids'][j]).unsqueeze(0))[0][0][0]))\n",
        "#         writer.write(\"$\")\n",
        "#         writer.write(str(ans[j]))\n",
        "#       except:\n",
        "#         continue\n",
        "# torch.set_printoptions(profile=\"default\")\n",
        "    \n"
      ],
      "execution_count": 12,
      "outputs": []
    },
    {
      "cell_type": "code",
      "metadata": {
        "id": "lrGFstbx6qv7"
      },
      "source": [
        ""
      ],
      "execution_count": 12,
      "outputs": []
    },
    {
      "cell_type": "code",
      "metadata": {
        "colab": {
          "base_uri": "https://localhost:8080/"
        },
        "id": "XT9rsChkEaQD",
        "outputId": "ed26c744-ca94-478b-e450-1f859ad710db"
      },
      "source": [
        "dataset = pd.read_csv(\"/content/drive/My Drive/POMO/test.pm\",sep='\\\\t')\n",
        "dataarr_test = []\n",
        "# ansarr_test = []\n",
        "# print(\"here we add to a 2d array, a sentence and a number 1/0 according to whether it contains appositions. The first sentence at pos 0 is not appositional, the one at position 3 is\")\n",
        "for i in range(0,len(dataset)):\n",
        "  dataarr_test.append(dataset.iloc[i,0])\n",
        "#   ansarr_test.append(0)\n",
        "  dataarr_test.append(dataset.iloc[i,3])\n",
        "#   ansarr_test.append(1)"
      ],
      "execution_count": 13,
      "outputs": [
        {
          "output_type": "stream",
          "text": [
            "/usr/local/lib/python3.6/dist-packages/ipykernel_launcher.py:1: ParserWarning: Falling back to the 'python' engine because the 'c' engine does not support regex separators (separators > 1 char and different from '\\s+' are interpreted as regex); you can avoid this warning by specifying engine='python'.\n",
            "  \"\"\"Entry point for launching an IPython kernel.\n"
          ],
          "name": "stderr"
        }
      ]
    },
    {
      "cell_type": "code",
      "metadata": {
        "id": "euSw5wa2Em_u"
      },
      "source": [
        "# dataset = pd.read_csv(\"/content/drive/My Drive/POMO/valid.pm\",sep='\\\\t')\n",
        "# dataarr_valid = []\n",
        "# ansarr_valid = []\n",
        "# print(\"here we add to a 2d array, a sentence and a number 1/0 according to whether it contains appositions. The first sentence at pos 0 is not appositional, the one at position 3 is\")\n",
        "# for i in range(0,len(dataset)):\n",
        "#   dataarr_valid.append(dataset.iloc[i,0])\n",
        "#   ansarr_valid.append(0)\n",
        "#   dataarr_valid.append(dataset.iloc[i,3])\n",
        "#   ansarr_valid.append(1)"
      ],
      "execution_count": 14,
      "outputs": []
    },
    {
      "cell_type": "code",
      "metadata": {
        "id": "WxPzMpeoeyT7"
      },
      "source": [
        "# print(len(dataarr))\n",
        "# print(dataarr[0])\n",
        "# print(ansarr[0])\n",
        "# print(dataarr[1])\n",
        "# print(ansarr[1])\n",
        "# h = []\n",
        "# for j in ansarr:\n",
        "#   h.append(torch.LongTensor([j]).unsqueeze(0))\n",
        "# ansarr1 = torch.stack((h))\n",
        "# print(ansarr1.shape)"
      ],
      "execution_count": 15,
      "outputs": []
    },
    {
      "cell_type": "code",
      "metadata": {
        "id": "7pvqeOlVE0T9"
      },
      "source": [
        "# print(len(dataarr_test))\n",
        "# print(dataarr_test[0])\n",
        "# print(ansarr_test[0])\n",
        "# print(dataarr_test[1])\n",
        "# print(ansarr_test[1])\n",
        "# ansarr1_test = torch.from_numpy(np.array(ansarr_test))"
      ],
      "execution_count": 16,
      "outputs": []
    },
    {
      "cell_type": "code",
      "metadata": {
        "id": "DzDaXXrbE_kR"
      },
      "source": [
        "# print(len(dataarr_valid))\n",
        "# print(dataarr_valid[0])\n",
        "# print(ansarr_valid[0])\n",
        "# print(dataarr_valid[1])\n",
        "# print(ansarr_valid[1])\n",
        "# ansarr1_valid = torch.from_numpy(np.array(ansarr_valid))"
      ],
      "execution_count": 17,
      "outputs": []
    },
    {
      "cell_type": "markdown",
      "metadata": {
        "id": "uvsP0z4s65WQ"
      },
      "source": [
        "Creation of data"
      ]
    },
    {
      "cell_type": "markdown",
      "metadata": {
        "id": "l4XeF0yc7HGx"
      },
      "source": [
        "Conversion to hugging faces BERT-Tacred fine-tuned representation"
      ]
    },
    {
      "cell_type": "code",
      "metadata": {
        "id": "aGA-kztmBb4I"
      },
      "source": [
        "class POMO_Dataset(torch.utils.data.dataset.Dataset):\n",
        "    def __init__(self, _dataset):\n",
        "        self.dataset = _dataset\n",
        "\n",
        "    def __getitem__(self, index):\n",
        "        example= self.dataset[0][index]\n",
        "        target = self.dataset[1][index]\n",
        "        target.squeeze(0)\n",
        "        return np.array(example), target\n",
        "\n",
        "    def __len__(self):\n",
        "        return len(self.dataset)"
      ],
      "execution_count": 18,
      "outputs": []
    },
    {
      "cell_type": "code",
      "metadata": {
        "id": "LXFtnGCrFoae"
      },
      "source": [
        "# emb_data = tokenizer.batch_encode_plus(dataarr_valid)\n",
        "# k = [torch.LongTensor(x) for x in emb_data['input_ids']]\n",
        "# max_len = max([len(x) for x in emb_data['input_ids']])\n",
        "# data = [torch.nn.functional.pad(x, pad=(0, max_len - x.numel()), mode='constant', value=0) for x in k]\n",
        "# data = torch.stack(data)\n",
        "# valid = []\n",
        "# for i in range(0,len(data)):\n",
        "#   valid.append([data[i],ansarr1_valid[i]])\n"
      ],
      "execution_count": 19,
      "outputs": []
    },
    {
      "cell_type": "code",
      "metadata": {
        "id": "4GIurOTTpGe4"
      },
      "source": [
        "# emb_data = tokenizer.batch_encode_plus(dataarr)\n",
        "# k = [torch.LongTensor(x) for x in emb_data['input_ids']]\n",
        "# max_len = max([len(x) for x in emb_data['input_ids']])\n",
        "# data = [torch.nn.functional.pad(x, pad=(0, max_len - x.numel()), mode='constant', value=0) for x in k]\n",
        "# data = torch.stack(data)\n",
        "# train = []\n",
        "\n"
      ],
      "execution_count": 20,
      "outputs": []
    },
    {
      "cell_type": "markdown",
      "metadata": {
        "id": "tq-HJ4eyuP9W"
      },
      "source": [
        "Get Bert embeddings"
      ]
    },
    {
      "cell_type": "code",
      "metadata": {
        "id": "6pMQoKcmuR-P"
      },
      "source": [
        "# input_ids = torch.tensor(tokenizer.encode(\"Hello, my name is Aroma\")).unsqueeze(0)  # Batch size 1\n",
        "# outputs = model(input_ids)\n",
        "# last_hidden_states = outputs[0]"
      ],
      "execution_count": 21,
      "outputs": []
    },
    {
      "cell_type": "code",
      "metadata": {
        "id": "2hrIF0KXwY88"
      },
      "source": [
        "# print(len(last_hidden_states[0][0])) #CLS baby!"
      ],
      "execution_count": 22,
      "outputs": []
    },
    {
      "cell_type": "code",
      "metadata": {
        "id": "VvEvbvF1vArA"
      },
      "source": [
        "# ansarr.unsqueeze(0).unsqueeze(0)"
      ],
      "execution_count": 23,
      "outputs": []
    },
    {
      "cell_type": "code",
      "metadata": {
        "id": "eG3gvw5YcnyR"
      },
      "source": [
        "# a = []\n",
        "# for i in data:\n",
        "#   a.append(i.unsqueeze(0).unsqueeze(0))"
      ],
      "execution_count": 24,
      "outputs": []
    },
    {
      "cell_type": "code",
      "metadata": {
        "id": "2B4lg456ue0Y"
      },
      "source": [
        "# a = torch.stack(a)"
      ],
      "execution_count": 25,
      "outputs": []
    },
    {
      "cell_type": "code",
      "metadata": {
        "id": "Y1AvE6uHsNJ5"
      },
      "source": [
        "# print(a.shape)"
      ],
      "execution_count": 26,
      "outputs": []
    },
    {
      "cell_type": "code",
      "metadata": {
        "id": "Z43Pd0S5Z8Yj"
      },
      "source": [
        "# train = []\n",
        "# train = [a,ansarr1]"
      ],
      "execution_count": 27,
      "outputs": []
    },
    {
      "cell_type": "code",
      "metadata": {
        "id": "l_bJilzNbzv4"
      },
      "source": [
        "# print(data)"
      ],
      "execution_count": 28,
      "outputs": []
    },
    {
      "cell_type": "code",
      "metadata": {
        "id": "Rp15CDMqbNh5"
      },
      "source": [
        "# print((train[0][1]))"
      ],
      "execution_count": 29,
      "outputs": []
    },
    {
      "cell_type": "code",
      "metadata": {
        "id": "gPNDmsXeoMXC"
      },
      "source": [
        "\n",
        "# test_loader = torch.utils.data.DataLoader(dataset=POMO_Dataset(test),\n",
        "#                                            batch_size=4,\n",
        "#                                            shuffle=True)\n",
        "# valid_loader = torch.utils.data.DataLoader(dataset=POMO_Dataset(valid),\n",
        "#                                            batch_size=4,\n",
        "#                                            shuffle=True)\n",
        "# train_loader = torch.utils.data.DataLoader(dataset=POMO_Dataset(train),\n",
        "#                                            batch_size=4,\n",
        "#                                            shuffle=True)\n",
        "\n",
        "\n",
        "  \n",
        "  \n"
      ],
      "execution_count": 30,
      "outputs": []
    },
    {
      "cell_type": "code",
      "metadata": {
        "id": "thh1ZvJpcQGD"
      },
      "source": [
        "# for batch_images, targets in train_loader:\n",
        "#     print(batch_images.shape)\n",
        "#     print(targets)\n",
        "#     break"
      ],
      "execution_count": 31,
      "outputs": []
    },
    {
      "cell_type": "code",
      "metadata": {
        "id": "O7j5yy4VHAJW"
      },
      "source": [
        "metrics = [] #we will add mean accuracy on task, control task 1 and control task 2 here\n",
        "\n"
      ],
      "execution_count": 32,
      "outputs": []
    },
    {
      "cell_type": "markdown",
      "metadata": {
        "id": "TYIYLFgR6_D1"
      },
      "source": [
        "Probing task level 1 : Classifier - binary, Aroma's CNN"
      ]
    },
    {
      "cell_type": "code",
      "metadata": {
        "id": "uwjxeL-fv1Qg"
      },
      "source": [
        "# import torch.nn as nn\n",
        "# import torch.nn.functional as F\n",
        "\n",
        "\n",
        "# class Net(nn.Module):\n",
        "#     def __init__(self):\n",
        "#         super(Net, self).__init__()\n",
        "#         self.conv1 = nn.Conv2d(1, 2, 1,)\n",
        "#         self.fc1 = nn.Linear(801, 120)\n",
        "#         self.fc2 = nn.Linear(120, 1)\n",
        "\n",
        "#     def forward(self, x):\n",
        "#         x = (F.relu(self.conv1(x.long()))).long()\n",
        "#         x = F.relu(self.fc1(x)).long()\n",
        "#         x = (self.fc2(x)).long()\n",
        "#         return x\n",
        "\n",
        "\n",
        "# net = Net()\n",
        "    \n",
        "   "
      ],
      "execution_count": 33,
      "outputs": []
    },
    {
      "cell_type": "code",
      "metadata": {
        "id": "5KtTpdHz_KKk"
      },
      "source": [
        "# import torch.optim as optim\n",
        "\n",
        "# criterion = nn.CrossEntropyLoss()\n",
        "# optimizer = optim.SGD(net.parameters(), lr=0.001, momentum=0.9)\n"
      ],
      "execution_count": 34,
      "outputs": []
    },
    {
      "cell_type": "code",
      "metadata": {
        "id": "D-0IkvdoSWmW"
      },
      "source": [
        "# for epoch in range(2):  # loop over the dataset multiple times\n",
        "\n",
        "#     running_loss = 0.0\n",
        "#     for i, data in enumerate(train_loader, 0):\n",
        "#         # get the inputs; data is a list of [inputs, labels]\n",
        "#         inputs, labels = data\n",
        "\n",
        "#         # zero the parameter gradients\n",
        "#         optimizer.zero_grad()\n",
        "\n",
        "#         # forward + backward + optimize\n",
        "#         outputs = net(inputs.long())\n",
        "#         print(labels)\n",
        "#         loss = criterion(outputs, labels)\n",
        "#         loss.backward()\n",
        "#         optimizer.step()\n",
        "\n",
        "#         # print statistics\n",
        "#         running_loss += loss.item()\n",
        "#         if i % 2000 == 1999:    # print every 2000 mini-batches\n",
        "#             print('[%d, %5d] loss: %.3f' %\n",
        "#                   (epoch + 1, i + 1, running_loss / 2000))\n",
        "#             running_loss = 0.0\n",
        "\n",
        "# print('Finished Training')"
      ],
      "execution_count": 35,
      "outputs": []
    },
    {
      "cell_type": "code",
      "metadata": {
        "colab": {
          "base_uri": "https://localhost:8080/"
        },
        "id": "54dgOPSC_PNY",
        "outputId": "262b0fdd-602d-41f0-bf59-10c7a7640193"
      },
      "source": [
        "!pip install keras"
      ],
      "execution_count": 36,
      "outputs": [
        {
          "output_type": "stream",
          "text": [
            "Requirement already satisfied: keras in /usr/local/lib/python3.6/dist-packages (2.4.3)\n",
            "Requirement already satisfied: scipy>=0.14 in /usr/local/lib/python3.6/dist-packages (from keras) (1.4.1)\n",
            "Requirement already satisfied: h5py in /usr/local/lib/python3.6/dist-packages (from keras) (2.10.0)\n",
            "Requirement already satisfied: numpy>=1.9.1 in /usr/local/lib/python3.6/dist-packages (from keras) (1.18.5)\n",
            "Requirement already satisfied: pyyaml in /usr/local/lib/python3.6/dist-packages (from keras) (3.13)\n",
            "Requirement already satisfied: six in /usr/local/lib/python3.6/dist-packages (from h5py->keras) (1.15.0)\n"
          ],
          "name": "stdout"
        }
      ]
    },
    {
      "cell_type": "code",
      "metadata": {
        "id": "2uj2oGnhfJze"
      },
      "source": [
        "from keras.models import Sequential\n",
        "from keras.layers import Dense, Conv2D, Flatten\n",
        "model = Sequential()\n",
        "model.add(Conv2D(64, kernel_size=1, activation='relu', input_shape=(1,1,1024)))\n",
        "model.add(Conv2D(32, kernel_size=1, activation='relu'))\n",
        "model.add(Flatten())\n",
        "model.add(Dense(1, activation='sigmoid'))"
      ],
      "execution_count": 37,
      "outputs": []
    },
    {
      "cell_type": "code",
      "metadata": {
        "id": "s6k6X48EfsdX"
      },
      "source": [
        "model.compile(optimizer='adam', loss='binary_crossentropy', metrics=['accuracy'])"
      ],
      "execution_count": 38,
      "outputs": []
    },
    {
      "cell_type": "code",
      "metadata": {
        "id": "rOwtARYEluiM"
      },
      "source": [
        "train.extend(valid)\n",
        "trainans.extend(validans)"
      ],
      "execution_count": 39,
      "outputs": []
    },
    {
      "cell_type": "code",
      "metadata": {
        "colab": {
          "base_uri": "https://localhost:8080/"
        },
        "id": "hFmIXwVTf-L5",
        "outputId": "04be12ed-55bc-4ce9-81ff-16544849ac3a"
      },
      "source": [
        "hist = model.fit(train, trainans, validation_data=(test, testans), epochs=30)\n",
        "a = (np.mean(hist.history.get(\"val_accuracy\")))"
      ],
      "execution_count": 40,
      "outputs": [
        {
          "output_type": "stream",
          "text": [
            "Epoch 1/30\n",
            "621/621 [==============================] - 35s 56ms/step - loss: 0.6458 - accuracy: 0.6225 - val_loss: 0.6257 - val_accuracy: 0.6411\n",
            "Epoch 2/30\n",
            "621/621 [==============================] - 2s 3ms/step - loss: 0.6262 - accuracy: 0.6428 - val_loss: 0.6305 - val_accuracy: 0.6161\n",
            "Epoch 3/30\n",
            "621/621 [==============================] - 2s 3ms/step - loss: 0.6087 - accuracy: 0.6606 - val_loss: 0.5866 - val_accuracy: 0.6859\n",
            "Epoch 4/30\n",
            "621/621 [==============================] - 2s 3ms/step - loss: 0.5945 - accuracy: 0.6715 - val_loss: 0.5924 - val_accuracy: 0.6714\n",
            "Epoch 5/30\n",
            "621/621 [==============================] - 2s 3ms/step - loss: 0.5822 - accuracy: 0.6865 - val_loss: 0.5583 - val_accuracy: 0.7091\n",
            "Epoch 6/30\n",
            "621/621 [==============================] - 2s 3ms/step - loss: 0.5771 - accuracy: 0.6906 - val_loss: 0.5604 - val_accuracy: 0.7075\n",
            "Epoch 7/30\n",
            "621/621 [==============================] - 2s 3ms/step - loss: 0.5626 - accuracy: 0.7020 - val_loss: 0.5446 - val_accuracy: 0.7170\n",
            "Epoch 8/30\n",
            "621/621 [==============================] - 2s 3ms/step - loss: 0.5589 - accuracy: 0.7024 - val_loss: 0.6007 - val_accuracy: 0.6650\n",
            "Epoch 9/30\n",
            "621/621 [==============================] - 2s 3ms/step - loss: 0.5534 - accuracy: 0.7088 - val_loss: 0.5669 - val_accuracy: 0.6996\n",
            "Epoch 10/30\n",
            "621/621 [==============================] - 2s 3ms/step - loss: 0.5458 - accuracy: 0.7168 - val_loss: 0.5665 - val_accuracy: 0.6981\n",
            "Epoch 11/30\n",
            "621/621 [==============================] - 2s 3ms/step - loss: 0.5488 - accuracy: 0.7117 - val_loss: 0.5548 - val_accuracy: 0.7137\n",
            "Epoch 12/30\n",
            "621/621 [==============================] - 2s 3ms/step - loss: 0.5406 - accuracy: 0.7162 - val_loss: 0.5298 - val_accuracy: 0.7336\n",
            "Epoch 13/30\n",
            "621/621 [==============================] - 2s 3ms/step - loss: 0.5416 - accuracy: 0.7183 - val_loss: 0.5272 - val_accuracy: 0.7385\n",
            "Epoch 14/30\n",
            "621/621 [==============================] - 2s 3ms/step - loss: 0.5373 - accuracy: 0.7174 - val_loss: 0.5281 - val_accuracy: 0.7382\n",
            "Epoch 15/30\n",
            "621/621 [==============================] - 2s 3ms/step - loss: 0.5312 - accuracy: 0.7260 - val_loss: 0.5164 - val_accuracy: 0.7408\n",
            "Epoch 16/30\n",
            "621/621 [==============================] - 2s 3ms/step - loss: 0.5296 - accuracy: 0.7239 - val_loss: 0.5672 - val_accuracy: 0.6911\n",
            "Epoch 17/30\n",
            "621/621 [==============================] - 2s 3ms/step - loss: 0.5318 - accuracy: 0.7243 - val_loss: 0.5229 - val_accuracy: 0.7369\n",
            "Epoch 18/30\n",
            "621/621 [==============================] - 2s 3ms/step - loss: 0.5228 - accuracy: 0.7303 - val_loss: 0.5275 - val_accuracy: 0.7340\n",
            "Epoch 19/30\n",
            "621/621 [==============================] - 2s 3ms/step - loss: 0.5266 - accuracy: 0.7321 - val_loss: 0.5381 - val_accuracy: 0.7269\n",
            "Epoch 20/30\n",
            "621/621 [==============================] - 2s 3ms/step - loss: 0.5196 - accuracy: 0.7342 - val_loss: 0.5735 - val_accuracy: 0.6906\n",
            "Epoch 21/30\n",
            "621/621 [==============================] - 2s 3ms/step - loss: 0.5150 - accuracy: 0.7359 - val_loss: 0.5068 - val_accuracy: 0.7432\n",
            "Epoch 22/30\n",
            "621/621 [==============================] - 2s 3ms/step - loss: 0.5159 - accuracy: 0.7351 - val_loss: 0.5159 - val_accuracy: 0.7409\n",
            "Epoch 23/30\n",
            "621/621 [==============================] - 2s 3ms/step - loss: 0.5116 - accuracy: 0.7414 - val_loss: 0.5140 - val_accuracy: 0.7438\n",
            "Epoch 24/30\n",
            "621/621 [==============================] - 2s 3ms/step - loss: 0.5104 - accuracy: 0.7426 - val_loss: 0.5063 - val_accuracy: 0.7490\n",
            "Epoch 25/30\n",
            "621/621 [==============================] - 2s 3ms/step - loss: 0.5132 - accuracy: 0.7361 - val_loss: 0.5048 - val_accuracy: 0.7459\n",
            "Epoch 26/30\n",
            "621/621 [==============================] - 2s 3ms/step - loss: 0.5109 - accuracy: 0.7403 - val_loss: 0.5019 - val_accuracy: 0.7530\n",
            "Epoch 27/30\n",
            "621/621 [==============================] - 2s 3ms/step - loss: 0.5098 - accuracy: 0.7396 - val_loss: 0.5819 - val_accuracy: 0.6905\n",
            "Epoch 28/30\n",
            "621/621 [==============================] - 2s 3ms/step - loss: 0.5057 - accuracy: 0.7455 - val_loss: 0.5103 - val_accuracy: 0.7462\n",
            "Epoch 29/30\n",
            "621/621 [==============================] - 2s 3ms/step - loss: 0.5000 - accuracy: 0.7512 - val_loss: 0.5757 - val_accuracy: 0.6975\n",
            "Epoch 30/30\n",
            "621/621 [==============================] - 2s 3ms/step - loss: 0.5062 - accuracy: 0.7411 - val_loss: 0.5544 - val_accuracy: 0.7155\n"
          ],
          "name": "stdout"
        }
      ]
    },
    {
      "cell_type": "markdown",
      "metadata": {
        "id": "hV3MEIWEyrfL"
      },
      "source": [
        "Control Task: Let us see if our model is too complex and makes sense of nonsense"
      ]
    },
    {
      "cell_type": "code",
      "metadata": {
        "colab": {
          "base_uri": "https://localhost:8080/"
        },
        "id": "ZsEgqTM2zHJr",
        "outputId": "e5abb773-f4dd-40fc-d4fd-c64f39ccc6c0"
      },
      "source": [
        "hist = model.fit(train, np.random.choice([0, 1], size=len(trainans)).tolist(), validation_data=(test, np.random.choice([0, 1], size=len(testans)).tolist()), epochs=30)\n",
        "b = (np.mean(hist.history.get(\"val_accuracy\")))"
      ],
      "execution_count": 41,
      "outputs": [
        {
          "output_type": "stream",
          "text": [
            "Epoch 1/30\n",
            "621/621 [==============================] - 34s 55ms/step - loss: 0.7070 - accuracy: 0.4968 - val_loss: 0.6946 - val_accuracy: 0.4974\n",
            "Epoch 2/30\n",
            "621/621 [==============================] - 2s 3ms/step - loss: 0.6941 - accuracy: 0.5048 - val_loss: 0.6946 - val_accuracy: 0.4933\n",
            "Epoch 3/30\n",
            "621/621 [==============================] - 2s 3ms/step - loss: 0.6935 - accuracy: 0.5021 - val_loss: 0.6944 - val_accuracy: 0.4944\n",
            "Epoch 4/30\n",
            "621/621 [==============================] - 2s 3ms/step - loss: 0.6928 - accuracy: 0.5036 - val_loss: 0.6946 - val_accuracy: 0.4950\n",
            "Epoch 5/30\n",
            "621/621 [==============================] - 2s 3ms/step - loss: 0.6922 - accuracy: 0.5056 - val_loss: 0.6944 - val_accuracy: 0.4956\n",
            "Epoch 6/30\n",
            "621/621 [==============================] - 2s 3ms/step - loss: 0.6922 - accuracy: 0.5063 - val_loss: 0.6951 - val_accuracy: 0.4962\n",
            "Epoch 7/30\n",
            "621/621 [==============================] - 2s 3ms/step - loss: 0.6921 - accuracy: 0.5041 - val_loss: 0.6942 - val_accuracy: 0.4936\n",
            "Epoch 8/30\n",
            "621/621 [==============================] - 2s 3ms/step - loss: 0.6921 - accuracy: 0.4987 - val_loss: 0.6952 - val_accuracy: 0.4957\n",
            "Epoch 9/30\n",
            "621/621 [==============================] - 2s 3ms/step - loss: 0.6919 - accuracy: 0.5065 - val_loss: 0.6949 - val_accuracy: 0.5040\n",
            "Epoch 10/30\n",
            "621/621 [==============================] - 2s 3ms/step - loss: 0.6920 - accuracy: 0.5063 - val_loss: 0.6955 - val_accuracy: 0.4939\n",
            "Epoch 11/30\n",
            "621/621 [==============================] - 2s 3ms/step - loss: 0.6917 - accuracy: 0.5085 - val_loss: 0.6956 - val_accuracy: 0.4935\n",
            "Epoch 12/30\n",
            "621/621 [==============================] - 2s 3ms/step - loss: 0.6914 - accuracy: 0.5025 - val_loss: 0.8197 - val_accuracy: 0.4953\n",
            "Epoch 13/30\n",
            "621/621 [==============================] - 2s 3ms/step - loss: 0.6915 - accuracy: 0.5077 - val_loss: 0.6965 - val_accuracy: 0.4938\n",
            "Epoch 14/30\n",
            "621/621 [==============================] - 2s 3ms/step - loss: 0.6915 - accuracy: 0.5079 - val_loss: 0.6970 - val_accuracy: 0.4944\n",
            "Epoch 15/30\n",
            "621/621 [==============================] - 2s 3ms/step - loss: 0.6911 - accuracy: 0.5097 - val_loss: 0.6960 - val_accuracy: 0.4940\n",
            "Epoch 16/30\n",
            "621/621 [==============================] - 2s 3ms/step - loss: 0.6916 - accuracy: 0.5090 - val_loss: 0.6956 - val_accuracy: 0.4963\n",
            "Epoch 17/30\n",
            "621/621 [==============================] - 2s 3ms/step - loss: 0.6908 - accuracy: 0.5089 - val_loss: 0.6981 - val_accuracy: 0.4951\n",
            "Epoch 18/30\n",
            "621/621 [==============================] - 2s 3ms/step - loss: 0.6904 - accuracy: 0.5098 - val_loss: 0.6974 - val_accuracy: 0.4956\n",
            "Epoch 19/30\n",
            "621/621 [==============================] - 2s 3ms/step - loss: 0.6902 - accuracy: 0.5100 - val_loss: 0.6975 - val_accuracy: 0.4938\n",
            "Epoch 20/30\n",
            "621/621 [==============================] - 2s 3ms/step - loss: 0.6902 - accuracy: 0.5085 - val_loss: 0.6981 - val_accuracy: 0.4950\n",
            "Epoch 21/30\n",
            "621/621 [==============================] - 2s 3ms/step - loss: 0.6900 - accuracy: 0.5066 - val_loss: 0.7002 - val_accuracy: 0.4941\n",
            "Epoch 22/30\n",
            "621/621 [==============================] - 2s 3ms/step - loss: 0.6902 - accuracy: 0.5094 - val_loss: 0.6992 - val_accuracy: 0.4945\n",
            "Epoch 23/30\n",
            "621/621 [==============================] - 2s 3ms/step - loss: 0.6900 - accuracy: 0.5091 - val_loss: 0.6991 - val_accuracy: 0.4947\n",
            "Epoch 24/30\n",
            "621/621 [==============================] - 2s 3ms/step - loss: 0.6895 - accuracy: 0.5047 - val_loss: 0.7001 - val_accuracy: 0.4938\n",
            "Epoch 25/30\n",
            "621/621 [==============================] - 2s 3ms/step - loss: 0.6898 - accuracy: 0.5091 - val_loss: 0.6995 - val_accuracy: 0.4943\n",
            "Epoch 26/30\n",
            "621/621 [==============================] - 2s 3ms/step - loss: 0.6894 - accuracy: 0.5101 - val_loss: 0.7076 - val_accuracy: 0.4952\n",
            "Epoch 27/30\n",
            "621/621 [==============================] - 2s 3ms/step - loss: 0.6894 - accuracy: 0.5077 - val_loss: 0.7001 - val_accuracy: 0.4939\n",
            "Epoch 28/30\n",
            "621/621 [==============================] - 2s 3ms/step - loss: 0.6893 - accuracy: 0.5084 - val_loss: 0.7011 - val_accuracy: 0.4949\n",
            "Epoch 29/30\n",
            "621/621 [==============================] - 2s 3ms/step - loss: 0.6889 - accuracy: 0.5085 - val_loss: 0.7030 - val_accuracy: 0.4955\n",
            "Epoch 30/30\n",
            "621/621 [==============================] - 2s 3ms/step - loss: 0.6889 - accuracy: 0.5045 - val_loss: 0.7018 - val_accuracy: 0.4949\n"
          ],
          "name": "stdout"
        }
      ]
    },
    {
      "cell_type": "markdown",
      "metadata": {
        "id": "Ss9uodp31OmC"
      },
      "source": [
        "This is a prediction rate that is about the same as a random rate. Let us see if the information learned by the model is by virtue of the language embeddings or not"
      ]
    },
    {
      "cell_type": "code",
      "metadata": {
        "id": "xZUK-djd3fxa"
      },
      "source": [
        "cont_train = []\n",
        "for i in train:\n",
        "  cont_train.append([[np.add(np.array(i[0][0]),np.random.uniform(low=-1, high=1, size=len(i[0][0]) )).tolist()]])\n",
        "cont_test = []\n",
        "for i in test:\n",
        "  cont_test.append([[np.add(np.array(i[0][0]),np.random.uniform(low=-1, high=1, size=len(i[0][0]) )).tolist()]])"
      ],
      "execution_count": 42,
      "outputs": []
    },
    {
      "cell_type": "code",
      "metadata": {
        "colab": {
          "base_uri": "https://localhost:8080/"
        },
        "id": "1qy_1AWi4oyf",
        "outputId": "cf3d7197-d6af-4153-d125-17f1cfbe64b4"
      },
      "source": [
        "hist = model.fit(cont_train, trainans, validation_data=(cont_test, testans), epochs=30)\n",
        "c = (np.mean(hist.history.get(\"val_accuracy\")))"
      ],
      "execution_count": 43,
      "outputs": [
        {
          "output_type": "stream",
          "text": [
            "Epoch 1/30\n",
            "621/621 [==============================] - 34s 55ms/step - loss: 0.6887 - accuracy: 0.5628 - val_loss: 0.6716 - val_accuracy: 0.5745\n",
            "Epoch 2/30\n",
            "621/621 [==============================] - 2s 3ms/step - loss: 0.6386 - accuracy: 0.6262 - val_loss: 0.6806 - val_accuracy: 0.5728\n",
            "Epoch 3/30\n",
            "621/621 [==============================] - 2s 3ms/step - loss: 0.5903 - accuracy: 0.6742 - val_loss: 0.7149 - val_accuracy: 0.5605\n",
            "Epoch 4/30\n",
            "621/621 [==============================] - 2s 3ms/step - loss: 0.5118 - accuracy: 0.7367 - val_loss: 0.7924 - val_accuracy: 0.5501\n",
            "Epoch 5/30\n",
            "621/621 [==============================] - 2s 3ms/step - loss: 0.4227 - accuracy: 0.7968 - val_loss: 0.9288 - val_accuracy: 0.5446\n",
            "Epoch 6/30\n",
            "621/621 [==============================] - 2s 3ms/step - loss: 0.3452 - accuracy: 0.8407 - val_loss: 1.1374 - val_accuracy: 0.5412\n",
            "Epoch 7/30\n",
            "621/621 [==============================] - 2s 3ms/step - loss: 0.2787 - accuracy: 0.8778 - val_loss: 1.3241 - val_accuracy: 0.5364\n",
            "Epoch 8/30\n",
            "621/621 [==============================] - 2s 3ms/step - loss: 0.2233 - accuracy: 0.9067 - val_loss: 1.5544 - val_accuracy: 0.5347\n",
            "Epoch 9/30\n",
            "621/621 [==============================] - 2s 3ms/step - loss: 0.1771 - accuracy: 0.9301 - val_loss: 1.8118 - val_accuracy: 0.5364\n",
            "Epoch 10/30\n",
            "621/621 [==============================] - 2s 3ms/step - loss: 0.1438 - accuracy: 0.9451 - val_loss: 2.1911 - val_accuracy: 0.5327\n",
            "Epoch 11/30\n",
            "621/621 [==============================] - 2s 3ms/step - loss: 0.1185 - accuracy: 0.9578 - val_loss: 2.3688 - val_accuracy: 0.5404\n",
            "Epoch 12/30\n",
            "621/621 [==============================] - 2s 3ms/step - loss: 0.0955 - accuracy: 0.9678 - val_loss: 2.6858 - val_accuracy: 0.5375\n",
            "Epoch 13/30\n",
            "621/621 [==============================] - 2s 3ms/step - loss: 0.0808 - accuracy: 0.9744 - val_loss: 2.8466 - val_accuracy: 0.5346\n",
            "Epoch 14/30\n",
            "621/621 [==============================] - 2s 3ms/step - loss: 0.0708 - accuracy: 0.9765 - val_loss: 3.1316 - val_accuracy: 0.5375\n",
            "Epoch 15/30\n",
            "621/621 [==============================] - 2s 3ms/step - loss: 0.0569 - accuracy: 0.9836 - val_loss: 3.4551 - val_accuracy: 0.5358\n",
            "Epoch 16/30\n",
            "621/621 [==============================] - 2s 3ms/step - loss: 0.0484 - accuracy: 0.9871 - val_loss: 3.6727 - val_accuracy: 0.5374\n",
            "Epoch 17/30\n",
            "621/621 [==============================] - 2s 3ms/step - loss: 0.0465 - accuracy: 0.9879 - val_loss: 3.7917 - val_accuracy: 0.5335\n",
            "Epoch 18/30\n",
            "621/621 [==============================] - 2s 3ms/step - loss: 0.0458 - accuracy: 0.9868 - val_loss: 3.9827 - val_accuracy: 0.5373\n",
            "Epoch 19/30\n",
            "621/621 [==============================] - 2s 3ms/step - loss: 0.0400 - accuracy: 0.9890 - val_loss: 4.1557 - val_accuracy: 0.5307\n",
            "Epoch 20/30\n",
            "621/621 [==============================] - 2s 3ms/step - loss: 0.0278 - accuracy: 0.9930 - val_loss: 4.5144 - val_accuracy: 0.5367\n",
            "Epoch 21/30\n",
            "621/621 [==============================] - 2s 3ms/step - loss: 0.0287 - accuracy: 0.9916 - val_loss: 4.5710 - val_accuracy: 0.5309\n",
            "Epoch 22/30\n",
            "621/621 [==============================] - 2s 3ms/step - loss: 0.0530 - accuracy: 0.9845 - val_loss: 4.6456 - val_accuracy: 0.5313\n",
            "Epoch 23/30\n",
            "621/621 [==============================] - 2s 3ms/step - loss: 0.0563 - accuracy: 0.9813 - val_loss: 4.4691 - val_accuracy: 0.5291\n",
            "Epoch 24/30\n",
            "621/621 [==============================] - 2s 3ms/step - loss: 0.0388 - accuracy: 0.9874 - val_loss: 4.6648 - val_accuracy: 0.5342\n",
            "Epoch 25/30\n",
            "621/621 [==============================] - 2s 3ms/step - loss: 0.0197 - accuracy: 0.9953 - val_loss: 4.9593 - val_accuracy: 0.5373\n",
            "Epoch 26/30\n",
            "621/621 [==============================] - 2s 3ms/step - loss: 0.0141 - accuracy: 0.9975 - val_loss: 5.0425 - val_accuracy: 0.5329\n",
            "Epoch 27/30\n",
            "621/621 [==============================] - 2s 3ms/step - loss: 0.0105 - accuracy: 0.9979 - val_loss: 5.3048 - val_accuracy: 0.5327\n",
            "Epoch 28/30\n",
            "621/621 [==============================] - 2s 3ms/step - loss: 0.0127 - accuracy: 0.9970 - val_loss: 5.5019 - val_accuracy: 0.5321\n",
            "Epoch 29/30\n",
            "621/621 [==============================] - 2s 3ms/step - loss: 0.0586 - accuracy: 0.9812 - val_loss: 5.1402 - val_accuracy: 0.5303\n",
            "Epoch 30/30\n",
            "621/621 [==============================] - 2s 3ms/step - loss: 0.0554 - accuracy: 0.9818 - val_loss: 5.0910 - val_accuracy: 0.5314\n"
          ],
          "name": "stdout"
        }
      ]
    },
    {
      "cell_type": "code",
      "metadata": {
        "id": "Omr-ZB8V11To"
      },
      "source": [
        "metrics.append((a,b,c,model))"
      ],
      "execution_count": 44,
      "outputs": []
    },
    {
      "cell_type": "markdown",
      "metadata": {
        "id": "7hu21hQQB49X"
      },
      "source": [
        "As we can see the randomized addition to the embeddings has resulted in worse accuracy. Let us now experiment with a different version of the model"
      ]
    },
    {
      "cell_type": "code",
      "metadata": {
        "colab": {
          "base_uri": "https://localhost:8080/"
        },
        "id": "Lf2tbmUyCE1M",
        "outputId": "89f5d9d8-927d-4154-8d4c-45931c263a48"
      },
      "source": [
        "from keras.models import Sequential\n",
        "\n",
        "from keras.layers import Dense, Conv2D, Flatten\n",
        "\n",
        "model = Sequential()\n",
        "\n",
        "model.add(Conv2D(128, kernel_size=1, activation='relu', input_shape=(1,1,1024)))\n",
        "\n",
        "model.add(Conv2D(64, kernel_size=1, activation='relu'))\n",
        "model.add(Conv2D(32, kernel_size=1, activation='relu'))\n",
        "\n",
        "model.add(Flatten())\n",
        "\n",
        "model.add(Dense(1, activation='sigmoid'))\n",
        "model.compile(optimizer='adam', loss='binary_crossentropy', metrics=['accuracy'])\n",
        "hist = model.fit(train, trainans, validation_data=(test, testans), epochs=30)\n",
        "a = (np.mean(hist.history.get(\"val_accuracy\")))\n",
        "hist = model.fit(train, np.random.choice([0, 1], size=len(trainans)).tolist(), validation_data=(test, np.random.choice([0, 1], size=len(testans)).tolist()), epochs=30)\n",
        "b = (np.mean(hist.history.get(\"val_accuracy\")))\n",
        "hist = model.fit(cont_train, trainans, validation_data=(cont_test, testans), epochs=30)\n",
        "c = (np.mean(hist.history.get(\"val_accuracy\")))\n",
        "metrics.append((a,b,c,model))\n",
        "\n",
        "\n"
      ],
      "execution_count": 45,
      "outputs": [
        {
          "output_type": "stream",
          "text": [
            "Epoch 1/30\n",
            "621/621 [==============================] - 34s 55ms/step - loss: 0.6455 - accuracy: 0.6242 - val_loss: 0.6273 - val_accuracy: 0.6438\n",
            "Epoch 2/30\n",
            "621/621 [==============================] - 2s 3ms/step - loss: 0.6226 - accuracy: 0.6447 - val_loss: 0.5975 - val_accuracy: 0.6727\n",
            "Epoch 3/30\n",
            "621/621 [==============================] - 2s 3ms/step - loss: 0.6155 - accuracy: 0.6527 - val_loss: 0.6237 - val_accuracy: 0.6575\n",
            "Epoch 4/30\n",
            "621/621 [==============================] - 2s 3ms/step - loss: 0.6004 - accuracy: 0.6672 - val_loss: 0.6254 - val_accuracy: 0.6507\n",
            "Epoch 5/30\n",
            "621/621 [==============================] - 2s 3ms/step - loss: 0.5860 - accuracy: 0.6794 - val_loss: 0.5642 - val_accuracy: 0.7075\n",
            "Epoch 6/30\n",
            "621/621 [==============================] - 2s 3ms/step - loss: 0.5771 - accuracy: 0.6878 - val_loss: 0.5768 - val_accuracy: 0.6801\n",
            "Epoch 7/30\n",
            "621/621 [==============================] - 2s 3ms/step - loss: 0.5607 - accuracy: 0.7058 - val_loss: 0.5600 - val_accuracy: 0.7091\n",
            "Epoch 8/30\n",
            "621/621 [==============================] - 2s 3ms/step - loss: 0.5583 - accuracy: 0.7053 - val_loss: 0.5775 - val_accuracy: 0.6813\n",
            "Epoch 9/30\n",
            "621/621 [==============================] - 2s 3ms/step - loss: 0.5539 - accuracy: 0.7085 - val_loss: 0.5393 - val_accuracy: 0.7207\n",
            "Epoch 10/30\n",
            "621/621 [==============================] - 2s 3ms/step - loss: 0.5561 - accuracy: 0.7075 - val_loss: 0.5847 - val_accuracy: 0.6889\n",
            "Epoch 11/30\n",
            "621/621 [==============================] - 2s 3ms/step - loss: 0.5508 - accuracy: 0.7107 - val_loss: 0.5429 - val_accuracy: 0.7235\n",
            "Epoch 12/30\n",
            "621/621 [==============================] - 2s 3ms/step - loss: 0.5441 - accuracy: 0.7170 - val_loss: 0.5553 - val_accuracy: 0.7092\n",
            "Epoch 13/30\n",
            "621/621 [==============================] - 2s 3ms/step - loss: 0.5439 - accuracy: 0.7150 - val_loss: 0.5313 - val_accuracy: 0.7323\n",
            "Epoch 14/30\n",
            "621/621 [==============================] - 2s 3ms/step - loss: 0.5329 - accuracy: 0.7263 - val_loss: 0.5252 - val_accuracy: 0.7341\n",
            "Epoch 15/30\n",
            "621/621 [==============================] - 2s 3ms/step - loss: 0.5327 - accuracy: 0.7283 - val_loss: 0.5250 - val_accuracy: 0.7385\n",
            "Epoch 16/30\n",
            "621/621 [==============================] - 2s 3ms/step - loss: 0.5274 - accuracy: 0.7293 - val_loss: 0.5689 - val_accuracy: 0.6944\n",
            "Epoch 17/30\n",
            "621/621 [==============================] - 2s 3ms/step - loss: 0.5290 - accuracy: 0.7284 - val_loss: 0.5252 - val_accuracy: 0.7335\n",
            "Epoch 18/30\n",
            "621/621 [==============================] - 2s 3ms/step - loss: 0.5235 - accuracy: 0.7318 - val_loss: 0.5150 - val_accuracy: 0.7380\n",
            "Epoch 19/30\n",
            "621/621 [==============================] - 2s 3ms/step - loss: 0.5255 - accuracy: 0.7293 - val_loss: 0.5373 - val_accuracy: 0.7298\n",
            "Epoch 20/30\n",
            "621/621 [==============================] - 2s 3ms/step - loss: 0.5190 - accuracy: 0.7364 - val_loss: 0.5118 - val_accuracy: 0.7465\n",
            "Epoch 21/30\n",
            "621/621 [==============================] - 2s 3ms/step - loss: 0.5156 - accuracy: 0.7362 - val_loss: 0.5152 - val_accuracy: 0.7403\n",
            "Epoch 22/30\n",
            "621/621 [==============================] - 2s 3ms/step - loss: 0.5179 - accuracy: 0.7343 - val_loss: 0.6985 - val_accuracy: 0.6303\n",
            "Epoch 23/30\n",
            "621/621 [==============================] - 2s 3ms/step - loss: 0.5178 - accuracy: 0.7355 - val_loss: 0.5116 - val_accuracy: 0.7469\n",
            "Epoch 24/30\n",
            "621/621 [==============================] - 2s 3ms/step - loss: 0.5097 - accuracy: 0.7434 - val_loss: 0.5184 - val_accuracy: 0.7438\n",
            "Epoch 25/30\n",
            "621/621 [==============================] - 2s 3ms/step - loss: 0.5196 - accuracy: 0.7332 - val_loss: 0.5056 - val_accuracy: 0.7471\n",
            "Epoch 26/30\n",
            "621/621 [==============================] - 2s 3ms/step - loss: 0.5085 - accuracy: 0.7403 - val_loss: 0.5073 - val_accuracy: 0.7419\n",
            "Epoch 27/30\n",
            "621/621 [==============================] - 2s 3ms/step - loss: 0.5100 - accuracy: 0.7420 - val_loss: 0.5054 - val_accuracy: 0.7469\n",
            "Epoch 28/30\n",
            "621/621 [==============================] - 2s 3ms/step - loss: 0.5127 - accuracy: 0.7366 - val_loss: 0.5020 - val_accuracy: 0.7456\n",
            "Epoch 29/30\n",
            "621/621 [==============================] - 2s 3ms/step - loss: 0.5030 - accuracy: 0.7448 - val_loss: 0.5152 - val_accuracy: 0.7465\n",
            "Epoch 30/30\n",
            "621/621 [==============================] - 2s 3ms/step - loss: 0.5045 - accuracy: 0.7439 - val_loss: 0.5353 - val_accuracy: 0.7201\n",
            "Epoch 1/30\n",
            "621/621 [==============================] - 34s 55ms/step - loss: 0.7009 - accuracy: 0.4996 - val_loss: 0.6956 - val_accuracy: 0.5014\n",
            "Epoch 2/30\n",
            "621/621 [==============================] - 2s 3ms/step - loss: 0.6928 - accuracy: 0.5076 - val_loss: 0.6962 - val_accuracy: 0.5007\n",
            "Epoch 3/30\n",
            "621/621 [==============================] - 2s 3ms/step - loss: 0.6926 - accuracy: 0.5045 - val_loss: 0.6970 - val_accuracy: 0.5015\n",
            "Epoch 4/30\n",
            "621/621 [==============================] - 2s 3ms/step - loss: 0.6925 - accuracy: 0.5026 - val_loss: 0.6962 - val_accuracy: 0.4889\n",
            "Epoch 5/30\n",
            "621/621 [==============================] - 2s 3ms/step - loss: 0.6924 - accuracy: 0.5044 - val_loss: 0.6961 - val_accuracy: 0.4896\n",
            "Epoch 6/30\n",
            "621/621 [==============================] - 2s 3ms/step - loss: 0.6919 - accuracy: 0.5089 - val_loss: 0.6977 - val_accuracy: 0.4909\n",
            "Epoch 7/30\n",
            "621/621 [==============================] - 2s 3ms/step - loss: 0.6918 - accuracy: 0.5049 - val_loss: 0.6981 - val_accuracy: 0.4943\n",
            "Epoch 8/30\n",
            "621/621 [==============================] - 2s 3ms/step - loss: 0.6919 - accuracy: 0.5033 - val_loss: 0.6979 - val_accuracy: 0.5016\n",
            "Epoch 9/30\n",
            "621/621 [==============================] - 2s 3ms/step - loss: 0.6919 - accuracy: 0.5022 - val_loss: 0.6966 - val_accuracy: 0.4878\n",
            "Epoch 10/30\n",
            "621/621 [==============================] - 2s 3ms/step - loss: 0.6916 - accuracy: 0.5034 - val_loss: 0.6962 - val_accuracy: 0.5014\n",
            "Epoch 11/30\n",
            "621/621 [==============================] - 2s 3ms/step - loss: 0.6916 - accuracy: 0.5082 - val_loss: 0.6981 - val_accuracy: 0.5002\n",
            "Epoch 12/30\n",
            "621/621 [==============================] - 2s 3ms/step - loss: 0.6912 - accuracy: 0.5054 - val_loss: 0.7008 - val_accuracy: 0.5004\n",
            "Epoch 13/30\n",
            "621/621 [==============================] - 2s 3ms/step - loss: 0.6916 - accuracy: 0.5099 - val_loss: 0.6959 - val_accuracy: 0.4999\n",
            "Epoch 14/30\n",
            "621/621 [==============================] - 2s 3ms/step - loss: 0.6921 - accuracy: 0.5025 - val_loss: 0.6971 - val_accuracy: 0.5016\n",
            "Epoch 15/30\n",
            "621/621 [==============================] - 2s 3ms/step - loss: 0.6914 - accuracy: 0.5026 - val_loss: 0.7012 - val_accuracy: 0.5008\n",
            "Epoch 16/30\n",
            "621/621 [==============================] - 2s 3ms/step - loss: 0.6911 - accuracy: 0.5106 - val_loss: 0.6999 - val_accuracy: 0.5012\n",
            "Epoch 17/30\n",
            "621/621 [==============================] - 2s 3ms/step - loss: 0.6907 - accuracy: 0.5092 - val_loss: 0.7033 - val_accuracy: 0.4842\n",
            "Epoch 18/30\n",
            "621/621 [==============================] - 2s 3ms/step - loss: 0.6907 - accuracy: 0.5050 - val_loss: 0.6978 - val_accuracy: 0.4997\n",
            "Epoch 19/30\n",
            "621/621 [==============================] - 2s 3ms/step - loss: 0.6905 - accuracy: 0.5067 - val_loss: 0.7046 - val_accuracy: 0.5005\n",
            "Epoch 20/30\n",
            "621/621 [==============================] - 2s 3ms/step - loss: 0.6906 - accuracy: 0.5072 - val_loss: 0.7008 - val_accuracy: 0.4970\n",
            "Epoch 21/30\n",
            "621/621 [==============================] - 2s 3ms/step - loss: 0.6902 - accuracy: 0.5060 - val_loss: 0.7029 - val_accuracy: 0.4993\n",
            "Epoch 22/30\n",
            "621/621 [==============================] - 2s 3ms/step - loss: 0.6902 - accuracy: 0.5049 - val_loss: 0.7023 - val_accuracy: 0.4985\n",
            "Epoch 23/30\n",
            "621/621 [==============================] - 2s 3ms/step - loss: 0.6902 - accuracy: 0.5086 - val_loss: 0.7061 - val_accuracy: 0.4997\n",
            "Epoch 24/30\n",
            "621/621 [==============================] - 2s 3ms/step - loss: 0.6895 - accuracy: 0.5074 - val_loss: 0.7135 - val_accuracy: 0.4986\n",
            "Epoch 25/30\n",
            "621/621 [==============================] - 2s 3ms/step - loss: 0.6893 - accuracy: 0.5071 - val_loss: 0.7083 - val_accuracy: 0.4960\n",
            "Epoch 26/30\n",
            "621/621 [==============================] - 2s 3ms/step - loss: 0.6925 - accuracy: 0.5089 - val_loss: 0.7077 - val_accuracy: 0.4914\n",
            "Epoch 27/30\n",
            "621/621 [==============================] - 2s 3ms/step - loss: 0.6892 - accuracy: 0.5108 - val_loss: 0.7105 - val_accuracy: 0.5039\n",
            "Epoch 28/30\n",
            "621/621 [==============================] - 2s 3ms/step - loss: 0.6889 - accuracy: 0.5111 - val_loss: 0.7059 - val_accuracy: 0.5008\n",
            "Epoch 29/30\n",
            "621/621 [==============================] - 2s 3ms/step - loss: 0.6887 - accuracy: 0.5056 - val_loss: 0.7119 - val_accuracy: 0.4949\n",
            "Epoch 30/30\n",
            "621/621 [==============================] - 2s 3ms/step - loss: 0.6887 - accuracy: 0.5098 - val_loss: 0.7071 - val_accuracy: 0.4972\n",
            "Epoch 1/30\n",
            "621/621 [==============================] - 34s 54ms/step - loss: 0.6836 - accuracy: 0.5575 - val_loss: 0.6696 - val_accuracy: 0.5841\n",
            "Epoch 2/30\n",
            "621/621 [==============================] - 2s 3ms/step - loss: 0.6474 - accuracy: 0.6152 - val_loss: 0.6713 - val_accuracy: 0.5780\n",
            "Epoch 3/30\n",
            "621/621 [==============================] - 2s 3ms/step - loss: 0.5949 - accuracy: 0.6703 - val_loss: 0.7014 - val_accuracy: 0.5708\n",
            "Epoch 4/30\n",
            "621/621 [==============================] - 2s 3ms/step - loss: 0.4461 - accuracy: 0.7861 - val_loss: 0.8673 - val_accuracy: 0.5581\n",
            "Epoch 5/30\n",
            "621/621 [==============================] - 2s 3ms/step - loss: 0.2290 - accuracy: 0.9082 - val_loss: 1.2775 - val_accuracy: 0.5414\n",
            "Epoch 6/30\n",
            "621/621 [==============================] - 2s 3ms/step - loss: 0.0856 - accuracy: 0.9698 - val_loss: 2.0013 - val_accuracy: 0.5370\n",
            "Epoch 7/30\n",
            "621/621 [==============================] - 2s 3ms/step - loss: 0.0279 - accuracy: 0.9933 - val_loss: 2.7335 - val_accuracy: 0.5418\n",
            "Epoch 8/30\n",
            "621/621 [==============================] - 2s 3ms/step - loss: 0.0246 - accuracy: 0.9919 - val_loss: 2.9106 - val_accuracy: 0.5428\n",
            "Epoch 9/30\n",
            "621/621 [==============================] - 2s 3ms/step - loss: 0.0401 - accuracy: 0.9879 - val_loss: 2.9507 - val_accuracy: 0.5430\n",
            "Epoch 10/30\n",
            "621/621 [==============================] - 2s 3ms/step - loss: 0.0281 - accuracy: 0.9905 - val_loss: 3.1360 - val_accuracy: 0.5390\n",
            "Epoch 11/30\n",
            "621/621 [==============================] - 2s 3ms/step - loss: 0.0259 - accuracy: 0.9919 - val_loss: 3.2376 - val_accuracy: 0.5374\n",
            "Epoch 12/30\n",
            "621/621 [==============================] - 2s 3ms/step - loss: 0.0275 - accuracy: 0.9914 - val_loss: 3.4117 - val_accuracy: 0.5401\n",
            "Epoch 13/30\n",
            "621/621 [==============================] - 2s 3ms/step - loss: 0.0247 - accuracy: 0.9922 - val_loss: 3.5424 - val_accuracy: 0.5368\n",
            "Epoch 14/30\n",
            "621/621 [==============================] - 2s 3ms/step - loss: 0.0186 - accuracy: 0.9939 - val_loss: 3.6042 - val_accuracy: 0.5353\n",
            "Epoch 15/30\n",
            "621/621 [==============================] - 2s 3ms/step - loss: 0.0140 - accuracy: 0.9953 - val_loss: 4.0021 - val_accuracy: 0.5354\n",
            "Epoch 16/30\n",
            "621/621 [==============================] - 2s 3ms/step - loss: 0.0228 - accuracy: 0.9931 - val_loss: 3.5765 - val_accuracy: 0.5280\n",
            "Epoch 17/30\n",
            "621/621 [==============================] - 2s 3ms/step - loss: 0.0304 - accuracy: 0.9897 - val_loss: 3.7204 - val_accuracy: 0.5352\n",
            "Epoch 18/30\n",
            "621/621 [==============================] - 2s 3ms/step - loss: 0.0276 - accuracy: 0.9912 - val_loss: 3.5517 - val_accuracy: 0.5317\n",
            "Epoch 19/30\n",
            "621/621 [==============================] - 2s 3ms/step - loss: 0.0123 - accuracy: 0.9959 - val_loss: 3.9618 - val_accuracy: 0.5395\n",
            "Epoch 20/30\n",
            "621/621 [==============================] - 2s 3ms/step - loss: 0.0052 - accuracy: 0.9984 - val_loss: 4.3345 - val_accuracy: 0.5342\n",
            "Epoch 21/30\n",
            "621/621 [==============================] - 2s 3ms/step - loss: 0.0091 - accuracy: 0.9973 - val_loss: 4.2062 - val_accuracy: 0.5334\n",
            "Epoch 22/30\n",
            "621/621 [==============================] - 2s 3ms/step - loss: 0.0301 - accuracy: 0.9898 - val_loss: 3.6069 - val_accuracy: 0.5332\n",
            "Epoch 23/30\n",
            "621/621 [==============================] - 2s 3ms/step - loss: 0.0294 - accuracy: 0.9899 - val_loss: 3.6715 - val_accuracy: 0.5298\n",
            "Epoch 24/30\n",
            "621/621 [==============================] - 2s 3ms/step - loss: 0.0167 - accuracy: 0.9944 - val_loss: 3.8861 - val_accuracy: 0.5351\n",
            "Epoch 25/30\n",
            "621/621 [==============================] - 2s 3ms/step - loss: 0.0134 - accuracy: 0.9954 - val_loss: 4.2242 - val_accuracy: 0.5387\n",
            "Epoch 26/30\n",
            "621/621 [==============================] - 2s 3ms/step - loss: 0.0080 - accuracy: 0.9977 - val_loss: 4.4421 - val_accuracy: 0.5335\n",
            "Epoch 27/30\n",
            "621/621 [==============================] - 2s 3ms/step - loss: 0.0111 - accuracy: 0.9964 - val_loss: 4.2208 - val_accuracy: 0.5273\n",
            "Epoch 28/30\n",
            "621/621 [==============================] - 2s 3ms/step - loss: 0.0181 - accuracy: 0.9941 - val_loss: 4.2147 - val_accuracy: 0.5342\n",
            "Epoch 29/30\n",
            "621/621 [==============================] - 2s 3ms/step - loss: 0.0249 - accuracy: 0.9916 - val_loss: 3.7748 - val_accuracy: 0.5307\n",
            "Epoch 30/30\n",
            "621/621 [==============================] - 2s 3ms/step - loss: 0.0125 - accuracy: 0.9955 - val_loss: 4.1045 - val_accuracy: 0.5351\n"
          ],
          "name": "stdout"
        }
      ]
    },
    {
      "cell_type": "code",
      "metadata": {
        "id": "6533B3rrGd-z"
      },
      "source": [
        "a,b,c,d,e,f = [],[],[],[],[],[]\n",
        "for i in train:\n",
        "  a.append([i[0][0]])\n",
        "for j in test:\n",
        "  b.append([j[0][0]])\n",
        "for l in cont_train:\n",
        "  d.append([l[0][0]])\n",
        "for n in cont_test:\n",
        "  f.append([n[0][0]])\n"
      ],
      "execution_count": 46,
      "outputs": []
    },
    {
      "cell_type": "code",
      "metadata": {
        "colab": {
          "base_uri": "https://localhost:8080/"
        },
        "id": "yjoFJn4IKUfR",
        "outputId": "8b921617-f36d-45a2-c295-88512a67cfb7"
      },
      "source": [
        "print(len(a[0][0]))"
      ],
      "execution_count": 47,
      "outputs": [
        {
          "output_type": "stream",
          "text": [
            "1024\n"
          ],
          "name": "stdout"
        }
      ]
    },
    {
      "cell_type": "code",
      "metadata": {
        "id": "QAy35qTgK32i"
      },
      "source": [
        "train = a\n",
        "test = b\n",
        "cont_train = d\n",
        "cont_test = f"
      ],
      "execution_count": 48,
      "outputs": []
    },
    {
      "cell_type": "code",
      "metadata": {
        "colab": {
          "base_uri": "https://localhost:8080/"
        },
        "id": "vCSrdrHkE9VE",
        "outputId": "3afcffdf-e5f8-40f0-a6ea-5c2416563117"
      },
      "source": [
        "from keras.models import Sequential\n",
        "\n",
        "from keras.layers import Dense, Conv1D, Flatten, Dropout, MaxPooling1D, Embedding\n",
        "\n",
        "# Define the Keras model\n",
        "model = Sequential()\n",
        "model.add(Conv1D(filters=32, kernel_size=2, padding='same', activation='relu',input_shape=(1,1024)))\n",
        "model.add(Dropout(0.50))\n",
        "model.add(MaxPooling1D(pool_size=1))\n",
        "model.add(Flatten())\n",
        "model.add(Dropout(0.50))\n",
        "model.add(Dense(1, activation='sigmoid'))\n",
        "model.compile(optimizer='adam', loss='binary_crossentropy', metrics=['accuracy'])\n",
        "hist = model.fit(train, trainans, validation_data=(test, testans), epochs=30)\n",
        "a = (np.mean(hist.history.get(\"val_accuracy\")))\n",
        "hist = model.fit(train, np.random.choice([0, 1], size=len(trainans)).tolist(), validation_data=(test, np.random.choice([0, 1], size=len(testans)).tolist()), epochs=30)\n",
        "b = (np.mean(hist.history.get(\"val_accuracy\")))\n",
        "hist = model.fit(cont_train, trainans, validation_data=(cont_test, testans), epochs=30)\n",
        "c = (np.mean(hist.history.get(\"val_accuracy\")))\n",
        "metrics.append((a,b,c,model))\n"
      ],
      "execution_count": 49,
      "outputs": [
        {
          "output_type": "stream",
          "text": [
            "Epoch 1/30\n",
            "621/621 [==============================] - 33s 54ms/step - loss: 0.6761 - accuracy: 0.5627 - val_loss: 0.6588 - val_accuracy: 0.6288\n",
            "Epoch 2/30\n",
            "621/621 [==============================] - 2s 3ms/step - loss: 0.6721 - accuracy: 0.5702 - val_loss: 0.6520 - val_accuracy: 0.6316\n",
            "Epoch 3/30\n",
            "621/621 [==============================] - 2s 3ms/step - loss: 0.6692 - accuracy: 0.5738 - val_loss: 0.6449 - val_accuracy: 0.6390\n",
            "Epoch 4/30\n",
            "621/621 [==============================] - 2s 3ms/step - loss: 0.6655 - accuracy: 0.5798 - val_loss: 0.6484 - val_accuracy: 0.6334\n",
            "Epoch 5/30\n",
            "621/621 [==============================] - 2s 3ms/step - loss: 0.6624 - accuracy: 0.5866 - val_loss: 0.6465 - val_accuracy: 0.6327\n",
            "Epoch 6/30\n",
            "621/621 [==============================] - 2s 3ms/step - loss: 0.6578 - accuracy: 0.5990 - val_loss: 0.6353 - val_accuracy: 0.6416\n",
            "Epoch 7/30\n",
            "621/621 [==============================] - 2s 3ms/step - loss: 0.6586 - accuracy: 0.5936 - val_loss: 0.6267 - val_accuracy: 0.6454\n",
            "Epoch 8/30\n",
            "621/621 [==============================] - 2s 3ms/step - loss: 0.6580 - accuracy: 0.5942 - val_loss: 0.6411 - val_accuracy: 0.6406\n",
            "Epoch 9/30\n",
            "621/621 [==============================] - 2s 3ms/step - loss: 0.6544 - accuracy: 0.5999 - val_loss: 0.6265 - val_accuracy: 0.6472\n",
            "Epoch 10/30\n",
            "621/621 [==============================] - 2s 3ms/step - loss: 0.6523 - accuracy: 0.6030 - val_loss: 0.6243 - val_accuracy: 0.6530\n",
            "Epoch 11/30\n",
            "621/621 [==============================] - 2s 3ms/step - loss: 0.6512 - accuracy: 0.5991 - val_loss: 0.6205 - val_accuracy: 0.6581\n",
            "Epoch 12/30\n",
            "621/621 [==============================] - 2s 3ms/step - loss: 0.6486 - accuracy: 0.6035 - val_loss: 0.6180 - val_accuracy: 0.6599\n",
            "Epoch 13/30\n",
            "621/621 [==============================] - 2s 3ms/step - loss: 0.6465 - accuracy: 0.6109 - val_loss: 0.6224 - val_accuracy: 0.6646\n",
            "Epoch 14/30\n",
            "621/621 [==============================] - 2s 3ms/step - loss: 0.6432 - accuracy: 0.6109 - val_loss: 0.6130 - val_accuracy: 0.6651\n",
            "Epoch 15/30\n",
            "621/621 [==============================] - 2s 3ms/step - loss: 0.6376 - accuracy: 0.6178 - val_loss: 0.6049 - val_accuracy: 0.6797\n",
            "Epoch 16/30\n",
            "621/621 [==============================] - 2s 3ms/step - loss: 0.6383 - accuracy: 0.6184 - val_loss: 0.6039 - val_accuracy: 0.6806\n",
            "Epoch 17/30\n",
            "621/621 [==============================] - 2s 3ms/step - loss: 0.6394 - accuracy: 0.6178 - val_loss: 0.6100 - val_accuracy: 0.6698\n",
            "Epoch 18/30\n",
            "621/621 [==============================] - 2s 3ms/step - loss: 0.6397 - accuracy: 0.6117 - val_loss: 0.5983 - val_accuracy: 0.6807\n",
            "Epoch 19/30\n",
            "621/621 [==============================] - 2s 3ms/step - loss: 0.6369 - accuracy: 0.6203 - val_loss: 0.6015 - val_accuracy: 0.6781\n",
            "Epoch 20/30\n",
            "621/621 [==============================] - 2s 3ms/step - loss: 0.6363 - accuracy: 0.6182 - val_loss: 0.5956 - val_accuracy: 0.6800\n",
            "Epoch 21/30\n",
            "621/621 [==============================] - 2s 3ms/step - loss: 0.6362 - accuracy: 0.6194 - val_loss: 0.5955 - val_accuracy: 0.6820\n",
            "Epoch 22/30\n",
            "621/621 [==============================] - 2s 3ms/step - loss: 0.6372 - accuracy: 0.6202 - val_loss: 0.5927 - val_accuracy: 0.6860\n",
            "Epoch 23/30\n",
            "621/621 [==============================] - 2s 3ms/step - loss: 0.6345 - accuracy: 0.6261 - val_loss: 0.5985 - val_accuracy: 0.6914\n",
            "Epoch 24/30\n",
            "621/621 [==============================] - 2s 3ms/step - loss: 0.6319 - accuracy: 0.6277 - val_loss: 0.5884 - val_accuracy: 0.6909\n",
            "Epoch 25/30\n",
            "621/621 [==============================] - 2s 3ms/step - loss: 0.6303 - accuracy: 0.6292 - val_loss: 0.6009 - val_accuracy: 0.6949\n",
            "Epoch 26/30\n",
            "621/621 [==============================] - 2s 3ms/step - loss: 0.6357 - accuracy: 0.6229 - val_loss: 0.5935 - val_accuracy: 0.6881\n",
            "Epoch 27/30\n",
            "621/621 [==============================] - 2s 3ms/step - loss: 0.6301 - accuracy: 0.6253 - val_loss: 0.5941 - val_accuracy: 0.6817\n",
            "Epoch 28/30\n",
            "621/621 [==============================] - 2s 3ms/step - loss: 0.6306 - accuracy: 0.6259 - val_loss: 0.6246 - val_accuracy: 0.6403\n",
            "Epoch 29/30\n",
            "621/621 [==============================] - 2s 3ms/step - loss: 0.6311 - accuracy: 0.6268 - val_loss: 0.5937 - val_accuracy: 0.6868\n",
            "Epoch 30/30\n",
            "621/621 [==============================] - 2s 3ms/step - loss: 0.6284 - accuracy: 0.6297 - val_loss: 0.5865 - val_accuracy: 0.6846\n",
            "Epoch 1/30\n",
            "621/621 [==============================] - 34s 55ms/step - loss: 0.7013 - accuracy: 0.5015 - val_loss: 0.6938 - val_accuracy: 0.5087\n",
            "Epoch 2/30\n",
            "621/621 [==============================] - 2s 3ms/step - loss: 0.6934 - accuracy: 0.5015 - val_loss: 0.6937 - val_accuracy: 0.5088\n",
            "Epoch 3/30\n",
            "621/621 [==============================] - 2s 3ms/step - loss: 0.6933 - accuracy: 0.5016 - val_loss: 0.6940 - val_accuracy: 0.5080\n",
            "Epoch 4/30\n",
            "621/621 [==============================] - 2s 3ms/step - loss: 0.6932 - accuracy: 0.4987 - val_loss: 0.6937 - val_accuracy: 0.5091\n",
            "Epoch 5/30\n",
            "621/621 [==============================] - 2s 3ms/step - loss: 0.6931 - accuracy: 0.4988 - val_loss: 0.6937 - val_accuracy: 0.5091\n",
            "Epoch 6/30\n",
            "621/621 [==============================] - 2s 3ms/step - loss: 0.6935 - accuracy: 0.4982 - val_loss: 0.6937 - val_accuracy: 0.5093\n",
            "Epoch 7/30\n",
            "621/621 [==============================] - 2s 3ms/step - loss: 0.6931 - accuracy: 0.4990 - val_loss: 0.6936 - val_accuracy: 0.5094\n",
            "Epoch 8/30\n",
            "621/621 [==============================] - 2s 3ms/step - loss: 0.6936 - accuracy: 0.5013 - val_loss: 0.6937 - val_accuracy: 0.5095\n",
            "Epoch 9/30\n",
            "621/621 [==============================] - 2s 3ms/step - loss: 0.6932 - accuracy: 0.4994 - val_loss: 0.6935 - val_accuracy: 0.5095\n",
            "Epoch 10/30\n",
            "621/621 [==============================] - 2s 3ms/step - loss: 0.6932 - accuracy: 0.4989 - val_loss: 0.6935 - val_accuracy: 0.5095\n",
            "Epoch 11/30\n",
            "621/621 [==============================] - 2s 3ms/step - loss: 0.6931 - accuracy: 0.5005 - val_loss: 0.6936 - val_accuracy: 0.4903\n",
            "Epoch 12/30\n",
            "621/621 [==============================] - 2s 3ms/step - loss: 0.6931 - accuracy: 0.4927 - val_loss: 0.6935 - val_accuracy: 0.5095\n",
            "Epoch 13/30\n",
            "621/621 [==============================] - 2s 3ms/step - loss: 0.6931 - accuracy: 0.4974 - val_loss: 0.6937 - val_accuracy: 0.5093\n",
            "Epoch 14/30\n",
            "621/621 [==============================] - 2s 3ms/step - loss: 0.6931 - accuracy: 0.4985 - val_loss: 0.6936 - val_accuracy: 0.5095\n",
            "Epoch 15/30\n",
            "621/621 [==============================] - 2s 3ms/step - loss: 0.6931 - accuracy: 0.5013 - val_loss: 0.6937 - val_accuracy: 0.4903\n",
            "Epoch 16/30\n",
            "621/621 [==============================] - 2s 3ms/step - loss: 0.6930 - accuracy: 0.4986 - val_loss: 0.6936 - val_accuracy: 0.5093\n",
            "Epoch 17/30\n",
            "621/621 [==============================] - 2s 3ms/step - loss: 0.6931 - accuracy: 0.4990 - val_loss: 0.6936 - val_accuracy: 0.5093\n",
            "Epoch 18/30\n",
            "621/621 [==============================] - 2s 3ms/step - loss: 0.6932 - accuracy: 0.4996 - val_loss: 0.6935 - val_accuracy: 0.5096\n",
            "Epoch 19/30\n",
            "621/621 [==============================] - 2s 3ms/step - loss: 0.6934 - accuracy: 0.5002 - val_loss: 0.6936 - val_accuracy: 0.5095\n",
            "Epoch 20/30\n",
            "621/621 [==============================] - 2s 3ms/step - loss: 0.6934 - accuracy: 0.4934 - val_loss: 0.6937 - val_accuracy: 0.5094\n",
            "Epoch 21/30\n",
            "621/621 [==============================] - 2s 3ms/step - loss: 0.6930 - accuracy: 0.4976 - val_loss: 0.6936 - val_accuracy: 0.5095\n",
            "Epoch 22/30\n",
            "621/621 [==============================] - 2s 3ms/step - loss: 0.6931 - accuracy: 0.4971 - val_loss: 0.6935 - val_accuracy: 0.5095\n",
            "Epoch 23/30\n",
            "621/621 [==============================] - 2s 3ms/step - loss: 0.6930 - accuracy: 0.4996 - val_loss: 0.6935 - val_accuracy: 0.5095\n",
            "Epoch 24/30\n",
            "621/621 [==============================] - 2s 3ms/step - loss: 0.6930 - accuracy: 0.4984 - val_loss: 0.6935 - val_accuracy: 0.5095\n",
            "Epoch 25/30\n",
            "621/621 [==============================] - 2s 3ms/step - loss: 0.6931 - accuracy: 0.5001 - val_loss: 0.6936 - val_accuracy: 0.5095\n",
            "Epoch 26/30\n",
            "621/621 [==============================] - 2s 3ms/step - loss: 0.6938 - accuracy: 0.4987 - val_loss: 0.6937 - val_accuracy: 0.5095\n",
            "Epoch 27/30\n",
            "621/621 [==============================] - 2s 3ms/step - loss: 0.6929 - accuracy: 0.5019 - val_loss: 0.6935 - val_accuracy: 0.5096\n",
            "Epoch 28/30\n",
            "621/621 [==============================] - 2s 3ms/step - loss: 0.6930 - accuracy: 0.4987 - val_loss: 0.6936 - val_accuracy: 0.5094\n",
            "Epoch 29/30\n",
            "621/621 [==============================] - 2s 3ms/step - loss: 0.6929 - accuracy: 0.4994 - val_loss: 0.6935 - val_accuracy: 0.5094\n",
            "Epoch 30/30\n",
            "621/621 [==============================] - 2s 3ms/step - loss: 0.6928 - accuracy: 0.5025 - val_loss: 0.6938 - val_accuracy: 0.4904\n",
            "Epoch 1/30\n",
            "621/621 [==============================] - 34s 55ms/step - loss: 0.7036 - accuracy: 0.5113 - val_loss: 0.6928 - val_accuracy: 0.5386\n",
            "Epoch 2/30\n",
            "621/621 [==============================] - 2s 3ms/step - loss: 0.6891 - accuracy: 0.5309 - val_loss: 0.6854 - val_accuracy: 0.5640\n",
            "Epoch 3/30\n",
            "621/621 [==============================] - 2s 3ms/step - loss: 0.6812 - accuracy: 0.5470 - val_loss: 0.6811 - val_accuracy: 0.5733\n",
            "Epoch 4/30\n",
            "621/621 [==============================] - 2s 3ms/step - loss: 0.6792 - accuracy: 0.5515 - val_loss: 0.6805 - val_accuracy: 0.5722\n",
            "Epoch 5/30\n",
            "621/621 [==============================] - 2s 3ms/step - loss: 0.6749 - accuracy: 0.5549 - val_loss: 0.6788 - val_accuracy: 0.5761\n",
            "Epoch 6/30\n",
            "621/621 [==============================] - 2s 3ms/step - loss: 0.6723 - accuracy: 0.5585 - val_loss: 0.6768 - val_accuracy: 0.5770\n",
            "Epoch 7/30\n",
            "621/621 [==============================] - 2s 3ms/step - loss: 0.6697 - accuracy: 0.5652 - val_loss: 0.6792 - val_accuracy: 0.5686\n",
            "Epoch 8/30\n",
            "621/621 [==============================] - 2s 3ms/step - loss: 0.6689 - accuracy: 0.5652 - val_loss: 0.6782 - val_accuracy: 0.5710\n",
            "Epoch 9/30\n",
            "621/621 [==============================] - 2s 3ms/step - loss: 0.6685 - accuracy: 0.5637 - val_loss: 0.6780 - val_accuracy: 0.5680\n",
            "Epoch 10/30\n",
            "621/621 [==============================] - 2s 3ms/step - loss: 0.6621 - accuracy: 0.5737 - val_loss: 0.6771 - val_accuracy: 0.5715\n",
            "Epoch 11/30\n",
            "621/621 [==============================] - 2s 3ms/step - loss: 0.6618 - accuracy: 0.5796 - val_loss: 0.6776 - val_accuracy: 0.5698\n",
            "Epoch 12/30\n",
            "621/621 [==============================] - 2s 3ms/step - loss: 0.6604 - accuracy: 0.5779 - val_loss: 0.6784 - val_accuracy: 0.5686\n",
            "Epoch 13/30\n",
            "621/621 [==============================] - 2s 3ms/step - loss: 0.6578 - accuracy: 0.5811 - val_loss: 0.6790 - val_accuracy: 0.5677\n",
            "Epoch 14/30\n",
            "621/621 [==============================] - 2s 3ms/step - loss: 0.6572 - accuracy: 0.5804 - val_loss: 0.6791 - val_accuracy: 0.5680\n",
            "Epoch 15/30\n",
            "621/621 [==============================] - 2s 3ms/step - loss: 0.6568 - accuracy: 0.5814 - val_loss: 0.6805 - val_accuracy: 0.5674\n",
            "Epoch 16/30\n",
            "621/621 [==============================] - 2s 3ms/step - loss: 0.6553 - accuracy: 0.5811 - val_loss: 0.6819 - val_accuracy: 0.5617\n",
            "Epoch 17/30\n",
            "621/621 [==============================] - 2s 3ms/step - loss: 0.6550 - accuracy: 0.5808 - val_loss: 0.6823 - val_accuracy: 0.5612\n",
            "Epoch 18/30\n",
            "621/621 [==============================] - 2s 3ms/step - loss: 0.6487 - accuracy: 0.5883 - val_loss: 0.6823 - val_accuracy: 0.5640\n",
            "Epoch 19/30\n",
            "621/621 [==============================] - 2s 3ms/step - loss: 0.6499 - accuracy: 0.5862 - val_loss: 0.6830 - val_accuracy: 0.5641\n",
            "Epoch 20/30\n",
            "621/621 [==============================] - 2s 3ms/step - loss: 0.6499 - accuracy: 0.5884 - val_loss: 0.6850 - val_accuracy: 0.5609\n",
            "Epoch 21/30\n",
            "621/621 [==============================] - 2s 3ms/step - loss: 0.6506 - accuracy: 0.5881 - val_loss: 0.6855 - val_accuracy: 0.5611\n",
            "Epoch 22/30\n",
            "621/621 [==============================] - 2s 3ms/step - loss: 0.6478 - accuracy: 0.5902 - val_loss: 0.6849 - val_accuracy: 0.5637\n",
            "Epoch 23/30\n",
            "621/621 [==============================] - 2s 3ms/step - loss: 0.6437 - accuracy: 0.5922 - val_loss: 0.6868 - val_accuracy: 0.5639\n",
            "Epoch 24/30\n",
            "621/621 [==============================] - 2s 3ms/step - loss: 0.6436 - accuracy: 0.5912 - val_loss: 0.6890 - val_accuracy: 0.5638\n",
            "Epoch 25/30\n",
            "621/621 [==============================] - 2s 3ms/step - loss: 0.6433 - accuracy: 0.5932 - val_loss: 0.6915 - val_accuracy: 0.5596\n",
            "Epoch 26/30\n",
            "621/621 [==============================] - 2s 3ms/step - loss: 0.6429 - accuracy: 0.5918 - val_loss: 0.6909 - val_accuracy: 0.5604\n",
            "Epoch 27/30\n",
            "621/621 [==============================] - 2s 3ms/step - loss: 0.6422 - accuracy: 0.5920 - val_loss: 0.6873 - val_accuracy: 0.5620\n",
            "Epoch 28/30\n",
            "621/621 [==============================] - 2s 3ms/step - loss: 0.6420 - accuracy: 0.5892 - val_loss: 0.6916 - val_accuracy: 0.5638\n",
            "Epoch 29/30\n",
            "621/621 [==============================] - 2s 3ms/step - loss: 0.6396 - accuracy: 0.5963 - val_loss: 0.6914 - val_accuracy: 0.5660\n",
            "Epoch 30/30\n",
            "621/621 [==============================] - 2s 3ms/step - loss: 0.6371 - accuracy: 0.5999 - val_loss: 0.6947 - val_accuracy: 0.5662\n"
          ],
          "name": "stdout"
        }
      ]
    },
    {
      "cell_type": "code",
      "metadata": {
        "colab": {
          "base_uri": "https://localhost:8080/"
        },
        "id": "7mv2dxggOdT5",
        "outputId": "3b318e4b-d4e5-4962-c50d-cd05e563cb55"
      },
      "source": [
        "from keras.models import Sequential\n",
        "\n",
        "from keras.layers import Dense, Conv1D, Flatten, Dropout, MaxPooling1D, Embedding\n",
        "\n",
        "# Define the Keras model\n",
        "model = Sequential()\n",
        "model.add(Conv1D(filters=32, kernel_size=2, padding='same', activation='relu',input_shape=(1,1024)))\n",
        "model.add(Dense(1, activation='sigmoid'))\n",
        "model.compile(optimizer='adam', loss='binary_crossentropy', metrics=['accuracy'])\n",
        "hist = model.fit(train, trainans, validation_data=(test, testans), epochs=30)\n",
        "a = (np.mean(hist.history.get(\"val_accuracy\")))\n",
        "hist = model.fit(train, np.random.choice([0, 1], size=len(trainans)).tolist(), validation_data=(test, np.random.choice([0, 1], size=len(testans)).tolist()), epochs=30)\n",
        "b = (np.mean(hist.history.get(\"val_accuracy\")))\n",
        "hist = model.fit(cont_train, trainans, validation_data=(cont_test, testans), epochs=30)\n",
        "c = (np.mean(hist.history.get(\"val_accuracy\")))\n",
        "metrics.append((a,b,c,model))"
      ],
      "execution_count": 50,
      "outputs": [
        {
          "output_type": "stream",
          "text": [
            "Epoch 1/30\n",
            "621/621 [==============================] - 35s 56ms/step - loss: 0.6409 - accuracy: 0.6267 - val_loss: 0.6603 - val_accuracy: 0.6148\n",
            "Epoch 2/30\n",
            "621/621 [==============================] - 2s 3ms/step - loss: 0.6223 - accuracy: 0.6497 - val_loss: 0.6067 - val_accuracy: 0.6593\n",
            "Epoch 3/30\n",
            "621/621 [==============================] - 2s 3ms/step - loss: 0.6098 - accuracy: 0.6583 - val_loss: 0.5898 - val_accuracy: 0.6851\n",
            "Epoch 4/30\n",
            "621/621 [==============================] - 2s 3ms/step - loss: 0.6015 - accuracy: 0.6699 - val_loss: 0.5799 - val_accuracy: 0.6951\n",
            "Epoch 5/30\n",
            "621/621 [==============================] - 2s 3ms/step - loss: 0.5898 - accuracy: 0.6775 - val_loss: 0.5723 - val_accuracy: 0.6962\n",
            "Epoch 6/30\n",
            "621/621 [==============================] - 2s 3ms/step - loss: 0.5790 - accuracy: 0.6920 - val_loss: 0.5722 - val_accuracy: 0.6989\n",
            "Epoch 7/30\n",
            "621/621 [==============================] - 2s 3ms/step - loss: 0.5735 - accuracy: 0.6947 - val_loss: 0.5891 - val_accuracy: 0.6650\n",
            "Epoch 8/30\n",
            "621/621 [==============================] - 2s 3ms/step - loss: 0.5663 - accuracy: 0.7013 - val_loss: 0.5522 - val_accuracy: 0.7119\n",
            "Epoch 9/30\n",
            "621/621 [==============================] - 2s 3ms/step - loss: 0.5615 - accuracy: 0.7066 - val_loss: 0.5475 - val_accuracy: 0.7169\n",
            "Epoch 10/30\n",
            "621/621 [==============================] - 2s 3ms/step - loss: 0.5576 - accuracy: 0.7077 - val_loss: 0.5436 - val_accuracy: 0.7196\n",
            "Epoch 11/30\n",
            "621/621 [==============================] - 2s 3ms/step - loss: 0.5497 - accuracy: 0.7124 - val_loss: 0.5369 - val_accuracy: 0.7247\n",
            "Epoch 12/30\n",
            "621/621 [==============================] - 2s 3ms/step - loss: 0.5493 - accuracy: 0.7155 - val_loss: 0.5556 - val_accuracy: 0.7058\n",
            "Epoch 13/30\n",
            "621/621 [==============================] - 2s 3ms/step - loss: 0.5459 - accuracy: 0.7137 - val_loss: 0.5335 - val_accuracy: 0.7251\n",
            "Epoch 14/30\n",
            "621/621 [==============================] - 2s 3ms/step - loss: 0.5378 - accuracy: 0.7226 - val_loss: 0.5342 - val_accuracy: 0.7291\n",
            "Epoch 15/30\n",
            "621/621 [==============================] - 2s 3ms/step - loss: 0.5393 - accuracy: 0.7236 - val_loss: 0.5387 - val_accuracy: 0.7207\n",
            "Epoch 16/30\n",
            "621/621 [==============================] - 2s 3ms/step - loss: 0.5357 - accuracy: 0.7223 - val_loss: 0.5233 - val_accuracy: 0.7384\n",
            "Epoch 17/30\n",
            "621/621 [==============================] - 2s 3ms/step - loss: 0.5335 - accuracy: 0.7242 - val_loss: 0.5296 - val_accuracy: 0.7283\n",
            "Epoch 18/30\n",
            "621/621 [==============================] - 2s 3ms/step - loss: 0.5259 - accuracy: 0.7326 - val_loss: 0.5451 - val_accuracy: 0.7211\n",
            "Epoch 19/30\n",
            "621/621 [==============================] - 2s 3ms/step - loss: 0.5254 - accuracy: 0.7308 - val_loss: 0.5358 - val_accuracy: 0.7220\n",
            "Epoch 20/30\n",
            "621/621 [==============================] - 2s 3ms/step - loss: 0.5215 - accuracy: 0.7357 - val_loss: 0.5202 - val_accuracy: 0.7380\n",
            "Epoch 21/30\n",
            "621/621 [==============================] - 2s 3ms/step - loss: 0.5172 - accuracy: 0.7394 - val_loss: 0.5163 - val_accuracy: 0.7412\n",
            "Epoch 22/30\n",
            "621/621 [==============================] - 2s 3ms/step - loss: 0.5287 - accuracy: 0.7261 - val_loss: 0.5273 - val_accuracy: 0.7284\n",
            "Epoch 23/30\n",
            "621/621 [==============================] - 2s 3ms/step - loss: 0.5167 - accuracy: 0.7343 - val_loss: 0.5887 - val_accuracy: 0.6712\n",
            "Epoch 24/30\n",
            "621/621 [==============================] - 2s 3ms/step - loss: 0.5206 - accuracy: 0.7324 - val_loss: 0.5419 - val_accuracy: 0.7168\n",
            "Epoch 25/30\n",
            "621/621 [==============================] - 2s 3ms/step - loss: 0.5155 - accuracy: 0.7392 - val_loss: 0.5135 - val_accuracy: 0.7446\n",
            "Epoch 26/30\n",
            "621/621 [==============================] - 2s 3ms/step - loss: 0.5097 - accuracy: 0.7452 - val_loss: 0.5125 - val_accuracy: 0.7444\n",
            "Epoch 27/30\n",
            "621/621 [==============================] - 2s 3ms/step - loss: 0.5131 - accuracy: 0.7399 - val_loss: 0.5080 - val_accuracy: 0.7480\n",
            "Epoch 28/30\n",
            "621/621 [==============================] - 2s 3ms/step - loss: 0.5064 - accuracy: 0.7458 - val_loss: 0.5069 - val_accuracy: 0.7501\n",
            "Epoch 29/30\n",
            "621/621 [==============================] - 2s 3ms/step - loss: 0.5089 - accuracy: 0.7433 - val_loss: 0.5211 - val_accuracy: 0.7346\n",
            "Epoch 30/30\n",
            "621/621 [==============================] - 2s 3ms/step - loss: 0.5092 - accuracy: 0.7413 - val_loss: 0.5279 - val_accuracy: 0.7240\n",
            "Epoch 1/30\n",
            "621/621 [==============================] - 34s 54ms/step - loss: 0.7126 - accuracy: 0.4985 - val_loss: 0.6951 - val_accuracy: 0.5009\n",
            "Epoch 2/30\n",
            "621/621 [==============================] - 2s 3ms/step - loss: 0.6942 - accuracy: 0.5085 - val_loss: 0.6944 - val_accuracy: 0.5019\n",
            "Epoch 3/30\n",
            "621/621 [==============================] - 2s 3ms/step - loss: 0.6937 - accuracy: 0.5085 - val_loss: 0.6941 - val_accuracy: 0.5022\n",
            "Epoch 4/30\n",
            "621/621 [==============================] - 2s 3ms/step - loss: 0.6932 - accuracy: 0.5080 - val_loss: 0.6945 - val_accuracy: 0.5017\n",
            "Epoch 5/30\n",
            "621/621 [==============================] - 2s 3ms/step - loss: 0.6928 - accuracy: 0.5089 - val_loss: 0.6942 - val_accuracy: 0.5022\n",
            "Epoch 6/30\n",
            "621/621 [==============================] - 2s 3ms/step - loss: 0.6927 - accuracy: 0.5088 - val_loss: 0.6944 - val_accuracy: 0.5022\n",
            "Epoch 7/30\n",
            "621/621 [==============================] - 2s 3ms/step - loss: 0.6925 - accuracy: 0.5084 - val_loss: 0.6944 - val_accuracy: 0.5024\n",
            "Epoch 8/30\n",
            "621/621 [==============================] - 2s 3ms/step - loss: 0.6923 - accuracy: 0.5087 - val_loss: 0.6945 - val_accuracy: 0.5018\n",
            "Epoch 9/30\n",
            "621/621 [==============================] - 2s 3ms/step - loss: 0.6922 - accuracy: 0.5090 - val_loss: 0.6945 - val_accuracy: 0.5016\n",
            "Epoch 10/30\n",
            "621/621 [==============================] - 2s 3ms/step - loss: 0.6920 - accuracy: 0.5095 - val_loss: 0.6956 - val_accuracy: 0.5029\n",
            "Epoch 11/30\n",
            "621/621 [==============================] - 2s 3ms/step - loss: 0.6921 - accuracy: 0.5085 - val_loss: 0.6943 - val_accuracy: 0.5019\n",
            "Epoch 12/30\n",
            "621/621 [==============================] - 2s 3ms/step - loss: 0.6918 - accuracy: 0.5099 - val_loss: 0.6948 - val_accuracy: 0.5023\n",
            "Epoch 13/30\n",
            "621/621 [==============================] - 2s 3ms/step - loss: 0.6918 - accuracy: 0.5096 - val_loss: 0.6952 - val_accuracy: 0.5013\n",
            "Epoch 14/30\n",
            "621/621 [==============================] - 2s 3ms/step - loss: 0.6917 - accuracy: 0.5102 - val_loss: 0.6950 - val_accuracy: 0.5015\n",
            "Epoch 15/30\n",
            "621/621 [==============================] - 2s 3ms/step - loss: 0.6916 - accuracy: 0.5094 - val_loss: 0.6952 - val_accuracy: 0.5018\n",
            "Epoch 16/30\n",
            "621/621 [==============================] - 2s 3ms/step - loss: 0.6912 - accuracy: 0.5096 - val_loss: 0.6971 - val_accuracy: 0.5011\n",
            "Epoch 17/30\n",
            "621/621 [==============================] - 2s 3ms/step - loss: 0.6914 - accuracy: 0.5101 - val_loss: 0.6958 - val_accuracy: 0.5017\n",
            "Epoch 18/30\n",
            "621/621 [==============================] - 2s 3ms/step - loss: 0.6909 - accuracy: 0.5102 - val_loss: 0.6950 - val_accuracy: 0.5015\n",
            "Epoch 19/30\n",
            "621/621 [==============================] - 2s 3ms/step - loss: 0.6910 - accuracy: 0.5104 - val_loss: 0.6984 - val_accuracy: 0.5008\n",
            "Epoch 20/30\n",
            "621/621 [==============================] - 2s 3ms/step - loss: 0.6907 - accuracy: 0.5104 - val_loss: 0.6958 - val_accuracy: 0.5019\n",
            "Epoch 21/30\n",
            "621/621 [==============================] - 2s 3ms/step - loss: 0.6905 - accuracy: 0.5110 - val_loss: 0.6964 - val_accuracy: 0.5018\n",
            "Epoch 22/30\n",
            "621/621 [==============================] - 2s 3ms/step - loss: 0.6904 - accuracy: 0.5110 - val_loss: 0.6958 - val_accuracy: 0.5025\n",
            "Epoch 23/30\n",
            "621/621 [==============================] - 2s 3ms/step - loss: 0.6902 - accuracy: 0.5111 - val_loss: 0.6971 - val_accuracy: 0.5013\n",
            "Epoch 24/30\n",
            "621/621 [==============================] - 2s 3ms/step - loss: 0.6902 - accuracy: 0.5115 - val_loss: 0.6970 - val_accuracy: 0.5022\n",
            "Epoch 25/30\n",
            "621/621 [==============================] - 2s 3ms/step - loss: 0.6902 - accuracy: 0.5114 - val_loss: 0.6991 - val_accuracy: 0.5019\n",
            "Epoch 26/30\n",
            "621/621 [==============================] - 2s 3ms/step - loss: 0.6900 - accuracy: 0.5112 - val_loss: 0.6965 - val_accuracy: 0.5020\n",
            "Epoch 27/30\n",
            "621/621 [==============================] - 2s 3ms/step - loss: 0.6897 - accuracy: 0.5121 - val_loss: 0.6979 - val_accuracy: 0.5026\n",
            "Epoch 28/30\n",
            "621/621 [==============================] - 2s 3ms/step - loss: 0.6898 - accuracy: 0.5115 - val_loss: 0.6977 - val_accuracy: 0.5026\n",
            "Epoch 29/30\n",
            "621/621 [==============================] - 2s 3ms/step - loss: 0.6897 - accuracy: 0.5116 - val_loss: 0.7055 - val_accuracy: 0.5014\n",
            "Epoch 30/30\n",
            "621/621 [==============================] - 2s 3ms/step - loss: 0.6895 - accuracy: 0.5122 - val_loss: 0.6973 - val_accuracy: 0.5017\n",
            "Epoch 1/30\n",
            "621/621 [==============================] - 34s 54ms/step - loss: 0.7029 - accuracy: 0.5606 - val_loss: 0.6773 - val_accuracy: 0.5810\n",
            "Epoch 2/30\n",
            "621/621 [==============================] - 2s 3ms/step - loss: 0.6468 - accuracy: 0.6187 - val_loss: 0.6790 - val_accuracy: 0.5781\n",
            "Epoch 3/30\n",
            "621/621 [==============================] - 2s 3ms/step - loss: 0.6215 - accuracy: 0.6358 - val_loss: 0.6915 - val_accuracy: 0.5773\n",
            "Epoch 4/30\n",
            "621/621 [==============================] - 2s 3ms/step - loss: 0.5951 - accuracy: 0.6546 - val_loss: 0.7121 - val_accuracy: 0.5727\n",
            "Epoch 5/30\n",
            "621/621 [==============================] - 2s 3ms/step - loss: 0.5696 - accuracy: 0.6707 - val_loss: 0.7383 - val_accuracy: 0.5706\n",
            "Epoch 6/30\n",
            "621/621 [==============================] - 2s 3ms/step - loss: 0.5447 - accuracy: 0.6842 - val_loss: 0.7573 - val_accuracy: 0.5699\n",
            "Epoch 7/30\n",
            "621/621 [==============================] - 2s 3ms/step - loss: 0.5217 - accuracy: 0.6983 - val_loss: 0.7986 - val_accuracy: 0.5684\n",
            "Epoch 8/30\n",
            "621/621 [==============================] - 2s 3ms/step - loss: 0.4988 - accuracy: 0.7101 - val_loss: 0.8225 - val_accuracy: 0.5656\n",
            "Epoch 9/30\n",
            "621/621 [==============================] - 2s 3ms/step - loss: 0.4790 - accuracy: 0.7215 - val_loss: 0.8664 - val_accuracy: 0.5660\n",
            "Epoch 10/30\n",
            "621/621 [==============================] - 2s 3ms/step - loss: 0.4588 - accuracy: 0.7312 - val_loss: 0.9041 - val_accuracy: 0.5619\n",
            "Epoch 11/30\n",
            "621/621 [==============================] - 2s 3ms/step - loss: 0.4392 - accuracy: 0.7432 - val_loss: 0.9548 - val_accuracy: 0.5619\n",
            "Epoch 12/30\n",
            "621/621 [==============================] - 2s 3ms/step - loss: 0.4220 - accuracy: 0.7531 - val_loss: 1.0008 - val_accuracy: 0.5607\n",
            "Epoch 13/30\n",
            "621/621 [==============================] - 2s 3ms/step - loss: 0.4062 - accuracy: 0.7637 - val_loss: 1.0754 - val_accuracy: 0.5595\n",
            "Epoch 14/30\n",
            "621/621 [==============================] - 2s 3ms/step - loss: 0.3911 - accuracy: 0.7723 - val_loss: 1.1278 - val_accuracy: 0.5554\n",
            "Epoch 15/30\n",
            "621/621 [==============================] - 2s 3ms/step - loss: 0.3797 - accuracy: 0.7758 - val_loss: 1.1822 - val_accuracy: 0.5560\n",
            "Epoch 16/30\n",
            "621/621 [==============================] - 2s 3ms/step - loss: 0.3693 - accuracy: 0.7830 - val_loss: 1.2311 - val_accuracy: 0.5541\n",
            "Epoch 17/30\n",
            "621/621 [==============================] - 2s 3ms/step - loss: 0.3609 - accuracy: 0.7878 - val_loss: 1.3278 - val_accuracy: 0.5551\n",
            "Epoch 18/30\n",
            "621/621 [==============================] - 2s 3ms/step - loss: 0.3494 - accuracy: 0.7937 - val_loss: 1.3649 - val_accuracy: 0.5542\n",
            "Epoch 19/30\n",
            "621/621 [==============================] - 2s 3ms/step - loss: 0.3413 - accuracy: 0.7989 - val_loss: 1.4295 - val_accuracy: 0.5525\n",
            "Epoch 20/30\n",
            "621/621 [==============================] - 2s 3ms/step - loss: 0.3364 - accuracy: 0.8011 - val_loss: 1.4411 - val_accuracy: 0.5561\n",
            "Epoch 21/30\n",
            "621/621 [==============================] - 2s 3ms/step - loss: 0.3286 - accuracy: 0.8054 - val_loss: 1.5164 - val_accuracy: 0.5542\n",
            "Epoch 22/30\n",
            "621/621 [==============================] - 2s 3ms/step - loss: 0.3220 - accuracy: 0.8082 - val_loss: 1.5488 - val_accuracy: 0.5522\n",
            "Epoch 23/30\n",
            "621/621 [==============================] - 2s 3ms/step - loss: 0.3179 - accuracy: 0.8099 - val_loss: 1.6436 - val_accuracy: 0.5539\n",
            "Epoch 24/30\n",
            "621/621 [==============================] - 2s 3ms/step - loss: 0.3131 - accuracy: 0.8109 - val_loss: 1.6644 - val_accuracy: 0.5535\n",
            "Epoch 25/30\n",
            "621/621 [==============================] - 2s 3ms/step - loss: 0.3093 - accuracy: 0.8147 - val_loss: 1.7392 - val_accuracy: 0.5507\n",
            "Epoch 26/30\n",
            "621/621 [==============================] - 2s 3ms/step - loss: 0.3046 - accuracy: 0.8166 - val_loss: 1.7509 - val_accuracy: 0.5542\n",
            "Epoch 27/30\n",
            "621/621 [==============================] - 2s 3ms/step - loss: 0.3000 - accuracy: 0.8184 - val_loss: 1.8514 - val_accuracy: 0.5509\n",
            "Epoch 28/30\n",
            "621/621 [==============================] - 2s 3ms/step - loss: 0.2991 - accuracy: 0.8196 - val_loss: 1.8562 - val_accuracy: 0.5498\n",
            "Epoch 29/30\n",
            "621/621 [==============================] - 2s 3ms/step - loss: 0.2950 - accuracy: 0.8199 - val_loss: 1.8987 - val_accuracy: 0.5502\n",
            "Epoch 30/30\n",
            "621/621 [==============================] - 2s 3ms/step - loss: 0.2900 - accuracy: 0.8217 - val_loss: 1.9214 - val_accuracy: 0.5487\n"
          ],
          "name": "stdout"
        }
      ]
    },
    {
      "cell_type": "code",
      "metadata": {
        "colab": {
          "base_uri": "https://localhost:8080/"
        },
        "id": "ID9N197tPEnQ",
        "outputId": "bc942650-7452-4839-d9dc-125641b136f8"
      },
      "source": [
        "from keras.models import Sequential\n",
        "\n",
        "from keras.layers import Dense, Conv1D, Flatten, Dropout, MaxPooling1D, Embedding\n",
        "\n",
        "# Define the Keras model\n",
        "model = Sequential()\n",
        "model.add(Conv1D(filters=32, kernel_size=2, padding='same', activation='relu',input_shape=(1,1024)))\n",
        "model.add(Conv1D(filters=16,kernel_size=2, padding='same', activation='relu'))\n",
        "model.add(Dense(1, activation='sigmoid'))\n",
        "model.compile(optimizer='adam', loss='binary_crossentropy', metrics=['accuracy'])\n",
        "hist = model.fit(train, trainans, validation_data=(test, testans), epochs=30)\n",
        "a = (np.mean(hist.history.get(\"val_accuracy\")))\n",
        "hist = model.fit(train, np.random.choice([0, 1], size=len(trainans)).tolist(), validation_data=(test, np.random.choice([0, 1], size=len(testans)).tolist()), epochs=30)\n",
        "b = (np.mean(hist.history.get(\"val_accuracy\")))\n",
        "hist = model.fit(cont_train, trainans, validation_data=(cont_test, testans), epochs=30)\n",
        "c = (np.mean(hist.history.get(\"val_accuracy\")))\n",
        "metrics.append((a,b,c,model))"
      ],
      "execution_count": null,
      "outputs": [
        {
          "output_type": "stream",
          "text": [
            "Epoch 1/30\n",
            "621/621 [==============================] - 34s 56ms/step - loss: 0.6487 - accuracy: 0.6159 - val_loss: 0.6271 - val_accuracy: 0.6413\n",
            "Epoch 2/30\n",
            "621/621 [==============================] - 2s 3ms/step - loss: 0.6286 - accuracy: 0.6397 - val_loss: 0.6098 - val_accuracy: 0.6633\n",
            "Epoch 3/30\n",
            "621/621 [==============================] - 2s 3ms/step - loss: 0.6148 - accuracy: 0.6530 - val_loss: 0.6004 - val_accuracy: 0.6655\n",
            "Epoch 4/30\n",
            "621/621 [==============================] - 2s 3ms/step - loss: 0.5974 - accuracy: 0.6726 - val_loss: 0.5773 - val_accuracy: 0.6935\n",
            "Epoch 5/30\n",
            "621/621 [==============================] - 2s 3ms/step - loss: 0.5848 - accuracy: 0.6813 - val_loss: 0.5675 - val_accuracy: 0.6989\n",
            "Epoch 6/30\n",
            "621/621 [==============================] - 2s 3ms/step - loss: 0.5754 - accuracy: 0.6931 - val_loss: 0.5638 - val_accuracy: 0.7020\n",
            "Epoch 7/30\n",
            "621/621 [==============================] - 2s 3ms/step - loss: 0.5603 - accuracy: 0.7052 - val_loss: 0.5586 - val_accuracy: 0.7053\n",
            "Epoch 8/30\n",
            "621/621 [==============================] - 2s 3ms/step - loss: 0.5559 - accuracy: 0.7095 - val_loss: 0.5507 - val_accuracy: 0.7150\n",
            "Epoch 9/30\n",
            "621/621 [==============================] - 2s 3ms/step - loss: 0.5509 - accuracy: 0.7121 - val_loss: 0.5432 - val_accuracy: 0.7193\n",
            "Epoch 10/30\n",
            "621/621 [==============================] - 2s 3ms/step - loss: 0.5477 - accuracy: 0.7138 - val_loss: 0.5337 - val_accuracy: 0.7296\n",
            "Epoch 11/30\n",
            "621/621 [==============================] - 2s 3ms/step - loss: 0.5400 - accuracy: 0.7217 - val_loss: 0.5302 - val_accuracy: 0.7291\n",
            "Epoch 12/30\n",
            "621/621 [==============================] - 2s 3ms/step - loss: 0.5381 - accuracy: 0.7194 - val_loss: 0.5283 - val_accuracy: 0.7313\n",
            "Epoch 13/30\n",
            "621/621 [==============================] - 2s 3ms/step - loss: 0.5348 - accuracy: 0.7225 - val_loss: 0.5244 - val_accuracy: 0.7354\n",
            "Epoch 14/30\n",
            "621/621 [==============================] - 2s 3ms/step - loss: 0.5352 - accuracy: 0.7260 - val_loss: 0.5335 - val_accuracy: 0.7235\n",
            "Epoch 15/30\n",
            "621/621 [==============================] - 2s 3ms/step - loss: 0.5325 - accuracy: 0.7250 - val_loss: 0.5422 - val_accuracy: 0.7215\n",
            "Epoch 16/30\n",
            "621/621 [==============================] - 2s 3ms/step - loss: 0.5303 - accuracy: 0.7283 - val_loss: 0.6020 - val_accuracy: 0.6651\n",
            "Epoch 17/30\n",
            "621/621 [==============================] - 2s 3ms/step - loss: 0.5291 - accuracy: 0.7310 - val_loss: 0.5206 - val_accuracy: 0.7350\n",
            "Epoch 18/30\n",
            "621/621 [==============================] - 2s 3ms/step - loss: 0.5297 - accuracy: 0.7293 - val_loss: 0.5223 - val_accuracy: 0.7329\n",
            "Epoch 19/30\n",
            "621/621 [==============================] - 2s 3ms/step - loss: 0.5254 - accuracy: 0.7335 - val_loss: 0.5189 - val_accuracy: 0.7404\n",
            "Epoch 20/30\n",
            "621/621 [==============================] - 2s 3ms/step - loss: 0.5270 - accuracy: 0.7298 - val_loss: 0.5233 - val_accuracy: 0.7375\n",
            "Epoch 21/30\n",
            "621/621 [==============================] - 2s 3ms/step - loss: 0.5197 - accuracy: 0.7322 - val_loss: 0.5161 - val_accuracy: 0.7371\n",
            "Epoch 22/30\n",
            "621/621 [==============================] - 2s 3ms/step - loss: 0.5189 - accuracy: 0.7355 - val_loss: 0.5263 - val_accuracy: 0.7349\n",
            "Epoch 23/30\n",
            "621/621 [==============================] - 2s 3ms/step - loss: 0.5126 - accuracy: 0.7386 - val_loss: 0.5189 - val_accuracy: 0.7425\n",
            "Epoch 24/30\n",
            "621/621 [==============================] - 2s 3ms/step - loss: 0.5186 - accuracy: 0.7333 - val_loss: 0.5215 - val_accuracy: 0.7372\n",
            "Epoch 25/30\n",
            "621/621 [==============================] - 2s 3ms/step - loss: 0.5156 - accuracy: 0.7379 - val_loss: 0.5189 - val_accuracy: 0.7323\n",
            "Epoch 26/30\n",
            "621/621 [==============================] - 2s 3ms/step - loss: 0.5084 - accuracy: 0.7413 - val_loss: 0.5114 - val_accuracy: 0.7469\n",
            "Epoch 27/30\n",
            "621/621 [==============================] - 2s 3ms/step - loss: 0.5115 - accuracy: 0.7399 - val_loss: 0.5793 - val_accuracy: 0.6800\n",
            "Epoch 28/30\n",
            "621/621 [==============================] - 2s 3ms/step - loss: 0.5072 - accuracy: 0.7416 - val_loss: 0.5184 - val_accuracy: 0.7412\n",
            "Epoch 29/30\n",
            "621/621 [==============================] - 2s 3ms/step - loss: 0.5069 - accuracy: 0.7431 - val_loss: 0.5077 - val_accuracy: 0.7417\n",
            "Epoch 30/30\n",
            "621/621 [==============================] - 2s 3ms/step - loss: 0.5089 - accuracy: 0.7436 - val_loss: 0.5336 - val_accuracy: 0.7330\n",
            "Epoch 1/30\n",
            "621/621 [==============================] - 34s 54ms/step - loss: 0.7136 - accuracy: 0.4968 - val_loss: 0.6960 - val_accuracy: 0.4971\n",
            "Epoch 2/30\n",
            "621/621 [==============================] - 2s 3ms/step - loss: 0.6956 - accuracy: 0.5014 - val_loss: 0.6941 - val_accuracy: 0.5035\n",
            "Epoch 3/30\n",
            "621/621 [==============================] - 2s 3ms/step - loss: 0.6945 - accuracy: 0.4976 - val_loss: 0.6942 - val_accuracy: 0.4965\n",
            "Epoch 4/30\n",
            "621/621 [==============================] - 2s 3ms/step - loss: 0.6942 - accuracy: 0.4972 - val_loss: 0.6936 - val_accuracy: 0.5017\n",
            "Epoch 5/30\n",
            "621/621 [==============================] - 2s 3ms/step - loss: 0.6938 - accuracy: 0.4982 - val_loss: 0.6942 - val_accuracy: 0.5043\n",
            "Epoch 6/30\n",
            "621/621 [==============================] - 2s 3ms/step - loss: 0.6938 - accuracy: 0.4942 - val_loss: 0.6941 - val_accuracy: 0.4961\n",
            "Epoch 7/30\n",
            "621/621 [==============================] - 2s 3ms/step - loss: 0.6938 - accuracy: 0.4987 - val_loss: 0.6944 - val_accuracy: 0.5028\n",
            "Epoch 8/30\n",
            "621/621 [==============================] - 2s 3ms/step - loss: 0.6934 - accuracy: 0.5016 - val_loss: 0.6943 - val_accuracy: 0.4962\n",
            "Epoch 9/30\n",
            "621/621 [==============================] - 2s 3ms/step - loss: 0.6933 - accuracy: 0.4963 - val_loss: 0.6936 - val_accuracy: 0.4959\n",
            "Epoch 10/30\n",
            "621/621 [==============================] - 2s 3ms/step - loss: 0.6931 - accuracy: 0.5024 - val_loss: 0.6949 - val_accuracy: 0.4954\n",
            "Epoch 11/30\n",
            "621/621 [==============================] - 2s 3ms/step - loss: 0.6932 - accuracy: 0.4983 - val_loss: 0.6958 - val_accuracy: 0.4961\n",
            "Epoch 12/30\n",
            "621/621 [==============================] - 2s 3ms/step - loss: 0.6931 - accuracy: 0.5007 - val_loss: 0.6947 - val_accuracy: 0.4958\n",
            "Epoch 13/30\n",
            "621/621 [==============================] - 2s 3ms/step - loss: 0.6929 - accuracy: 0.5022 - val_loss: 0.6946 - val_accuracy: 0.4963\n",
            "Epoch 14/30\n",
            "621/621 [==============================] - 2s 3ms/step - loss: 0.6929 - accuracy: 0.4999 - val_loss: 0.6943 - val_accuracy: 0.4961\n",
            "Epoch 15/30\n",
            "621/621 [==============================] - 2s 3ms/step - loss: 0.6928 - accuracy: 0.4994 - val_loss: 0.6960 - val_accuracy: 0.4962\n",
            "Epoch 16/30\n",
            "621/621 [==============================] - 2s 3ms/step - loss: 0.6927 - accuracy: 0.5001 - val_loss: 0.6946 - val_accuracy: 0.4961\n",
            "Epoch 17/30\n",
            "621/621 [==============================] - 2s 3ms/step - loss: 0.6923 - accuracy: 0.5015 - val_loss: 0.6951 - val_accuracy: 0.4965\n",
            "Epoch 18/30\n",
            "621/621 [==============================] - 2s 3ms/step - loss: 0.6922 - accuracy: 0.5051 - val_loss: 0.6965 - val_accuracy: 0.5044\n",
            "Epoch 19/30\n",
            "621/621 [==============================] - 2s 3ms/step - loss: 0.6921 - accuracy: 0.5046 - val_loss: 0.6951 - val_accuracy: 0.4963\n",
            "Epoch 20/30\n",
            "491/621 [======================>.......] - ETA: 0s - loss: 0.6920 - accuracy: 0.5041"
          ],
          "name": "stdout"
        }
      ]
    },
    {
      "cell_type": "code",
      "metadata": {
        "id": "ffRHg0dzQ3yT"
      },
      "source": [
        "!pip install keras-tuner\n"
      ],
      "execution_count": null,
      "outputs": []
    },
    {
      "cell_type": "code",
      "metadata": {
        "id": "OweZ-RLgRc6P"
      },
      "source": [
        "import kerastuner as kt\n",
        "import keras\n",
        "!pip install tensorflow\n",
        "import tensorflow as tf"
      ],
      "execution_count": null,
      "outputs": []
    },
    {
      "cell_type": "code",
      "metadata": {
        "id": "ZK-O3Sn2YOa6"
      },
      "source": [
        "from keras import backend as K\n",
        "K.set_value(model.optimizer.learning_rate, 0.0005)\n",
        "hist = model.fit(train, trainans, validation_data=(test, testans), epochs=30)\n",
        "a = (np.mean(hist.history.get(\"val_accuracy\")))\n",
        "hist = model.fit(train, np.random.choice([0, 1], size=len(trainans)).tolist(), validation_data=(test, np.random.choice([0, 1], size=len(testans)).tolist()), epochs=30)\n",
        "b = (np.mean(hist.history.get(\"val_accuracy\")))\n",
        "hist = model.fit(cont_train, trainans, validation_data=(cont_test, testans), epochs=30)\n",
        "c = (np.mean(hist.history.get(\"val_accuracy\")))\n",
        "metrics.append((a,b,c,model))"
      ],
      "execution_count": null,
      "outputs": []
    },
    {
      "cell_type": "code",
      "metadata": {
        "id": "AEpzFmPRaXa2"
      },
      "source": [
        "from keras import backend as K\n",
        "K.set_value(model.optimizer.learning_rate, 0.0005)\n",
        "hist = model.fit(train, trainans, validation_data=(test, testans), epochs=30)\n",
        "a = (np.mean(hist.history.get(\"val_accuracy\")))\n",
        "hist = model.fit(train, np.random.choice([0, 1], size=len(trainans)).tolist(), validation_data=(test, np.random.choice([0, 1], size=len(testans)).tolist()), epochs=30)\n",
        "b = (np.mean(hist.history.get(\"val_accuracy\")))\n",
        "hist = model.fit(cont_train, trainans, validation_data=(cont_test, testans), epochs=30)\n",
        "c = (np.mean(hist.history.get(\"val_accuracy\")))\n",
        "metrics.append((a,b,c,model))\n"
      ],
      "execution_count": null,
      "outputs": []
    },
    {
      "cell_type": "code",
      "metadata": {
        "id": "ewBumFx9b_I4"
      },
      "source": [
        "\n",
        "from keras import backend as K\n",
        "K.set_value(model.optimizer.learning_rate, 0.0001)\n",
        "hist = model.fit(train, trainans, validation_data=(test, testans), epochs=30)\n",
        "a = (np.mean(hist.history.get(\"val_accuracy\")))\n",
        "hist = model.fit(train, np.random.choice([0, 1], size=len(trainans)).tolist(), validation_data=(test, np.random.choice([0, 1], size=len(testans)).tolist()), epochs=30)\n",
        "b = (np.mean(hist.history.get(\"val_accuracy\")))\n",
        "hist = model.fit(cont_train, trainans, validation_data=(cont_test, testans), epochs=30)\n",
        "c = (np.mean(hist.history.get(\"val_accuracy\")))\n",
        "metrics.append((a,b,c,model))"
      ],
      "execution_count": null,
      "outputs": []
    },
    {
      "cell_type": "code",
      "metadata": {
        "id": "NZ8Sc_vig2fR"
      },
      "source": [
        ""
      ],
      "execution_count": null,
      "outputs": []
    },
    {
      "cell_type": "code",
      "metadata": {
        "id": "a0HpZ41oeGTc"
      },
      "source": [
        "\n",
        "from keras import backend as K\n",
        "K.set_value(model.optimizer.learning_rate, 0.01)\n",
        "hist = model.fit(train, trainans, validation_data=(test, testans), epochs=30)\n",
        "a = (np.mean(hist.history.get(\"val_accuracy\")))\n",
        "hist = model.fit(train, np.random.choice([0, 1], size=len(trainans)).tolist(), validation_data=(test, np.random.choice([0, 1], size=len(testans)).tolist()), epochs=30)\n",
        "b = (np.mean(hist.history.get(\"val_accuracy\")))\n",
        "hist = model.fit(cont_train, trainans, validation_data=(cont_test, testans), epochs=30)\n",
        "c = (np.mean(hist.history.get(\"val_accuracy\")))\n",
        "metrics.append((a,b,c,model))"
      ],
      "execution_count": null,
      "outputs": []
    },
    {
      "cell_type": "code",
      "metadata": {
        "id": "z6wBxxwdIbUP"
      },
      "source": [
        ""
      ],
      "execution_count": null,
      "outputs": []
    },
    {
      "cell_type": "code",
      "metadata": {
        "id": "St1LIXbhlDD9"
      },
      "source": [
        "from keras import backend as K\n",
        "K.set_value(model.optimizer.learning_rate, 0.0005)\n",
        "hist = model.fit(train, trainans, validation_data=(test, testans), epochs=30)\n",
        "preds = model.predict(test)\n",
        "a = (np.mean(hist.history.get(\"val_accuracy\")))\n",
        "hist = model.fit(train, np.random.choice([0, 1], size=len(trainans)).tolist(), validation_data=(test, np.random.choice([0, 1], size=len(testans)).tolist()), epochs=30)\n",
        "b = (np.mean(hist.history.get(\"val_accuracy\")))\n",
        "hist = model.fit(cont_train, trainans, validation_data=(cont_test, testans), epochs=30)\n",
        "c = (np.mean(hist.history.get(\"val_accuracy\")))\n",
        "metrics.append((a,b,c,model))\n",
        "almostright = []\n",
        "totallywrong = []\n",
        "m = 0\n",
        "for i,j in zip(preds,testans):\n",
        "  if (i>0.4 and i<0.5 and j==1) or (i<0.6 and i>0.5 and j==0):\n",
        "    almostright.append((m,i))\n",
        "  if (i<0.20 and j==1) or (i>0.80 and j==0):\n",
        "    totallywrong.append((m,i))\n",
        "  m = m+1"
      ],
      "execution_count": null,
      "outputs": []
    },
    {
      "cell_type": "code",
      "metadata": {
        "id": "hs7q-NV5OB-N"
      },
      "source": [
        ""
      ],
      "execution_count": null,
      "outputs": []
    },
    {
      "cell_type": "code",
      "metadata": {
        "id": "Ql3yocZ4l5vo"
      },
      "source": [
        "for i in almostright[0:10]:\n",
        "  print(dataarr_test[i[0]],i[1])\n"
      ],
      "execution_count": null,
      "outputs": []
    },
    {
      "cell_type": "code",
      "metadata": {
        "id": "5_J6ta1KmgzH"
      },
      "source": [
        "for i in totallywrong[0:10]:\n",
        "  print(dataarr_test[i[0]],i[1])"
      ],
      "execution_count": null,
      "outputs": []
    },
    {
      "cell_type": "code",
      "metadata": {
        "id": "yJVH-aVEkfZX"
      },
      "source": [
        "print(metrics)"
      ],
      "execution_count": null,
      "outputs": []
    },
    {
      "cell_type": "code",
      "metadata": {
        "id": "z64mI_DUmlko"
      },
      "source": [
        "t = []\n",
        "c1 = []\n",
        "c2 = []\n",
        "for i in metrics:\n",
        "  t.append(i[0])\n",
        "  c1.append(i[1])\n",
        "  c2.append(i[2])"
      ],
      "execution_count": null,
      "outputs": []
    },
    {
      "cell_type": "code",
      "metadata": {
        "id": "vMNNbFCYkisV"
      },
      "source": [
        "%matplotlib inline               \n",
        "import numpy as np\n",
        "import matplotlib.pyplot as plt"
      ],
      "execution_count": null,
      "outputs": []
    },
    {
      "cell_type": "code",
      "metadata": {
        "id": "bhA4CYL1m1T_"
      },
      "source": [
        "plt.plot(t)\n",
        "plt.plot(c1)\n",
        "plt.plot(c2)                # plot the points in the array a\n",
        "plt.title(\"My first figure\")  # Add a title to the figure\n",
        "plt.xlabel(\"Models\")    # Give a label to the x-axis\n",
        "plt.ylabel(\"Accuracy means\"); "
      ],
      "execution_count": null,
      "outputs": []
    }
  ]
}