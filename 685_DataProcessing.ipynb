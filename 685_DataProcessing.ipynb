{
  "nbformat": 4,
  "nbformat_minor": 0,
  "metadata": {
    "colab": {
      "name": "685_DataProcessing.ipynb",
      "provenance": [],
      "collapsed_sections": [],
      "include_colab_link": true
    },
    "kernelspec": {
      "display_name": "Python 3",
      "name": "python3"
    }
  },
  "cells": [
    {
      "cell_type": "markdown",
      "metadata": {
        "id": "view-in-github",
        "colab_type": "text"
      },
      "source": [
        "<a href=\"https://colab.research.google.com/github/AromaR/685_Project/blob/main/685_DataProcessing.ipynb\" target=\"_parent\"><img src=\"https://colab.research.google.com/assets/colab-badge.svg\" alt=\"Open In Colab\"/></a>"
      ]
    },
    {
      "cell_type": "code",
      "metadata": {
        "id": "y8EERrso0S2t"
      },
      "source": [
        "import numpy as np\n",
        "import pandas as pd\n",
        "import time\n",
        "import os\n",
        "import sys\n",
        "from google.colab import output\n",
        "\n",
        "# import threading\n",
        "# from ipywidgets import interactive\n",
        "# from IPython.display import clear_output\n",
        "# from ipywidgets.widgets import Button, Layout, Label, HBox"
      ],
      "execution_count": null,
      "outputs": []
    },
    {
      "cell_type": "markdown",
      "metadata": {
        "id": "cRd1hTnW4alT"
      },
      "source": [
        "## **Step 0: Load original TACRED data and probing task data**"
      ]
    },
    {
      "cell_type": "markdown",
      "metadata": {
        "id": "gz8L2jEpOAT1"
      },
      "source": [
        ""
      ]
    },
    {
      "cell_type": "code",
      "metadata": {
        "colab": {
          "base_uri": "https://localhost:8080/"
        },
        "id": "BEMiL2CU0qpH",
        "outputId": "d664dc36-69b6-4737-f695-a647e4a85258"
      },
      "source": [
        "from google.colab import drive\n",
        "drive.mount('/content/drive', force_remount=True)"
      ],
      "execution_count": null,
      "outputs": [
        {
          "output_type": "stream",
          "text": [
            "Mounted at /content/drive\n"
          ],
          "name": "stdout"
        }
      ]
    },
    {
      "cell_type": "code",
      "metadata": {
        "colab": {
          "resources": {
            "http://localhost:8080/nbextensions/google.colab/files.js": {
              "data": "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",
              "headers": [
                [
                  "content-type",
                  "application/javascript"
                ]
              ],
              "ok": true,
              "status": 200,
              "status_text": ""
            }
          },
          "base_uri": "https://localhost:8080/",
          "height": 38
        },
        "id": "3S3V6ifq7Q-U",
        "outputId": "a1b4a62e-843a-471f-a97c-c76a72dfa2f5"
      },
      "source": [
        "## Manually upload filed to Colab. Option not considered.\n",
        "# from google.colab import files \n",
        "# uploaded = files.upload()                "
      ],
      "execution_count": null,
      "outputs": [
        {
          "output_type": "display_data",
          "data": {
            "text/html": [
              "\n",
              "     <input type=\"file\" id=\"files-46090ce7-f98d-4dba-a4d9-7e017769e3d3\" name=\"files[]\" multiple disabled\n",
              "        style=\"border:none\" />\n",
              "     <output id=\"result-46090ce7-f98d-4dba-a4d9-7e017769e3d3\">\n",
              "      Upload widget is only available when the cell has been executed in the\n",
              "      current browser session. Please rerun this cell to enable.\n",
              "      </output>\n",
              "      <script src=\"/nbextensions/google.colab/files.js\"></script> "
            ],
            "text/plain": [
              "<IPython.core.display.HTML object>"
            ]
          },
          "metadata": {
            "tags": []
          }
        }
      ]
    },
    {
      "cell_type": "code",
      "metadata": {
        "id": "ixvdUXap1u2V"
      },
      "source": [
        "# Load the original TACRED training data\n",
        "train_df = None\n",
        "train_df = pd.read_json('/content/drive/My Drive/685_project/TACRED_original_data/train.json')    \n",
        "## ATTENTION: If pandas cannot load, make an identical folder in your drive\n",
        "train_df = train_df.reset_index(drop = False)"
      ],
      "execution_count": null,
      "outputs": []
    },
    {
      "cell_type": "code",
      "metadata": {
        "colab": {
          "base_uri": "https://localhost:8080/"
        },
        "id": "_X7xGp3S-Vp3",
        "outputId": "cfe9f334-dbd2-46d2-bc47-ef11e2db2c20"
      },
      "source": [
        "print(len(train_df))\n",
        "print(train_df.columns)"
      ],
      "execution_count": null,
      "outputs": [
        {
          "output_type": "stream",
          "text": [
            "68124\n",
            "Index(['index', 'id', 'docid', 'relation', 'token', 'subj_start', 'subj_end',\n",
            "       'obj_start', 'obj_end', 'subj_type', 'obj_type', 'stanford_pos',\n",
            "       'stanford_ner', 'stanford_head', 'stanford_deprel'],\n",
            "      dtype='object')\n"
          ],
          "name": "stdout"
        }
      ]
    },
    {
      "cell_type": "code",
      "metadata": {
        "id": "RepsvLKj8qAg"
      },
      "source": [
        "drive_dir = '/content/drive/My Drive/685_project'           ## ATTENTION: If pandas cannot load, make an identical folder in your drive\n",
        "head_gr_df = pd.read_csv(drive_dir + '/argument_head_grammatical_role.txt',        \n",
        "                         sep='\\t', usecols=[0,1,2], header=None)\n",
        "tail_gr_df = pd.read_csv(drive_dir + '/argument_tail_grammatical_role.txt', \n",
        "                         sep='\\t', usecols=[0,1,2], header=None)\n",
        "entity_exists = pd.read_csv(drive_dir + '/entity_exists_between_head_tail.txt',\n",
        "                           sep='\\t', usecols=[0,1,2], header=None)\n",
        "sent_length = pd.read_csv(drive_dir + '/sentence_length.txt',\n",
        "                           sep='\\t', usecols=[0,1,2], header=None)\n",
        "arg_order = pd.read_csv(drive_dir + '/argument_order.txt', \n",
        "                        sep='\\t', usecols=[0,1,2], header=None)"
      ],
      "execution_count": null,
      "outputs": []
    },
    {
      "cell_type": "code",
      "metadata": {
        "id": "Lh2NP3hKCzqq"
      },
      "source": [
        "# Some probing task value-meaning mappings\n",
        "entity_dict = {0: 'Entity doesn\\'t exist between head and tail.', 1: 'Entity exists between head and tail.'}\n",
        "grammar_role_dict = {0: '0, other', 1: '1, nsubj (nominal subject)', 2: '2, dobj (direct object)',\n",
        "                    3: '3, iobj (indirect object)', 4: '4, nsubjpass (nominal subject of passive clause)'}"
      ],
      "execution_count": null,
      "outputs": []
    },
    {
      "cell_type": "code",
      "metadata": {
        "colab": {
          "base_uri": "https://localhost:8080/"
        },
        "id": "-IuVMzwj9_Hq",
        "outputId": "0a08e5b8-c51e-4566-e510-100294a9ffe7"
      },
      "source": [
        "print(len(head_gr_df))\n",
        "print(head_gr_df.columns)\n",
        "print(len(sent_length))\n",
        "print(arg_order.columns)"
      ],
      "execution_count": null,
      "outputs": [
        {
          "output_type": "stream",
          "text": [
            "105914\n",
            "Int64Index([0, 1, 2], dtype='int64')\n",
            "102897\n",
            "Int64Index([0, 1, 2], dtype='int64')\n"
          ],
          "name": "stdout"
        }
      ]
    },
    {
      "cell_type": "markdown",
      "metadata": {
        "id": "00zneBS-4rIu"
      },
      "source": [
        "# Define some useful functions"
      ]
    },
    {
      "cell_type": "code",
      "metadata": {
        "id": "o3nQuSiZA3c6",
        "colab": {
          "base_uri": "https://localhost:8080/",
          "height": 68
        },
        "outputId": "5a7a8296-eb3b-4e29-c452-20d822c13a6b"
      },
      "source": [
        "a = input(\"What's your hobby? \\n\")\n",
        "print(f\"So, your hobby is {a}. Awesome!\")"
      ],
      "execution_count": null,
      "outputs": [
        {
          "output_type": "display_data",
          "data": {
            "text/html": [
              "\n",
              "  <style>\n",
              "    pre {white-space: pre-wrap;}\n",
              "  </style>\n",
              "  "
            ],
            "text/plain": [
              "<IPython.core.display.HTML object>"
            ]
          },
          "metadata": {
            "tags": []
          }
        },
        {
          "output_type": "display_data",
          "data": {
            "text/html": [
              "\n",
              "  <style>\n",
              "    pre {white-space: pre-wrap;}\n",
              "  </style>\n",
              "  "
            ],
            "text/plain": [
              "<IPython.core.display.HTML object>"
            ]
          },
          "metadata": {
            "tags": []
          }
        },
        {
          "output_type": "stream",
          "text": [
            "What's your hobby? \n",
            "football\n",
            "So, your hobby is football. Awesome!\n"
          ],
          "name": "stdout"
        }
      ]
    },
    {
      "cell_type": "code",
      "metadata": {
        "id": "uRLRsec341HV"
      },
      "source": [
        "def Add_attribute(src_df, target_df, attr_name):\n",
        "    \"\"\"src_df = source dataframe to add attribute from, imported from probing task data.\n",
        "       target_df = target dataframe to add attribute to, imported from original TACRED data.\n",
        "       attr_name = attribute name for new added column in target dataframe.\"\"\"\n",
        "    target_df[attr_name] = ''\n",
        "    for i, row in src_df.iterrows():\n",
        "        curr_id = row[1]\n",
        "        if curr_id in target_df['id'].values:\n",
        "            target_df.loc[target_df.id == curr_id, attr_name] = row[2]\n",
        "            \n",
        "# Display examples that satisfy certain property\n",
        "def Display(dataframe, num, attribute=None, value=None):\n",
        "    \"\"\"dataframe = the input dataframe\n",
        "       num = the number of examples to display\n",
        "       attribute = selected attribute. If set none then randomly display.\n",
        "       value = the value the attribute equals to. If none, randomly display num examples from dataframe. If set none then randomly display.\"\"\"\n",
        "    global entity_dict, grammar_role_dict\n",
        "    if value != None and attribute != None:\n",
        "        sub_df = dataframe.loc[dataframe[attribute] == value]\n",
        "        sub_df = sub_df.sample(frac = 1)\n",
        "    else:\n",
        "        sub_df = dataframe.sample(frac = 1)\n",
        "    sub_df = sub_df.reset_index(drop=True)\n",
        "    for i, row in sub_df.iterrows():\n",
        "        if i >= num:\n",
        "            break\n",
        "        print(f\"ID: {row['id']}, relation: {row['relation']}.\")\n",
        "        token = row['token']\n",
        "        sentence = ' '.join(token)\n",
        "        subject = ' '.join(token[row['subj_start']: row['subj_end']+1])\n",
        "        obj = ' '.join(token[row['obj_start']: row['obj_end']+1])\n",
        "        # order = row['Arg_order']\n",
        "        # head = subject if order == 0 else obj\n",
        "        # head_idx = (row['subj_start'], row['subj_end']) if order==0 else (row['obj_start'], row['obj_end'])\n",
        "        # tail_idx = (row['obj_start'], row['obj_end']) if order==0 else (row['subj_start'], row['subj_end'])\n",
        "        # tail = obj if order == 0 else subject\n",
        "        \n",
        "        # print(sentence)\n",
        "        for j in range(len(sentence)//150 + 1):                         # Wrap the text manually\n",
        "          print(sentence[150*j:150*(j+1)])\n",
        "\n",
        "        entity = row['Entity_exists']; sen_len = row['Sent_len']\n",
        "        print(f\"Subject: {subject} at {(row['subj_start'], row['subj_end'])}, object: {obj} at {(row['obj_start'], row['obj_end'])}. {entity_dict.get(entity, None)}\")\n",
        "        # print(f\"Head: {head} at {head_idx}, tail: {tail} at {tail_idx}. {entity_dict.get(entity, None)}\")\n",
        "        head_gr = row['Head_gram_role']; tail_gr = row['Tail_gram_role']        \n",
        "        print(f\"Head grammatical role: {grammar_role_dict.get(head_gr, None)}; tail grammatical role: {grammar_role_dict.get(tail_gr, None)}.\")\n",
        "        print(f\"Sentence length belongs to the {sen_len}th bin. \\n\")"
      ],
      "execution_count": null,
      "outputs": []
    },
    {
      "cell_type": "markdown",
      "metadata": {
        "id": "XIznZDJ3BO6q"
      },
      "source": [
        "## Step 1: Add some probing task properties to a single dataframe "
      ]
    },
    {
      "cell_type": "code",
      "metadata": {
        "colab": {
          "base_uri": "https://localhost:8080/"
        },
        "id": "cOUKw0n_AAu4",
        "outputId": "6dc69b25-f34d-41cc-f0fb-dc5141967f9d"
      },
      "source": [
        "# Add probing task properties to train_df\n",
        "srt = time.time()            \n",
        "Add_attribute(entity_exists[:10000], train_df, 'Entity_exists')\n",
        "print(\"entity exists\")\n",
        "Add_attribute(head_gr_df[:10000], train_df, 'Head_gram_role')\n",
        "print(\"head gram role\")\n",
        "Add_attribute(tail_gr_df[:10000], train_df, 'Tail_gram_role')\n",
        "print(\"tail gram role\")\n",
        "Add_attribute(sent_length[:10000], train_df, 'Sent_len')\n",
        "print(\"sent_len\")\n",
        "Add_attribute(arg_order[:10000], train_df, 'Arg_order')\n",
        "print(\"arg_order\")\n",
        "end = time.time()\n",
        "print(\"Time elapsed {:.1f} secs.\".format(end - srt))"
      ],
      "execution_count": null,
      "outputs": [
        {
          "output_type": "stream",
          "text": [
            "entity exists\n",
            "head gram role\n",
            "tail gram role\n",
            "sent_len\n",
            "arg_order\n",
            "Time elapsed 489.3 secs.\n"
          ],
          "name": "stdout"
        }
      ]
    },
    {
      "cell_type": "code",
      "metadata": {
        "colab": {
          "base_uri": "https://localhost:8080/",
          "height": 595
        },
        "id": "2bQQknxTBL5v",
        "outputId": "2ff36537-7b0e-41ac-836e-ce85dc1d0339"
      },
      "source": [
        "Display(train_df, 5, 'Tail_gram_role', 3)      # Randomly display 5 samples whose given attribute is given value"
      ],
      "execution_count": null,
      "outputs": [
        {
          "output_type": "display_data",
          "data": {
            "text/html": [
              "\n",
              "  <style>\n",
              "    pre {white-space: pre-wrap;}\n",
              "  </style>\n",
              "  "
            ],
            "text/plain": [
              "<IPython.core.display.HTML object>"
            ]
          },
          "metadata": {
            "tags": []
          }
        },
        {
          "output_type": "display_data",
          "data": {
            "text/html": [
              "\n",
              "  <style>\n",
              "    pre {white-space: pre-wrap;}\n",
              "  </style>\n",
              "  "
            ],
            "text/plain": [
              "<IPython.core.display.HTML object>"
            ]
          },
          "metadata": {
            "tags": []
          }
        },
        {
          "output_type": "stream",
          "text": [
            "ID: 61b3a65fb93253d7873b, relation: no_relation.\n",
            "I suppose now Scheider can compare notes once again with Bob Fosse , the director who gave him the finest role of his career , and the performance that should have won him an Academy Award - the statue that year went to Dustin Hof zz zz in Kramer vs Kra zz zz .\n",
            "Subject: Scheider at (3, 3), object: him at (17, 17). Entity exists between head and tail.\n",
            "Head grammatical role: 1, nsubj (nominal subject); tail grammatical role: 3, iobj (indirect object).\n",
            "Sentence length belongs to the 8th bin. \n",
            "\n",
            "ID: 61b3a65fb9015842004e, relation: no_relation.\n",
            "The Asian Development Bank on Thursday said it expected to offer Pakistan a $ 2 billion emergency loan for help repairing roads , bridges and other infrastructure damaged by the record flooding in the country .\n",
            "Subject: Asian Development Bank at (1, 3), object: Pakistan at (11, 11). Entity exists between head and tail.\n",
            "Head grammatical role: 1, nsubj (nominal subject); tail grammatical role: 3, iobj (indirect object).\n",
            "Sentence length belongs to the 5th bin. \n",
            "\n",
            "ID: 61b3aa9e366de009afef, relation: org:alternate_names.\n",
            "In 1995 , he co-founded the International Crisis Group -LRB- ICG -RRB- , a private , non-governmental organization designed to strengthen the international community 's ability to anticipate and prevent man-made crises .\n",
            "Subject: ICG at (10, 10), object: International Crisis Group at (6, 8). Entity doesn't exist between head and tail.\n",
            "Head grammatical role: 0, other; tail grammatical role: 3, iobj (indirect object).\n",
            "Sentence length belongs to the 4th bin. \n",
            "\n",
            "ID: 61b3a65fb9d2e8a5bca8, relation: no_relation.\n",
            "He also authorized the creation two years ago of Dillon Read Capital Management , an in-house hedge fund , and gave John P. Costas , then head of UBS 's investment bank , $ 3.5 billion to set it up .\n",
            "Subject: He at (0, 0), object: John P. Costas at (21, 23). Entity exists between head and tail.\n",
            "Head grammatical role: 1, nsubj (nominal subject); tail grammatical role: 3, iobj (indirect object).\n",
            "Sentence length belongs to the 6th bin. \n",
            "\n",
            "ID: 61b3a65fb985373a6825, relation: no_relation.\n",
            "For his work in cartography and photography , the Royal Geographical Society awarded him its Cherry Kearton Medal in 1988 .\n",
            "Subject: his at (1, 1), object: him at (13, 13). Entity exists between head and tail.\n",
            "Head grammatical role: 0, other; tail grammatical role: 3, iobj (indirect object).\n",
            "Sentence length belongs to the 1th bin. \n",
            "\n"
          ],
          "name": "stdout"
        }
      ]
    },
    {
      "cell_type": "code",
      "metadata": {
        "colab": {
          "base_uri": "https://localhost:8080/",
          "height": 595
        },
        "id": "dyMqFo5GG7g2",
        "outputId": "df9cf8cd-3253-4475-da5d-5d137f648974"
      },
      "source": [
        "Display(train_df[:10000], 5)     # Randomly display 5 samples"
      ],
      "execution_count": null,
      "outputs": [
        {
          "output_type": "display_data",
          "data": {
            "text/html": [
              "\n",
              "  <style>\n",
              "    pre {white-space: pre-wrap;}\n",
              "  </style>\n",
              "  "
            ],
            "text/plain": [
              "<IPython.core.display.HTML object>"
            ]
          },
          "metadata": {
            "tags": []
          }
        },
        {
          "output_type": "display_data",
          "data": {
            "text/html": [
              "\n",
              "  <style>\n",
              "    pre {white-space: pre-wrap;}\n",
              "  </style>\n",
              "  "
            ],
            "text/plain": [
              "<IPython.core.display.HTML object>"
            ]
          },
          "metadata": {
            "tags": []
          }
        },
        {
          "output_type": "stream",
          "text": [
            "ID: 61b3a65fb9a02079219a, relation: no_relation.\n",
            "It is notable that Zubaydah is not one of those charged on Monday , despite his alleged connection to the September 11 attacks .\n",
            "Subject: his at (15, 15), object: one at (7, 7). Entity exists between head and tail.\n",
            "Head grammatical role: 0, other; tail grammatical role: 0, other.\n",
            "Sentence length belongs to the 2th bin. \n",
            "\n",
            "ID: 61b3a5c8c9129922723d, relation: org:founded_by.\n",
            "1999 : President Lee Teng-hui confers the Order of the Brilliant Star with a Violet Grand Cordon on Samuel Noordhoff , founder of the Noordhoff Craniofacial Foundation , for his devoted service to local citizens over the past four decades .\n",
            "Subject: Noordhoff Craniofacial Foundation at (24, 26), object: Samuel Noordhoff at (18, 19). Entity doesn't exist between head and tail.\n",
            "Head grammatical role: 0, other; tail grammatical role: 0, other.\n",
            "Sentence length belongs to the 6th bin. \n",
            "\n",
            "ID: 61b3a65fb91d549b91f5, relation: no_relation.\n",
            "JetBlue has already matched Virgin America fares on California routes and will monitor amenities offered by its newest rival , said JetBlue spokesman Bryan Baldwin .\n",
            "Subject: Bryan Baldwin at (23, 24), object: California at (8, 8). Entity exists between head and tail.\n",
            "Head grammatical role: 1, nsubj (nominal subject); tail grammatical role: 0, other.\n",
            "Sentence length belongs to the 2th bin. \n",
            "\n",
            "ID: 61b3a5f2e81c18479e78, relation: org:top_members/employees.\n",
            "He and his PNM , which has dominated politics for half a century , faces a tough battle against a five-party coalition , led by Kamla Persad-Bissessar of the main opposition United National Congress -LRB- UNC -RRB- .\n",
            "Subject: United National Congress at (31, 33), object: Kamla Persad-Bissessar at (25, 26). Entity doesn't exist between head and tail.\n",
            "Head grammatical role: 0, other; tail grammatical role: 0, other.\n",
            "Sentence length belongs to the 5th bin. \n",
            "\n",
            "ID: 61b3a65fb91fe1ab5a1d, relation: no_relation.\n",
            "Standings : Cucuta 20 ; Cali 18 ; Nacional , Chico 16 ; Bucaramanga 15 ; Santa Fe 14 ; Millonarios , Junior , Pasto 13 ; Medellin 12 ; Tolima 11 ; Huila 10 ; Caldas 9 ; Cartagena 8 ; America , Quindio , La Equidad 7 ; Pereira 5 .\n",
            "Subject: Millonarios at (20, 20), object: Pereira at (50, 50). Entity exists between head and tail.\n",
            "Head grammatical role: 0, other; tail grammatical role: 0, other.\n",
            "Sentence length belongs to the 8th bin. \n",
            "\n"
          ],
          "name": "stdout"
        }
      ]
    },
    {
      "cell_type": "markdown",
      "metadata": {
        "id": "lsHOC_WH2eDm"
      },
      "source": [
        "## Step 2: User Interface for Labeling (manually input)\n"
      ]
    },
    {
      "cell_type": "code",
      "metadata": {
        "id": "lRcAj0u72mU6"
      },
      "source": [
        "def annotate(dataframe, start, end):\n",
        "     # Main method to annotate data.\n",
        "     # columns: ['index', 'id', 'docid', 'relation', 'token', 'subj_start', 'subj_end',\n",
        "     #  'obj_start', 'obj_end', 'subj_type', 'obj_type', 'stanford_pos',\n",
        "     #  'stanford_ner', 'stanford_head', 'stanford_deprel', 'Entity_exists',\n",
        "     #  'Head_gram_role', 'Tail_gram_role', 'Sent_len', 'Arg_order']\n",
        "     # dataframe: TACRED dataframe with data to be labeled.\n",
        "     # start: index of the start sentence.\n",
        "     # end: index of the end sentence.\n",
        "    global entity_dict, grammar_role_dict\n",
        "    print(\"5 for appositional modifier, 6 for noun compound modifier, 0 for neither.\")\n",
        "    for i in range(start, end):\n",
        "        print(f\"\\n Iteration {i}\")\n",
        "        row = dataframe.iloc[i]\n",
        "        print(f\"ID: {row['id']}, relation: {row['relation']}.\")\n",
        "        token = row['token']\n",
        "        sentence = ' '.join(token)\n",
        "        subject = ' '.join(token[row['subj_start']: row['subj_end']+1])\n",
        "        obj = ' '.join(token[row['obj_start']: row['obj_end']+1])\n",
        "        for j in range(len(sentence)//150 + 1):                         # Wrap the text manually\n",
        "          print(sentence[150*j:150*(j+1)])\n",
        "        head_gr = row['Head_gram_role']; tail_gr = row['Tail_gram_role']\n",
        "        entity = row['Entity_exists']\n",
        "        print(f\"Subject: {subject} at {(row['subj_start'], row['subj_end'])}, object: {obj} at {(row['obj_start'], row['obj_end'])}. {entity_dict.get(entity, None)}\")\n",
        "        print(f\"Head grammatical role: {grammar_role_dict.get(head_gr, None)}, tail grammatical role: {grammar_role_dict.get(tail_gr, None)}.\")\n",
        "        print(f\"{entity_dict.get(entity, 'Entity info unknown.')}\")\n",
        "        head_add = input(\"Additional grammatical role for the head argument? \\n\")\n",
        "        tail_add = input(\"Additional grammatical role for the tail argument? \\n\")\n",
        "        dataframe.loc[i, 'Head_add'] = int(head_add)\n",
        "        dataframe.loc[i, 'Tail_add'] = int(tail_add)\n",
        "        if i%5 == 0:\n",
        "          output.clear()\n",
        "          print(\"5 for appositional modifier, 6 for noun compound modifier, 0 for neither.\")\n",
        "    print(\"End of loop.\")\n",
        "\n",
        "def new_annotate(dataframe, start, end):\n",
        "    \"\"\"New method to annotate data, which shall be used for dataframe loaded from excel.\n",
        "       columns: ['index', 'id', 'relation', 'Head_gram_role', 'Tail_gram_role', 'sentence', 'subject', 'object', 'Head_add', 'Tail_add']\n",
        "       dataframe: TACRED dataframe with data to be labeled.\n",
        "       start: index of the start sentence.\n",
        "       end: index of the end sentence.\"\"\"\n",
        "    print(\"5 for appositional modifier, 6 for noun compound modifier, 0 for neither.\")\n",
        "    for i in range(start, end):\n",
        "        print(f\"\\n Iteration {i}\")\n",
        "        row = dataframe.iloc[i]\n",
        "        print(f\"ID: {row['id']}, relation: {row['relation']}.\")\n",
        "        sentence = row['sentence']\n",
        "        subject = row['subject']\n",
        "        obj = row['object']\n",
        "        for j in range(len(sentence)//150 + 1):                         # Wrap the text manually\n",
        "          print(sentence[150*j:150*(j+1)])\n",
        "        head_gr = row['Head_gram_role']; tail_gr = row['Tail_gram_role']\n",
        "        print(f\"Subject: {subject}, object: {obj}.\")\n",
        "        print(f\"Head grammatical role: {head_gr}, tail grammatical role: {tail_gr}.\")\n",
        "        head_add = input(\"Additional grammatical role for the head argument? \\n\")\n",
        "        tail_add = input(\"Additional grammatical role for the tail argument? \\n\")\n",
        "        dataframe.loc[i, 'Head_add'] = int(head_add)\n",
        "        dataframe.loc[i, 'Tail_add'] = int(tail_add)\n",
        "        if i%5 == 0:\n",
        "          output.clear()\n",
        "          print(\"5 for appositional modifier, 6 for noun compound modifier, 0 for neither.\")\n",
        "    print(\"End of loop.\")\n",
        "\n",
        "def convert(tr_df, start, end):\n",
        "  \"\"\"Convert train dataframe to a simpler dataframe, to be read and written directly.\n",
        "     tr_df: the train dataframe to be converted.\n",
        "     start: index of the start sentence.\n",
        "     end: index of the end sentence.\"\"\"\n",
        "  global grammar_role_dict\n",
        "  out_df = tr_df[['index', 'id', 'relation']][start: end]\n",
        "  out_df['Head_gram_role'] = ''; out_df['Tail_gram_role'] = ''; out_df['sentence'] = ''\n",
        "  out_df['subject'] = ''; out_df['object'] = ''\n",
        "  out_df['Head_add'] = ''; out_df['Tail_add'] = ''\n",
        "  for i in range(start, end):\n",
        "    row = tr_df.iloc[i]\n",
        "    tokens = row['token']\n",
        "    sentence = ' '.join(tokens)\n",
        "    out_df.loc[i, 'sentence'] = sentence\n",
        "    out_df.loc[i, 'Head_gram_role'] = grammar_role_dict.get(row['Head_gram_role'], 'NA')\n",
        "    out_df.loc[i, 'Tail_gram_role'] = grammar_role_dict.get(row['Tail_gram_role'], 'NA')\n",
        "    subject = ' '.join(tokens[row['subj_start']: row['subj_end']+1]) + \" at\" + str((row['subj_start'], row['subj_end']+1))\n",
        "    obj = ' '.join(tokens[row['obj_start']: row['obj_end']+1]) + \" at\" + str((row['obj_start'], row['obj_end']+1))\n",
        "    out_df.loc[i, 'subject'] = subject\n",
        "    out_df.loc[i, 'object'] = obj\n",
        "  print(\"Convert complete.\")\n",
        "  return out_df"
      ],
      "execution_count": null,
      "outputs": []
    },
    {
      "cell_type": "code",
      "metadata": {
        "colab": {
          "base_uri": "https://localhost:8080/",
          "height": 204
        },
        "id": "i86P-OAnecrH",
        "outputId": "0ba1bef1-6e6d-43ef-d123-7adcb1756636"
      },
      "source": [
        "annotate(train_df, 3001, 3010)"
      ],
      "execution_count": null,
      "outputs": [
        {
          "output_type": "display_data",
          "data": {
            "text/html": [
              "\n",
              "  <style>\n",
              "    pre {white-space: pre-wrap;}\n",
              "  </style>\n",
              "  "
            ],
            "text/plain": [
              "<IPython.core.display.HTML object>"
            ]
          },
          "metadata": {
            "tags": []
          }
        },
        {
          "output_type": "display_data",
          "data": {
            "text/html": [
              "\n",
              "  <style>\n",
              "    pre {white-space: pre-wrap;}\n",
              "  </style>\n",
              "  "
            ],
            "text/plain": [
              "<IPython.core.display.HTML object>"
            ]
          },
          "metadata": {
            "tags": []
          }
        },
        {
          "output_type": "stream",
          "text": [
            "5 for appositional modifier, 6 for compound modifier, 0 for neither.\n",
            "\n",
            " Iteration 3001\n",
            "ID: 61b3a65fb992d6b51be2, relation: per:title.\n",
            "Others included Sir George Young , chairman of the Standards and Privileges Committee , and Sir Stuart Bell , who is one of the senior MPs reviewing parliamentary expenses .\n",
            "Subject: George Young at (3, 4), object: chairman at (6, 6). Entity doesn't exist between head and tail.\n",
            "Head grammatical role: 2, dobj (direct object), tail grammatical role: 0, other.\n",
            "Entity doesn't exist between head and tail.\n",
            "Additional grammatical role for the head argument? \n",
            "5\n"
          ],
          "name": "stdout"
        }
      ]
    },
    {
      "cell_type": "code",
      "metadata": {
        "id": "VmNfIYt9GyCo"
      },
      "source": [
        "# Display your work\n",
        "print(train_df[['id', 'Head_add', 'Tail_add']][0:100])"
      ],
      "execution_count": null,
      "outputs": []
    },
    {
      "cell_type": "markdown",
      "metadata": {
        "id": "LOFqMiHtd5Bp"
      },
      "source": [
        "## Step 3: Output the Data\n",
        "\n"
      ]
    },
    {
      "cell_type": "markdown",
      "metadata": {
        "id": "OgFqQY_P5Awt"
      },
      "source": [
        "Attention: We still need to decide how to divide the data, so we don't do repetitve work. Be careful about exporting the data for now, to avoid overwriting others' work.\n"
      ]
    },
    {
      "cell_type": "code",
      "metadata": {
        "id": "WTaOiZQlectj"
      },
      "source": [
        "# change to your own file\n",
        "# train_df[1500:3000].to_excel(r'labeled_your_name.xlsx', index=False)\n",
        "# !cp labeled_your_name.xlsx '/content/drive/My Drive/685_project/REval/'"
      ],
      "execution_count": null,
      "outputs": []
    },
    {
      "cell_type": "markdown",
      "metadata": {
        "id": "zFAymX_M6ZG8"
      },
      "source": [
        "If your working file only contains these columns: ['index', 'id', 'relation', 'Head_gram_role', 'Tail_gram_role', 'sentence', 'subject', 'object', 'Head_add', 'Tail_add'], you can directly load data and annotate from here:"
      ]
    },
    {
      "cell_type": "code",
      "metadata": {
        "id": "pgSucrBmjrzs"
      },
      "source": [
        "## Next time you label the data, you can directly read the excel file:\n",
        "# train_df_KL = pd.read_excel('/content/drive/My Drive/685_project/REval/KL_df.xlsx')"
      ],
      "execution_count": null,
      "outputs": []
    },
    {
      "cell_type": "code",
      "metadata": {
        "id": "KPHyByd68xu7"
      },
      "source": [
        "# new_annotate(train_df_KL, 200, 220)"
      ],
      "execution_count": null,
      "outputs": []
    },
    {
      "cell_type": "markdown",
      "metadata": {
        "id": "wjKmtx3c6rLS"
      },
      "source": [
        "If your working file has many more columns, convert them into a simpler dataframe"
      ]
    },
    {
      "cell_type": "code",
      "metadata": {
        "id": "SNy3Gxhs6z-m"
      },
      "source": [
        "# train_df_Bob = pd.read_excel('/content/drive/My Drive/685_project/REval/labeled_Bob.xlsx')\n",
        "# tr_df_Bob = convert(train_df_Bob, 0, len(train_df_Bob))"
      ],
      "execution_count": null,
      "outputs": []
    },
    {
      "cell_type": "code",
      "metadata": {
        "id": "bTQtPCsD89t9"
      },
      "source": [
        "# new_annotate(tr_df_Bob, 1000, 1020)"
      ],
      "execution_count": null,
      "outputs": []
    }
  ]
}